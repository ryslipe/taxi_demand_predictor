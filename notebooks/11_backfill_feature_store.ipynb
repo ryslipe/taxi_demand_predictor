{
 "cells": [
  {
   "cell_type": "code",
   "execution_count": 97,
   "metadata": {},
   "outputs": [],
   "source": [
    "import hopsworks"
   ]
  },
  {
   "cell_type": "code",
   "execution_count": 98,
   "metadata": {},
   "outputs": [],
   "source": [
    "HOPSWORKS_PROJECT_NAME = 'taxi_demand_rs'"
   ]
  },
  {
   "cell_type": "code",
   "execution_count": 99,
   "metadata": {},
   "outputs": [],
   "source": [
    "import os\n",
    "from dotenv import load_dotenv\n",
    "from src.paths import PARENT_DIR\n",
    "\n",
    "# load key-value pairs from .env file located in the parent directory\n",
    "load_dotenv(PARENT_DIR / '.env')\n",
    "\n",
    "HOPSWORKS_API_KEY = os.environ['HOPSWORKS_API_KEY']"
   ]
  },
  {
   "cell_type": "markdown",
   "metadata": {},
   "source": [
    "I want to only use data from 2023 onward since I was getting a message about hitting a row limit with the data. We will see if this causes any issues to the model."
   ]
  },
  {
   "cell_type": "code",
   "execution_count": 100,
   "metadata": {},
   "outputs": [
    {
     "name": "stdout",
     "output_type": "stream",
     "text": [
      "Downloading raw data from 2023 to 2024\n",
      "File 2023-01 was already in local storage\n",
      "File 2023-02 was already in local storage\n",
      "File 2023-03 was already in local storage\n",
      "File 2023-04 was already in local storage\n",
      "File 2023-05 was already in local storage\n",
      "File 2023-06 was already in local storage\n",
      "File 2023-07 was already in local storage\n",
      "File 2023-08 was already in local storage\n",
      "File 2023-09 was already in local storage\n",
      "File 2023-10 was already in local storage\n",
      "File 2023-11 was already in local storage\n",
      "File 2023-12 was already in local storage\n",
      "File 2024-01 was already in local storage\n",
      "File 2024-02 was already in local storage\n",
      "File 2024-03 was already in local storage\n",
      "File 2024-04 was already in local storage\n",
      "File 2024-05 was already in local storage\n",
      "File 2024-06 was already in local storage\n",
      "File 2024-07 was already in local storage\n",
      "Downloading file 2024-08\n",
      "2024-08 file is not available\n",
      "Downloading file 2024-09\n",
      "2024-09 file is not available\n",
      "Downloading file 2024-10\n",
      "2024-10 file is not available\n",
      "Downloading file 2024-11\n",
      "2024-11 file is not available\n",
      "Downloading file 2024-12\n",
      "2024-12 file is not available\n"
     ]
    }
   ],
   "source": [
    "from datetime import datetime\n",
    "import pandas as pd\n",
    "from src.data import load_raw_data\n",
    "\n",
    "from_year = 2023\n",
    "to_year = datetime.now().year\n",
    "print(f'Downloading raw data from {from_year} to {to_year}')\n",
    "\n",
    "rides = pd.DataFrame()\n",
    "for year in range(from_year, to_year+1):\n",
    "    \n",
    "    # download data for the whole year\n",
    "    rides_one_year = load_raw_data(year)\n",
    "    \n",
    "    # append rows\n",
    "    rides = pd.concat([rides, rides_one_year])"
   ]
  },
  {
   "cell_type": "markdown",
   "metadata": {},
   "source": [
    "Now we have all rides from the start of 2023 until the end of July 2024. This is because the site we are getting data from has not uploaded any data past this date."
   ]
  },
  {
   "cell_type": "code",
   "execution_count": 101,
   "metadata": {},
   "outputs": [
    {
     "data": {
      "text/html": [
       "<div>\n",
       "<style scoped>\n",
       "    .dataframe tbody tr th:only-of-type {\n",
       "        vertical-align: middle;\n",
       "    }\n",
       "\n",
       "    .dataframe tbody tr th {\n",
       "        vertical-align: top;\n",
       "    }\n",
       "\n",
       "    .dataframe thead th {\n",
       "        text-align: right;\n",
       "    }\n",
       "</style>\n",
       "<table border=\"1\" class=\"dataframe\">\n",
       "  <thead>\n",
       "    <tr style=\"text-align: right;\">\n",
       "      <th></th>\n",
       "      <th>pickup_datetime</th>\n",
       "      <th>pickup_location_id</th>\n",
       "    </tr>\n",
       "  </thead>\n",
       "  <tbody>\n",
       "    <tr>\n",
       "      <th>0</th>\n",
       "      <td>2023-01-01 00:32:10</td>\n",
       "      <td>161</td>\n",
       "    </tr>\n",
       "    <tr>\n",
       "      <th>1</th>\n",
       "      <td>2023-01-01 00:55:08</td>\n",
       "      <td>43</td>\n",
       "    </tr>\n",
       "    <tr>\n",
       "      <th>2</th>\n",
       "      <td>2023-01-01 00:25:04</td>\n",
       "      <td>48</td>\n",
       "    </tr>\n",
       "    <tr>\n",
       "      <th>3</th>\n",
       "      <td>2023-01-01 00:03:48</td>\n",
       "      <td>138</td>\n",
       "    </tr>\n",
       "    <tr>\n",
       "      <th>4</th>\n",
       "      <td>2023-01-01 00:10:29</td>\n",
       "      <td>107</td>\n",
       "    </tr>\n",
       "    <tr>\n",
       "      <th>...</th>\n",
       "      <td>...</td>\n",
       "      <td>...</td>\n",
       "    </tr>\n",
       "    <tr>\n",
       "      <th>3076898</th>\n",
       "      <td>2024-07-31 23:12:00</td>\n",
       "      <td>243</td>\n",
       "    </tr>\n",
       "    <tr>\n",
       "      <th>3076899</th>\n",
       "      <td>2024-07-31 23:10:34</td>\n",
       "      <td>170</td>\n",
       "    </tr>\n",
       "    <tr>\n",
       "      <th>3076900</th>\n",
       "      <td>2024-07-31 23:32:00</td>\n",
       "      <td>197</td>\n",
       "    </tr>\n",
       "    <tr>\n",
       "      <th>3076901</th>\n",
       "      <td>2024-07-31 23:32:52</td>\n",
       "      <td>230</td>\n",
       "    </tr>\n",
       "    <tr>\n",
       "      <th>3076902</th>\n",
       "      <td>2024-07-31 23:10:23</td>\n",
       "      <td>48</td>\n",
       "    </tr>\n",
       "  </tbody>\n",
       "</table>\n",
       "<p>61718296 rows × 2 columns</p>\n",
       "</div>"
      ],
      "text/plain": [
       "            pickup_datetime  pickup_location_id\n",
       "0       2023-01-01 00:32:10                 161\n",
       "1       2023-01-01 00:55:08                  43\n",
       "2       2023-01-01 00:25:04                  48\n",
       "3       2023-01-01 00:03:48                 138\n",
       "4       2023-01-01 00:10:29                 107\n",
       "...                     ...                 ...\n",
       "3076898 2024-07-31 23:12:00                 243\n",
       "3076899 2024-07-31 23:10:34                 170\n",
       "3076900 2024-07-31 23:32:00                 197\n",
       "3076901 2024-07-31 23:32:52                 230\n",
       "3076902 2024-07-31 23:10:23                  48\n",
       "\n",
       "[61718296 rows x 2 columns]"
      ]
     },
     "execution_count": 101,
     "metadata": {},
     "output_type": "execute_result"
    }
   ],
   "source": [
    "rides"
   ]
  },
  {
   "cell_type": "markdown",
   "metadata": {},
   "source": [
    "We have 61 million rides now."
   ]
  },
  {
   "cell_type": "markdown",
   "metadata": {},
   "source": [
    "Here is where things get just a little bit tricky. This is where all future data will become synthetic data that is actually just data from a year ago. The first step is to add in the August 2024 data which will be the August 2023 data."
   ]
  },
  {
   "cell_type": "code",
   "execution_count": 102,
   "metadata": {},
   "outputs": [
    {
     "name": "stdout",
     "output_type": "stream",
     "text": [
      "Fetching synthetic data from 2024-08-01 00:00:00+00:00 until 2024-09-11 20:00:00+00:00\n"
     ]
    }
   ],
   "source": [
    "# create to and from dates starting with August\n",
    "august = pd.to_datetime(\"2024-08-01 00:00:00+00:00\")\n",
    "\n",
    "# til date is Sep 11th\n",
    "sep = pd.to_datetime('2024-09-11 20:00:00+00:00')\n",
    "\n",
    "print(f'Fetching synthetic data from {august} until {sep}')\n"
   ]
  },
  {
   "cell_type": "code",
   "execution_count": 103,
   "metadata": {},
   "outputs": [],
   "source": [
    "from src.data import load_raw_data\n",
    "from datetime import datetime, timedelta\n",
    "import pandas as pd\n",
    "import pytz\n",
    "\n",
    "def fetch_ride_events_from_data_warehouse(\n",
    "    from_date: datetime,\n",
    "    to_date: datetime\n",
    ") -> pd.DataFrame:\n",
    "    \"\"\"\n",
    "    This function is used to simulate production data by sampling historical data\n",
    "    from 52 weeks ago (i.e. 1 year)\n",
    "    \"\"\"\n",
    "    # Ensure from_date and to_date are timezone-aware\n",
    "    from_date = from_date.replace(tzinfo=pytz.UTC)\n",
    "    to_date = to_date.replace(tzinfo=pytz.UTC)\n",
    "\n",
    "    from_date_ = pd.Timestamp(from_date - timedelta(days=7*52))\n",
    "    to_date_ = pd.Timestamp(to_date - timedelta(days=7*52))\n",
    "    print(f'Fetching ride events from {from_date} to {to_date}')\n",
    "\n",
    "    if (from_date_.year == to_date_.year) and (from_date_.month == to_date_.month):\n",
    "        # download 1 file of data only\n",
    "        rides = load_raw_data(year=from_date_.year, months=from_date_.month)\n",
    "        rides['pickup_datetime'] = pd.to_datetime(rides['pickup_datetime'], utc=True)\n",
    "        rides = rides[rides.pickup_datetime >= from_date_]\n",
    "        rides = rides[rides.pickup_datetime < to_date_]\n",
    "    else:\n",
    "        # download 2 files from website\n",
    "        rides = load_raw_data(year=from_date_.year, months=from_date_.month)\n",
    "        rides['pickup_datetime'] = pd.to_datetime(rides['pickup_datetime'], utc=True)\n",
    "        rides = rides[rides.pickup_datetime >= from_date_]\n",
    "\n",
    "        rides_2 = load_raw_data(year=to_date_.year, months=to_date_.month)\n",
    "        rides_2['pickup_datetime'] = pd.to_datetime(rides_2['pickup_datetime'], utc=True)\n",
    "        rides_2 = rides_2[rides_2.pickup_datetime < to_date_]\n",
    "\n",
    "        rides = pd.concat([rides, rides_2])\n",
    "\n",
    "    # shift the pickup_datetime back 1 year ahead, to simulate production data\n",
    "    # using its 7*52-days-ago value\n",
    "    rides['pickup_datetime'] = rides['pickup_datetime'] + timedelta(days=7*52)\n",
    "\n",
    "    rides.sort_values(by=['pickup_location_id', 'pickup_datetime'], inplace=True)\n",
    "\n",
    "    return rides"
   ]
  },
  {
   "cell_type": "code",
   "execution_count": 104,
   "metadata": {},
   "outputs": [
    {
     "name": "stdout",
     "output_type": "stream",
     "text": [
      "Fetching ride events from 2024-08-01 00:00:00+00:00 to 2024-09-11 20:00:00+00:00\n",
      "File 2023-08 was already in local storage\n",
      "File 2023-09 was already in local storage\n"
     ]
    },
    {
     "data": {
      "text/html": [
       "<div>\n",
       "<style scoped>\n",
       "    .dataframe tbody tr th:only-of-type {\n",
       "        vertical-align: middle;\n",
       "    }\n",
       "\n",
       "    .dataframe tbody tr th {\n",
       "        vertical-align: top;\n",
       "    }\n",
       "\n",
       "    .dataframe thead th {\n",
       "        text-align: right;\n",
       "    }\n",
       "</style>\n",
       "<table border=\"1\" class=\"dataframe\">\n",
       "  <thead>\n",
       "    <tr style=\"text-align: right;\">\n",
       "      <th></th>\n",
       "      <th>pickup_datetime</th>\n",
       "      <th>pickup_location_id</th>\n",
       "    </tr>\n",
       "  </thead>\n",
       "  <tbody>\n",
       "    <tr>\n",
       "      <th>197584</th>\n",
       "      <td>2024-08-01 01:03:05+00:00</td>\n",
       "      <td>1</td>\n",
       "    </tr>\n",
       "    <tr>\n",
       "      <th>199508</th>\n",
       "      <td>2024-08-01 05:11:46+00:00</td>\n",
       "      <td>1</td>\n",
       "    </tr>\n",
       "    <tr>\n",
       "      <th>201047</th>\n",
       "      <td>2024-08-01 06:05:50+00:00</td>\n",
       "      <td>1</td>\n",
       "    </tr>\n",
       "    <tr>\n",
       "      <th>201048</th>\n",
       "      <td>2024-08-01 06:07:13+00:00</td>\n",
       "      <td>1</td>\n",
       "    </tr>\n",
       "    <tr>\n",
       "      <th>219670</th>\n",
       "      <td>2024-08-01 11:02:05+00:00</td>\n",
       "      <td>1</td>\n",
       "    </tr>\n",
       "    <tr>\n",
       "      <th>...</th>\n",
       "      <td>...</td>\n",
       "      <td>...</td>\n",
       "    </tr>\n",
       "    <tr>\n",
       "      <th>2758685</th>\n",
       "      <td>2024-09-11 19:09:20+00:00</td>\n",
       "      <td>265</td>\n",
       "    </tr>\n",
       "    <tr>\n",
       "      <th>1282168</th>\n",
       "      <td>2024-09-11 19:25:23+00:00</td>\n",
       "      <td>265</td>\n",
       "    </tr>\n",
       "    <tr>\n",
       "      <th>1282959</th>\n",
       "      <td>2024-09-11 19:28:01+00:00</td>\n",
       "      <td>265</td>\n",
       "    </tr>\n",
       "    <tr>\n",
       "      <th>1279910</th>\n",
       "      <td>2024-09-11 19:47:02+00:00</td>\n",
       "      <td>265</td>\n",
       "    </tr>\n",
       "    <tr>\n",
       "      <th>1283488</th>\n",
       "      <td>2024-09-11 19:48:03+00:00</td>\n",
       "      <td>265</td>\n",
       "    </tr>\n",
       "  </tbody>\n",
       "</table>\n",
       "<p>3960804 rows × 2 columns</p>\n",
       "</div>"
      ],
      "text/plain": [
       "                  pickup_datetime  pickup_location_id\n",
       "197584  2024-08-01 01:03:05+00:00                   1\n",
       "199508  2024-08-01 05:11:46+00:00                   1\n",
       "201047  2024-08-01 06:05:50+00:00                   1\n",
       "201048  2024-08-01 06:07:13+00:00                   1\n",
       "219670  2024-08-01 11:02:05+00:00                   1\n",
       "...                           ...                 ...\n",
       "2758685 2024-09-11 19:09:20+00:00                 265\n",
       "1282168 2024-09-11 19:25:23+00:00                 265\n",
       "1282959 2024-09-11 19:28:01+00:00                 265\n",
       "1279910 2024-09-11 19:47:02+00:00                 265\n",
       "1283488 2024-09-11 19:48:03+00:00                 265\n",
       "\n",
       "[3960804 rows x 2 columns]"
      ]
     },
     "execution_count": 104,
     "metadata": {},
     "output_type": "execute_result"
    }
   ],
   "source": [
    "rides_synthetic = fetch_ride_events_from_data_warehouse(august, sep)\n",
    "rides_synthetic"
   ]
  },
  {
   "cell_type": "code",
   "execution_count": 105,
   "metadata": {},
   "outputs": [
    {
     "data": {
      "text/plain": [
       "61718296"
      ]
     },
     "execution_count": 105,
     "metadata": {},
     "output_type": "execute_result"
    }
   ],
   "source": [
    "len(rides)"
   ]
  },
  {
   "cell_type": "code",
   "execution_count": 106,
   "metadata": {},
   "outputs": [
    {
     "data": {
      "text/html": [
       "<div>\n",
       "<style scoped>\n",
       "    .dataframe tbody tr th:only-of-type {\n",
       "        vertical-align: middle;\n",
       "    }\n",
       "\n",
       "    .dataframe tbody tr th {\n",
       "        vertical-align: top;\n",
       "    }\n",
       "\n",
       "    .dataframe thead th {\n",
       "        text-align: right;\n",
       "    }\n",
       "</style>\n",
       "<table border=\"1\" class=\"dataframe\">\n",
       "  <thead>\n",
       "    <tr style=\"text-align: right;\">\n",
       "      <th></th>\n",
       "      <th>pickup_datetime</th>\n",
       "      <th>pickup_location_id</th>\n",
       "    </tr>\n",
       "  </thead>\n",
       "  <tbody>\n",
       "    <tr>\n",
       "      <th>0</th>\n",
       "      <td>2023-01-01 00:32:10</td>\n",
       "      <td>161</td>\n",
       "    </tr>\n",
       "    <tr>\n",
       "      <th>1</th>\n",
       "      <td>2023-01-01 00:55:08</td>\n",
       "      <td>43</td>\n",
       "    </tr>\n",
       "    <tr>\n",
       "      <th>2</th>\n",
       "      <td>2023-01-01 00:25:04</td>\n",
       "      <td>48</td>\n",
       "    </tr>\n",
       "    <tr>\n",
       "      <th>3</th>\n",
       "      <td>2023-01-01 00:03:48</td>\n",
       "      <td>138</td>\n",
       "    </tr>\n",
       "    <tr>\n",
       "      <th>4</th>\n",
       "      <td>2023-01-01 00:10:29</td>\n",
       "      <td>107</td>\n",
       "    </tr>\n",
       "    <tr>\n",
       "      <th>...</th>\n",
       "      <td>...</td>\n",
       "      <td>...</td>\n",
       "    </tr>\n",
       "    <tr>\n",
       "      <th>3076898</th>\n",
       "      <td>2024-07-31 23:12:00</td>\n",
       "      <td>243</td>\n",
       "    </tr>\n",
       "    <tr>\n",
       "      <th>3076899</th>\n",
       "      <td>2024-07-31 23:10:34</td>\n",
       "      <td>170</td>\n",
       "    </tr>\n",
       "    <tr>\n",
       "      <th>3076900</th>\n",
       "      <td>2024-07-31 23:32:00</td>\n",
       "      <td>197</td>\n",
       "    </tr>\n",
       "    <tr>\n",
       "      <th>3076901</th>\n",
       "      <td>2024-07-31 23:32:52</td>\n",
       "      <td>230</td>\n",
       "    </tr>\n",
       "    <tr>\n",
       "      <th>3076902</th>\n",
       "      <td>2024-07-31 23:10:23</td>\n",
       "      <td>48</td>\n",
       "    </tr>\n",
       "  </tbody>\n",
       "</table>\n",
       "<p>61718296 rows × 2 columns</p>\n",
       "</div>"
      ],
      "text/plain": [
       "            pickup_datetime  pickup_location_id\n",
       "0       2023-01-01 00:32:10                 161\n",
       "1       2023-01-01 00:55:08                  43\n",
       "2       2023-01-01 00:25:04                  48\n",
       "3       2023-01-01 00:03:48                 138\n",
       "4       2023-01-01 00:10:29                 107\n",
       "...                     ...                 ...\n",
       "3076898 2024-07-31 23:12:00                 243\n",
       "3076899 2024-07-31 23:10:34                 170\n",
       "3076900 2024-07-31 23:32:00                 197\n",
       "3076901 2024-07-31 23:32:52                 230\n",
       "3076902 2024-07-31 23:10:23                  48\n",
       "\n",
       "[61718296 rows x 2 columns]"
      ]
     },
     "execution_count": 106,
     "metadata": {},
     "output_type": "execute_result"
    }
   ],
   "source": [
    "rides"
   ]
  },
  {
   "cell_type": "code",
   "execution_count": 108,
   "metadata": {},
   "outputs": [],
   "source": [
    "# Convert pickup_datetime to datetime and make it timezone-aware\n",
    "rides['pickup_datetime'] = pd.to_datetime(rides['pickup_datetime']).dt.tz_localize('UTC')"
   ]
  },
  {
   "cell_type": "code",
   "execution_count": 109,
   "metadata": {},
   "outputs": [
    {
     "data": {
      "text/html": [
       "<div>\n",
       "<style scoped>\n",
       "    .dataframe tbody tr th:only-of-type {\n",
       "        vertical-align: middle;\n",
       "    }\n",
       "\n",
       "    .dataframe tbody tr th {\n",
       "        vertical-align: top;\n",
       "    }\n",
       "\n",
       "    .dataframe thead th {\n",
       "        text-align: right;\n",
       "    }\n",
       "</style>\n",
       "<table border=\"1\" class=\"dataframe\">\n",
       "  <thead>\n",
       "    <tr style=\"text-align: right;\">\n",
       "      <th></th>\n",
       "      <th>pickup_datetime</th>\n",
       "      <th>pickup_location_id</th>\n",
       "    </tr>\n",
       "  </thead>\n",
       "  <tbody>\n",
       "    <tr>\n",
       "      <th>0</th>\n",
       "      <td>2023-01-01 00:32:10+00:00</td>\n",
       "      <td>161</td>\n",
       "    </tr>\n",
       "    <tr>\n",
       "      <th>1</th>\n",
       "      <td>2023-01-01 00:55:08+00:00</td>\n",
       "      <td>43</td>\n",
       "    </tr>\n",
       "    <tr>\n",
       "      <th>2</th>\n",
       "      <td>2023-01-01 00:25:04+00:00</td>\n",
       "      <td>48</td>\n",
       "    </tr>\n",
       "    <tr>\n",
       "      <th>3</th>\n",
       "      <td>2023-01-01 00:03:48+00:00</td>\n",
       "      <td>138</td>\n",
       "    </tr>\n",
       "    <tr>\n",
       "      <th>4</th>\n",
       "      <td>2023-01-01 00:10:29+00:00</td>\n",
       "      <td>107</td>\n",
       "    </tr>\n",
       "    <tr>\n",
       "      <th>...</th>\n",
       "      <td>...</td>\n",
       "      <td>...</td>\n",
       "    </tr>\n",
       "    <tr>\n",
       "      <th>3076898</th>\n",
       "      <td>2024-07-31 23:12:00+00:00</td>\n",
       "      <td>243</td>\n",
       "    </tr>\n",
       "    <tr>\n",
       "      <th>3076899</th>\n",
       "      <td>2024-07-31 23:10:34+00:00</td>\n",
       "      <td>170</td>\n",
       "    </tr>\n",
       "    <tr>\n",
       "      <th>3076900</th>\n",
       "      <td>2024-07-31 23:32:00+00:00</td>\n",
       "      <td>197</td>\n",
       "    </tr>\n",
       "    <tr>\n",
       "      <th>3076901</th>\n",
       "      <td>2024-07-31 23:32:52+00:00</td>\n",
       "      <td>230</td>\n",
       "    </tr>\n",
       "    <tr>\n",
       "      <th>3076902</th>\n",
       "      <td>2024-07-31 23:10:23+00:00</td>\n",
       "      <td>48</td>\n",
       "    </tr>\n",
       "  </tbody>\n",
       "</table>\n",
       "<p>61718296 rows × 2 columns</p>\n",
       "</div>"
      ],
      "text/plain": [
       "                  pickup_datetime  pickup_location_id\n",
       "0       2023-01-01 00:32:10+00:00                 161\n",
       "1       2023-01-01 00:55:08+00:00                  43\n",
       "2       2023-01-01 00:25:04+00:00                  48\n",
       "3       2023-01-01 00:03:48+00:00                 138\n",
       "4       2023-01-01 00:10:29+00:00                 107\n",
       "...                           ...                 ...\n",
       "3076898 2024-07-31 23:12:00+00:00                 243\n",
       "3076899 2024-07-31 23:10:34+00:00                 170\n",
       "3076900 2024-07-31 23:32:00+00:00                 197\n",
       "3076901 2024-07-31 23:32:52+00:00                 230\n",
       "3076902 2024-07-31 23:10:23+00:00                  48\n",
       "\n",
       "[61718296 rows x 2 columns]"
      ]
     },
     "execution_count": 109,
     "metadata": {},
     "output_type": "execute_result"
    }
   ],
   "source": [
    "rides"
   ]
  },
  {
   "cell_type": "code",
   "execution_count": 107,
   "metadata": {},
   "outputs": [
    {
     "data": {
      "text/html": [
       "<div>\n",
       "<style scoped>\n",
       "    .dataframe tbody tr th:only-of-type {\n",
       "        vertical-align: middle;\n",
       "    }\n",
       "\n",
       "    .dataframe tbody tr th {\n",
       "        vertical-align: top;\n",
       "    }\n",
       "\n",
       "    .dataframe thead th {\n",
       "        text-align: right;\n",
       "    }\n",
       "</style>\n",
       "<table border=\"1\" class=\"dataframe\">\n",
       "  <thead>\n",
       "    <tr style=\"text-align: right;\">\n",
       "      <th></th>\n",
       "      <th>pickup_datetime</th>\n",
       "      <th>pickup_location_id</th>\n",
       "    </tr>\n",
       "  </thead>\n",
       "  <tbody>\n",
       "    <tr>\n",
       "      <th>197584</th>\n",
       "      <td>2024-08-01 01:03:05+00:00</td>\n",
       "      <td>1</td>\n",
       "    </tr>\n",
       "    <tr>\n",
       "      <th>199508</th>\n",
       "      <td>2024-08-01 05:11:46+00:00</td>\n",
       "      <td>1</td>\n",
       "    </tr>\n",
       "    <tr>\n",
       "      <th>201047</th>\n",
       "      <td>2024-08-01 06:05:50+00:00</td>\n",
       "      <td>1</td>\n",
       "    </tr>\n",
       "    <tr>\n",
       "      <th>201048</th>\n",
       "      <td>2024-08-01 06:07:13+00:00</td>\n",
       "      <td>1</td>\n",
       "    </tr>\n",
       "    <tr>\n",
       "      <th>219670</th>\n",
       "      <td>2024-08-01 11:02:05+00:00</td>\n",
       "      <td>1</td>\n",
       "    </tr>\n",
       "    <tr>\n",
       "      <th>...</th>\n",
       "      <td>...</td>\n",
       "      <td>...</td>\n",
       "    </tr>\n",
       "    <tr>\n",
       "      <th>2758685</th>\n",
       "      <td>2024-09-11 19:09:20+00:00</td>\n",
       "      <td>265</td>\n",
       "    </tr>\n",
       "    <tr>\n",
       "      <th>1282168</th>\n",
       "      <td>2024-09-11 19:25:23+00:00</td>\n",
       "      <td>265</td>\n",
       "    </tr>\n",
       "    <tr>\n",
       "      <th>1282959</th>\n",
       "      <td>2024-09-11 19:28:01+00:00</td>\n",
       "      <td>265</td>\n",
       "    </tr>\n",
       "    <tr>\n",
       "      <th>1279910</th>\n",
       "      <td>2024-09-11 19:47:02+00:00</td>\n",
       "      <td>265</td>\n",
       "    </tr>\n",
       "    <tr>\n",
       "      <th>1283488</th>\n",
       "      <td>2024-09-11 19:48:03+00:00</td>\n",
       "      <td>265</td>\n",
       "    </tr>\n",
       "  </tbody>\n",
       "</table>\n",
       "<p>3960804 rows × 2 columns</p>\n",
       "</div>"
      ],
      "text/plain": [
       "                  pickup_datetime  pickup_location_id\n",
       "197584  2024-08-01 01:03:05+00:00                   1\n",
       "199508  2024-08-01 05:11:46+00:00                   1\n",
       "201047  2024-08-01 06:05:50+00:00                   1\n",
       "201048  2024-08-01 06:07:13+00:00                   1\n",
       "219670  2024-08-01 11:02:05+00:00                   1\n",
       "...                           ...                 ...\n",
       "2758685 2024-09-11 19:09:20+00:00                 265\n",
       "1282168 2024-09-11 19:25:23+00:00                 265\n",
       "1282959 2024-09-11 19:28:01+00:00                 265\n",
       "1279910 2024-09-11 19:47:02+00:00                 265\n",
       "1283488 2024-09-11 19:48:03+00:00                 265\n",
       "\n",
       "[3960804 rows x 2 columns]"
      ]
     },
     "execution_count": 107,
     "metadata": {},
     "output_type": "execute_result"
    }
   ],
   "source": [
    "rides_synthetic"
   ]
  },
  {
   "cell_type": "code",
   "execution_count": 110,
   "metadata": {},
   "outputs": [],
   "source": [
    "# add this to rides data\n",
    "rides = pd.concat([rides, rides_synthetic])"
   ]
  },
  {
   "cell_type": "code",
   "execution_count": 111,
   "metadata": {},
   "outputs": [
    {
     "data": {
      "text/html": [
       "<div>\n",
       "<style scoped>\n",
       "    .dataframe tbody tr th:only-of-type {\n",
       "        vertical-align: middle;\n",
       "    }\n",
       "\n",
       "    .dataframe tbody tr th {\n",
       "        vertical-align: top;\n",
       "    }\n",
       "\n",
       "    .dataframe thead th {\n",
       "        text-align: right;\n",
       "    }\n",
       "</style>\n",
       "<table border=\"1\" class=\"dataframe\">\n",
       "  <thead>\n",
       "    <tr style=\"text-align: right;\">\n",
       "      <th></th>\n",
       "      <th>pickup_datetime</th>\n",
       "      <th>pickup_location_id</th>\n",
       "    </tr>\n",
       "  </thead>\n",
       "  <tbody>\n",
       "    <tr>\n",
       "      <th>0</th>\n",
       "      <td>2023-01-01 00:32:10+00:00</td>\n",
       "      <td>161</td>\n",
       "    </tr>\n",
       "    <tr>\n",
       "      <th>1</th>\n",
       "      <td>2023-01-01 00:55:08+00:00</td>\n",
       "      <td>43</td>\n",
       "    </tr>\n",
       "    <tr>\n",
       "      <th>2</th>\n",
       "      <td>2023-01-01 00:25:04+00:00</td>\n",
       "      <td>48</td>\n",
       "    </tr>\n",
       "    <tr>\n",
       "      <th>3</th>\n",
       "      <td>2023-01-01 00:03:48+00:00</td>\n",
       "      <td>138</td>\n",
       "    </tr>\n",
       "    <tr>\n",
       "      <th>4</th>\n",
       "      <td>2023-01-01 00:10:29+00:00</td>\n",
       "      <td>107</td>\n",
       "    </tr>\n",
       "    <tr>\n",
       "      <th>...</th>\n",
       "      <td>...</td>\n",
       "      <td>...</td>\n",
       "    </tr>\n",
       "    <tr>\n",
       "      <th>2758685</th>\n",
       "      <td>2024-09-11 19:09:20+00:00</td>\n",
       "      <td>265</td>\n",
       "    </tr>\n",
       "    <tr>\n",
       "      <th>1282168</th>\n",
       "      <td>2024-09-11 19:25:23+00:00</td>\n",
       "      <td>265</td>\n",
       "    </tr>\n",
       "    <tr>\n",
       "      <th>1282959</th>\n",
       "      <td>2024-09-11 19:28:01+00:00</td>\n",
       "      <td>265</td>\n",
       "    </tr>\n",
       "    <tr>\n",
       "      <th>1279910</th>\n",
       "      <td>2024-09-11 19:47:02+00:00</td>\n",
       "      <td>265</td>\n",
       "    </tr>\n",
       "    <tr>\n",
       "      <th>1283488</th>\n",
       "      <td>2024-09-11 19:48:03+00:00</td>\n",
       "      <td>265</td>\n",
       "    </tr>\n",
       "  </tbody>\n",
       "</table>\n",
       "<p>65679100 rows × 2 columns</p>\n",
       "</div>"
      ],
      "text/plain": [
       "                  pickup_datetime  pickup_location_id\n",
       "0       2023-01-01 00:32:10+00:00                 161\n",
       "1       2023-01-01 00:55:08+00:00                  43\n",
       "2       2023-01-01 00:25:04+00:00                  48\n",
       "3       2023-01-01 00:03:48+00:00                 138\n",
       "4       2023-01-01 00:10:29+00:00                 107\n",
       "...                           ...                 ...\n",
       "2758685 2024-09-11 19:09:20+00:00                 265\n",
       "1282168 2024-09-11 19:25:23+00:00                 265\n",
       "1282959 2024-09-11 19:28:01+00:00                 265\n",
       "1279910 2024-09-11 19:47:02+00:00                 265\n",
       "1283488 2024-09-11 19:48:03+00:00                 265\n",
       "\n",
       "[65679100 rows x 2 columns]"
      ]
     },
     "execution_count": 111,
     "metadata": {},
     "output_type": "execute_result"
    }
   ],
   "source": [
    "rides"
   ]
  },
  {
   "cell_type": "code",
   "execution_count": 112,
   "metadata": {},
   "outputs": [
    {
     "name": "stdout",
     "output_type": "stream",
     "text": [
      "len(rides)=65,679,100\n"
     ]
    }
   ],
   "source": [
    "print(f'{len(rides)=:,}')"
   ]
  },
  {
   "cell_type": "code",
   "execution_count": 113,
   "metadata": {},
   "outputs": [
    {
     "name": "stdout",
     "output_type": "stream",
     "text": [
      "<class 'pandas.core.frame.DataFrame'>\n",
      "Int64Index: 65679100 entries, 0 to 1283488\n",
      "Data columns (total 2 columns):\n",
      " #   Column              Dtype              \n",
      "---  ------              -----              \n",
      " 0   pickup_datetime     datetime64[ns, UTC]\n",
      " 1   pickup_location_id  int64              \n",
      "dtypes: datetime64[ns, UTC](1), int64(1)\n",
      "memory usage: 1.5 GB\n"
     ]
    }
   ],
   "source": [
    "rides.info()"
   ]
  },
  {
   "cell_type": "code",
   "execution_count": 114,
   "metadata": {},
   "outputs": [
    {
     "data": {
      "text/html": [
       "<div>\n",
       "<style scoped>\n",
       "    .dataframe tbody tr th:only-of-type {\n",
       "        vertical-align: middle;\n",
       "    }\n",
       "\n",
       "    .dataframe tbody tr th {\n",
       "        vertical-align: top;\n",
       "    }\n",
       "\n",
       "    .dataframe thead th {\n",
       "        text-align: right;\n",
       "    }\n",
       "</style>\n",
       "<table border=\"1\" class=\"dataframe\">\n",
       "  <thead>\n",
       "    <tr style=\"text-align: right;\">\n",
       "      <th></th>\n",
       "      <th>pickup_datetime</th>\n",
       "      <th>pickup_location_id</th>\n",
       "    </tr>\n",
       "  </thead>\n",
       "  <tbody>\n",
       "    <tr>\n",
       "      <th>2995098</th>\n",
       "      <td>2023-01-01 00:00:00+00:00</td>\n",
       "      <td>42</td>\n",
       "    </tr>\n",
       "    <tr>\n",
       "      <th>3497</th>\n",
       "      <td>2023-01-01 00:00:05+00:00</td>\n",
       "      <td>249</td>\n",
       "    </tr>\n",
       "    <tr>\n",
       "      <th>2506</th>\n",
       "      <td>2023-01-01 00:00:06+00:00</td>\n",
       "      <td>125</td>\n",
       "    </tr>\n",
       "    <tr>\n",
       "      <th>3499</th>\n",
       "      <td>2023-01-01 00:00:08+00:00</td>\n",
       "      <td>42</td>\n",
       "    </tr>\n",
       "    <tr>\n",
       "      <th>4475</th>\n",
       "      <td>2023-01-01 00:00:09+00:00</td>\n",
       "      <td>79</td>\n",
       "    </tr>\n",
       "    <tr>\n",
       "      <th>...</th>\n",
       "      <td>...</td>\n",
       "      <td>...</td>\n",
       "    </tr>\n",
       "    <tr>\n",
       "      <th>1282913</th>\n",
       "      <td>2024-09-11 19:59:57+00:00</td>\n",
       "      <td>144</td>\n",
       "    </tr>\n",
       "    <tr>\n",
       "      <th>1288742</th>\n",
       "      <td>2024-09-11 19:59:57+00:00</td>\n",
       "      <td>262</td>\n",
       "    </tr>\n",
       "    <tr>\n",
       "      <th>1280651</th>\n",
       "      <td>2024-09-11 19:59:58+00:00</td>\n",
       "      <td>100</td>\n",
       "    </tr>\n",
       "    <tr>\n",
       "      <th>1285457</th>\n",
       "      <td>2024-09-11 19:59:58+00:00</td>\n",
       "      <td>162</td>\n",
       "    </tr>\n",
       "    <tr>\n",
       "      <th>1283779</th>\n",
       "      <td>2024-09-11 19:59:59+00:00</td>\n",
       "      <td>234</td>\n",
       "    </tr>\n",
       "  </tbody>\n",
       "</table>\n",
       "<p>65679100 rows × 2 columns</p>\n",
       "</div>"
      ],
      "text/plain": [
       "                  pickup_datetime  pickup_location_id\n",
       "2995098 2023-01-01 00:00:00+00:00                  42\n",
       "3497    2023-01-01 00:00:05+00:00                 249\n",
       "2506    2023-01-01 00:00:06+00:00                 125\n",
       "3499    2023-01-01 00:00:08+00:00                  42\n",
       "4475    2023-01-01 00:00:09+00:00                  79\n",
       "...                           ...                 ...\n",
       "1282913 2024-09-11 19:59:57+00:00                 144\n",
       "1288742 2024-09-11 19:59:57+00:00                 262\n",
       "1280651 2024-09-11 19:59:58+00:00                 100\n",
       "1285457 2024-09-11 19:59:58+00:00                 162\n",
       "1283779 2024-09-11 19:59:59+00:00                 234\n",
       "\n",
       "[65679100 rows x 2 columns]"
      ]
     },
     "execution_count": 114,
     "metadata": {},
     "output_type": "execute_result"
    }
   ],
   "source": [
    "rides.sort_values(by=['pickup_datetime', 'pickup_location_id'], inplace=True)\n",
    "rides"
   ]
  },
  {
   "cell_type": "code",
   "execution_count": 116,
   "metadata": {},
   "outputs": [
    {
     "name": "stdout",
     "output_type": "stream",
     "text": [
      "2024-10-09 15:42:42,603 WARNING: DeprecationWarning: np.find_common_type is deprecated.  Please use `np.result_type` or `np.promote_types`.\n",
      "See https://numpy.org/devdocs/release/1.25.0-notes.html and the docs for more information.  (Deprecated NumPy 1.25)\n",
      "\n",
      "2024-10-09 15:42:42,619 WARNING: DeprecationWarning: np.find_common_type is deprecated.  Please use `np.result_type` or `np.promote_types`.\n",
      "See https://numpy.org/devdocs/release/1.25.0-notes.html and the docs for more information.  (Deprecated NumPy 1.25)\n",
      "\n"
     ]
    },
    {
     "name": "stderr",
     "output_type": "stream",
     "text": [
      "100%|██████████| 265/265 [00:03<00:00, 76.00it/s] \n"
     ]
    }
   ],
   "source": [
    "from src.data import transform_raw_data_into_ts_data\n",
    "\n",
    "ts_data = transform_raw_data_into_ts_data(rides)"
   ]
  },
  {
   "cell_type": "markdown",
   "metadata": {},
   "source": [
    "Now we have the rides per hour for each pickup_location."
   ]
  },
  {
   "cell_type": "code",
   "execution_count": 117,
   "metadata": {},
   "outputs": [
    {
     "data": {
      "text/html": [
       "<div>\n",
       "<style scoped>\n",
       "    .dataframe tbody tr th:only-of-type {\n",
       "        vertical-align: middle;\n",
       "    }\n",
       "\n",
       "    .dataframe tbody tr th {\n",
       "        vertical-align: top;\n",
       "    }\n",
       "\n",
       "    .dataframe thead th {\n",
       "        text-align: right;\n",
       "    }\n",
       "</style>\n",
       "<table border=\"1\" class=\"dataframe\">\n",
       "  <thead>\n",
       "    <tr style=\"text-align: right;\">\n",
       "      <th></th>\n",
       "      <th>pickup_hour</th>\n",
       "      <th>rides</th>\n",
       "      <th>pickup_location_id</th>\n",
       "    </tr>\n",
       "  </thead>\n",
       "  <tbody>\n",
       "    <tr>\n",
       "      <th>0</th>\n",
       "      <td>2023-01-01 00:00:00+00:00</td>\n",
       "      <td>0</td>\n",
       "      <td>1</td>\n",
       "    </tr>\n",
       "    <tr>\n",
       "      <th>1</th>\n",
       "      <td>2023-01-01 01:00:00+00:00</td>\n",
       "      <td>0</td>\n",
       "      <td>1</td>\n",
       "    </tr>\n",
       "    <tr>\n",
       "      <th>2</th>\n",
       "      <td>2023-01-01 02:00:00+00:00</td>\n",
       "      <td>0</td>\n",
       "      <td>1</td>\n",
       "    </tr>\n",
       "    <tr>\n",
       "      <th>3</th>\n",
       "      <td>2023-01-01 03:00:00+00:00</td>\n",
       "      <td>0</td>\n",
       "      <td>1</td>\n",
       "    </tr>\n",
       "    <tr>\n",
       "      <th>4</th>\n",
       "      <td>2023-01-01 04:00:00+00:00</td>\n",
       "      <td>0</td>\n",
       "      <td>1</td>\n",
       "    </tr>\n",
       "    <tr>\n",
       "      <th>...</th>\n",
       "      <td>...</td>\n",
       "      <td>...</td>\n",
       "      <td>...</td>\n",
       "    </tr>\n",
       "    <tr>\n",
       "      <th>3942135</th>\n",
       "      <td>2024-09-11 15:00:00+00:00</td>\n",
       "      <td>8</td>\n",
       "      <td>265</td>\n",
       "    </tr>\n",
       "    <tr>\n",
       "      <th>3942136</th>\n",
       "      <td>2024-09-11 16:00:00+00:00</td>\n",
       "      <td>3</td>\n",
       "      <td>265</td>\n",
       "    </tr>\n",
       "    <tr>\n",
       "      <th>3942137</th>\n",
       "      <td>2024-09-11 17:00:00+00:00</td>\n",
       "      <td>9</td>\n",
       "      <td>265</td>\n",
       "    </tr>\n",
       "    <tr>\n",
       "      <th>3942138</th>\n",
       "      <td>2024-09-11 18:00:00+00:00</td>\n",
       "      <td>2</td>\n",
       "      <td>265</td>\n",
       "    </tr>\n",
       "    <tr>\n",
       "      <th>3942139</th>\n",
       "      <td>2024-09-11 19:00:00+00:00</td>\n",
       "      <td>5</td>\n",
       "      <td>265</td>\n",
       "    </tr>\n",
       "  </tbody>\n",
       "</table>\n",
       "<p>3942140 rows × 3 columns</p>\n",
       "</div>"
      ],
      "text/plain": [
       "                      pickup_hour  rides  pickup_location_id\n",
       "0       2023-01-01 00:00:00+00:00      0                   1\n",
       "1       2023-01-01 01:00:00+00:00      0                   1\n",
       "2       2023-01-01 02:00:00+00:00      0                   1\n",
       "3       2023-01-01 03:00:00+00:00      0                   1\n",
       "4       2023-01-01 04:00:00+00:00      0                   1\n",
       "...                           ...    ...                 ...\n",
       "3942135 2024-09-11 15:00:00+00:00      8                 265\n",
       "3942136 2024-09-11 16:00:00+00:00      3                 265\n",
       "3942137 2024-09-11 17:00:00+00:00      9                 265\n",
       "3942138 2024-09-11 18:00:00+00:00      2                 265\n",
       "3942139 2024-09-11 19:00:00+00:00      5                 265\n",
       "\n",
       "[3942140 rows x 3 columns]"
      ]
     },
     "execution_count": 117,
     "metadata": {},
     "output_type": "execute_result"
    }
   ],
   "source": [
    "ts_data"
   ]
  },
  {
   "cell_type": "code",
   "execution_count": 118,
   "metadata": {},
   "outputs": [
    {
     "data": {
      "text/plain": [
       "14876"
      ]
     },
     "execution_count": 118,
     "metadata": {},
     "output_type": "execute_result"
    }
   ],
   "source": [
    "len(ts_data.loc[ts_data['pickup_location_id'] == 265])"
   ]
  },
  {
   "cell_type": "code",
   "execution_count": 119,
   "metadata": {},
   "outputs": [],
   "source": [
    "# Convert string to datetime\n",
    "ts_data['pickup_hour'] = pd.to_datetime(ts_data['pickup_hour'], utc=True)\n",
    "\n",
    "# Add column with Unix epoch milliseconds\n",
    "ts_data['pickup_ts'] = ts_data['pickup_hour'].astype('int64') // 10**6"
   ]
  },
  {
   "cell_type": "markdown",
   "metadata": {},
   "source": [
    "This operation added a **pickup_ts** column to help hopsworks with the event time primary key."
   ]
  },
  {
   "cell_type": "code",
   "execution_count": 120,
   "metadata": {},
   "outputs": [
    {
     "data": {
      "text/html": [
       "<div>\n",
       "<style scoped>\n",
       "    .dataframe tbody tr th:only-of-type {\n",
       "        vertical-align: middle;\n",
       "    }\n",
       "\n",
       "    .dataframe tbody tr th {\n",
       "        vertical-align: top;\n",
       "    }\n",
       "\n",
       "    .dataframe thead th {\n",
       "        text-align: right;\n",
       "    }\n",
       "</style>\n",
       "<table border=\"1\" class=\"dataframe\">\n",
       "  <thead>\n",
       "    <tr style=\"text-align: right;\">\n",
       "      <th></th>\n",
       "      <th>pickup_hour</th>\n",
       "      <th>rides</th>\n",
       "      <th>pickup_location_id</th>\n",
       "      <th>pickup_ts</th>\n",
       "    </tr>\n",
       "  </thead>\n",
       "  <tbody>\n",
       "    <tr>\n",
       "      <th>0</th>\n",
       "      <td>2023-01-01 00:00:00+00:00</td>\n",
       "      <td>0</td>\n",
       "      <td>1</td>\n",
       "      <td>1672531200000</td>\n",
       "    </tr>\n",
       "    <tr>\n",
       "      <th>1</th>\n",
       "      <td>2023-01-01 01:00:00+00:00</td>\n",
       "      <td>0</td>\n",
       "      <td>1</td>\n",
       "      <td>1672534800000</td>\n",
       "    </tr>\n",
       "    <tr>\n",
       "      <th>2</th>\n",
       "      <td>2023-01-01 02:00:00+00:00</td>\n",
       "      <td>0</td>\n",
       "      <td>1</td>\n",
       "      <td>1672538400000</td>\n",
       "    </tr>\n",
       "    <tr>\n",
       "      <th>3</th>\n",
       "      <td>2023-01-01 03:00:00+00:00</td>\n",
       "      <td>0</td>\n",
       "      <td>1</td>\n",
       "      <td>1672542000000</td>\n",
       "    </tr>\n",
       "    <tr>\n",
       "      <th>4</th>\n",
       "      <td>2023-01-01 04:00:00+00:00</td>\n",
       "      <td>0</td>\n",
       "      <td>1</td>\n",
       "      <td>1672545600000</td>\n",
       "    </tr>\n",
       "    <tr>\n",
       "      <th>...</th>\n",
       "      <td>...</td>\n",
       "      <td>...</td>\n",
       "      <td>...</td>\n",
       "      <td>...</td>\n",
       "    </tr>\n",
       "    <tr>\n",
       "      <th>3942135</th>\n",
       "      <td>2024-09-11 15:00:00+00:00</td>\n",
       "      <td>8</td>\n",
       "      <td>265</td>\n",
       "      <td>1726066800000</td>\n",
       "    </tr>\n",
       "    <tr>\n",
       "      <th>3942136</th>\n",
       "      <td>2024-09-11 16:00:00+00:00</td>\n",
       "      <td>3</td>\n",
       "      <td>265</td>\n",
       "      <td>1726070400000</td>\n",
       "    </tr>\n",
       "    <tr>\n",
       "      <th>3942137</th>\n",
       "      <td>2024-09-11 17:00:00+00:00</td>\n",
       "      <td>9</td>\n",
       "      <td>265</td>\n",
       "      <td>1726074000000</td>\n",
       "    </tr>\n",
       "    <tr>\n",
       "      <th>3942138</th>\n",
       "      <td>2024-09-11 18:00:00+00:00</td>\n",
       "      <td>2</td>\n",
       "      <td>265</td>\n",
       "      <td>1726077600000</td>\n",
       "    </tr>\n",
       "    <tr>\n",
       "      <th>3942139</th>\n",
       "      <td>2024-09-11 19:00:00+00:00</td>\n",
       "      <td>5</td>\n",
       "      <td>265</td>\n",
       "      <td>1726081200000</td>\n",
       "    </tr>\n",
       "  </tbody>\n",
       "</table>\n",
       "<p>3942140 rows × 4 columns</p>\n",
       "</div>"
      ],
      "text/plain": [
       "                      pickup_hour  rides  pickup_location_id      pickup_ts\n",
       "0       2023-01-01 00:00:00+00:00      0                   1  1672531200000\n",
       "1       2023-01-01 01:00:00+00:00      0                   1  1672534800000\n",
       "2       2023-01-01 02:00:00+00:00      0                   1  1672538400000\n",
       "3       2023-01-01 03:00:00+00:00      0                   1  1672542000000\n",
       "4       2023-01-01 04:00:00+00:00      0                   1  1672545600000\n",
       "...                           ...    ...                 ...            ...\n",
       "3942135 2024-09-11 15:00:00+00:00      8                 265  1726066800000\n",
       "3942136 2024-09-11 16:00:00+00:00      3                 265  1726070400000\n",
       "3942137 2024-09-11 17:00:00+00:00      9                 265  1726074000000\n",
       "3942138 2024-09-11 18:00:00+00:00      2                 265  1726077600000\n",
       "3942139 2024-09-11 19:00:00+00:00      5                 265  1726081200000\n",
       "\n",
       "[3942140 rows x 4 columns]"
      ]
     },
     "execution_count": 120,
     "metadata": {},
     "output_type": "execute_result"
    }
   ],
   "source": [
    "ts_data"
   ]
  },
  {
   "cell_type": "code",
   "execution_count": 121,
   "metadata": {},
   "outputs": [
    {
     "name": "stdout",
     "output_type": "stream",
     "text": [
      "Connection closed.\n",
      "Connected. Call `.close()` to terminate connection gracefully.\n",
      "\n",
      "Logged in to project, explore it here https://c.app.hopsworks.ai:443/p/1049751\n"
     ]
    }
   ],
   "source": [
    "project = hopsworks.login(\n",
    "    project=HOPSWORKS_PROJECT_NAME,\n",
    "    api_key_value=HOPSWORKS_API_KEY\n",
    ")"
   ]
  },
  {
   "cell_type": "code",
   "execution_count": 122,
   "metadata": {},
   "outputs": [
    {
     "name": "stdout",
     "output_type": "stream",
     "text": [
      "Connected. Call `.close()` to terminate connection gracefully.\n"
     ]
    }
   ],
   "source": [
    "feature_store = project.get_feature_store()"
   ]
  },
  {
   "cell_type": "markdown",
   "metadata": {},
   "source": [
    "Now we will write data to the feature group within our feature store."
   ]
  },
  {
   "cell_type": "code",
   "execution_count": 123,
   "metadata": {},
   "outputs": [
    {
     "data": {
      "text/plain": [
       "3942140"
      ]
     },
     "execution_count": 123,
     "metadata": {},
     "output_type": "execute_result"
    }
   ],
   "source": [
    "len(ts_data)"
   ]
  },
  {
   "cell_type": "code",
   "execution_count": 124,
   "metadata": {},
   "outputs": [],
   "source": [
    "FEATURE_GROUP_NAME = 'time_series_hourly_feature_group'\n",
    "FEATURE_GROUP_VERSION = 1"
   ]
  },
  {
   "cell_type": "code",
   "execution_count": 125,
   "metadata": {},
   "outputs": [],
   "source": [
    "feature_group = feature_store.get_or_create_feature_group(\n",
    "    name=FEATURE_GROUP_NAME,\n",
    "    version=FEATURE_GROUP_VERSION,\n",
    "    description=\"Time-series data at hourly frequency\",\n",
    "    primary_key = ['pickup_location_id', 'pickup_ts'],\n",
    "    event_time='pickup_ts',\n",
    ")"
   ]
  },
  {
   "cell_type": "code",
   "execution_count": 126,
   "metadata": {},
   "outputs": [
    {
     "name": "stdout",
     "output_type": "stream",
     "text": [
      "Feature Group created successfully, explore it at \n",
      "https://c.app.hopsworks.ai:443/p/1049751/fs/1041478/fg/1261916\n"
     ]
    },
    {
     "data": {
      "application/vnd.jupyter.widget-view+json": {
       "model_id": "2938bf9d82c4459a87f0606b4edc6fb2",
       "version_major": 2,
       "version_minor": 0
      },
      "text/plain": [
       "Uploading Dataframe: 0.00% |          | Rows 0/3942140 | Elapsed Time: 00:00 | Remaining Time: ?"
      ]
     },
     "metadata": {},
     "output_type": "display_data"
    },
    {
     "name": "stdout",
     "output_type": "stream",
     "text": [
      "Launching job: time_series_hourly_feature_group_1_offline_fg_materialization\n",
      "Job started successfully, you can follow the progress at \n",
      "https://c.app.hopsworks.ai/p/1049751/jobs/named/time_series_hourly_feature_group_1_offline_fg_materialization/executions\n"
     ]
    },
    {
     "data": {
      "text/plain": [
       "(<hsfs.core.job.Job at 0x26c481bbf10>, None)"
      ]
     },
     "execution_count": 126,
     "metadata": {},
     "output_type": "execute_result"
    }
   ],
   "source": [
    "# add this data to feature group version 2\n",
    "feature_group.insert(ts_data, write_options={\"wait_for_job\": True})\n"
   ]
  },
  {
   "cell_type": "code",
   "execution_count": 127,
   "metadata": {},
   "outputs": [
    {
     "name": "stdout",
     "output_type": "stream",
     "text": [
      "Finished: Reading data from Hopsworks, using Hopsworks Feature Query Service (101.44s) \n"
     ]
    }
   ],
   "source": [
    "df = feature_group.read()"
   ]
  },
  {
   "cell_type": "code",
   "execution_count": 128,
   "metadata": {},
   "outputs": [
    {
     "data": {
      "text/plain": [
       "3942140"
      ]
     },
     "execution_count": 128,
     "metadata": {},
     "output_type": "execute_result"
    }
   ],
   "source": [
    "len(df)"
   ]
  },
  {
   "cell_type": "code",
   "execution_count": 129,
   "metadata": {},
   "outputs": [
    {
     "data": {
      "text/html": [
       "<div>\n",
       "<style scoped>\n",
       "    .dataframe tbody tr th:only-of-type {\n",
       "        vertical-align: middle;\n",
       "    }\n",
       "\n",
       "    .dataframe tbody tr th {\n",
       "        vertical-align: top;\n",
       "    }\n",
       "\n",
       "    .dataframe thead th {\n",
       "        text-align: right;\n",
       "    }\n",
       "</style>\n",
       "<table border=\"1\" class=\"dataframe\">\n",
       "  <thead>\n",
       "    <tr style=\"text-align: right;\">\n",
       "      <th></th>\n",
       "      <th>pickup_hour</th>\n",
       "      <th>rides</th>\n",
       "      <th>pickup_location_id</th>\n",
       "      <th>pickup_ts</th>\n",
       "    </tr>\n",
       "  </thead>\n",
       "  <tbody>\n",
       "    <tr>\n",
       "      <th>3942135</th>\n",
       "      <td>2023-05-09 18:00:00+00:00</td>\n",
       "      <td>193</td>\n",
       "      <td>48</td>\n",
       "      <td>1683655200000</td>\n",
       "    </tr>\n",
       "    <tr>\n",
       "      <th>3942136</th>\n",
       "      <td>2024-06-29 10:00:00+00:00</td>\n",
       "      <td>4</td>\n",
       "      <td>152</td>\n",
       "      <td>1719655200000</td>\n",
       "    </tr>\n",
       "    <tr>\n",
       "      <th>3942137</th>\n",
       "      <td>2023-10-22 20:00:00+00:00</td>\n",
       "      <td>31</td>\n",
       "      <td>151</td>\n",
       "      <td>1698004800000</td>\n",
       "    </tr>\n",
       "    <tr>\n",
       "      <th>3942138</th>\n",
       "      <td>2023-04-13 18:00:00+00:00</td>\n",
       "      <td>444</td>\n",
       "      <td>162</td>\n",
       "      <td>1681408800000</td>\n",
       "    </tr>\n",
       "    <tr>\n",
       "      <th>3942139</th>\n",
       "      <td>2024-01-30 21:00:00+00:00</td>\n",
       "      <td>0</td>\n",
       "      <td>219</td>\n",
       "      <td>1706648400000</td>\n",
       "    </tr>\n",
       "  </tbody>\n",
       "</table>\n",
       "</div>"
      ],
      "text/plain": [
       "                      pickup_hour  rides  pickup_location_id      pickup_ts\n",
       "3942135 2023-05-09 18:00:00+00:00    193                  48  1683655200000\n",
       "3942136 2024-06-29 10:00:00+00:00      4                 152  1719655200000\n",
       "3942137 2023-10-22 20:00:00+00:00     31                 151  1698004800000\n",
       "3942138 2023-04-13 18:00:00+00:00    444                 162  1681408800000\n",
       "3942139 2024-01-30 21:00:00+00:00      0                 219  1706648400000"
      ]
     },
     "execution_count": 129,
     "metadata": {},
     "output_type": "execute_result"
    }
   ],
   "source": [
    "df.tail()"
   ]
  },
  {
   "cell_type": "code",
   "execution_count": null,
   "metadata": {},
   "outputs": [],
   "source": []
  }
 ],
 "metadata": {
  "kernelspec": {
   "display_name": ".venv",
   "language": "python",
   "name": "python3"
  },
  "language_info": {
   "codemirror_mode": {
    "name": "ipython",
    "version": 3
   },
   "file_extension": ".py",
   "mimetype": "text/x-python",
   "name": "python",
   "nbconvert_exporter": "python",
   "pygments_lexer": "ipython3",
   "version": "3.10.9"
  }
 },
 "nbformat": 4,
 "nbformat_minor": 2
}
