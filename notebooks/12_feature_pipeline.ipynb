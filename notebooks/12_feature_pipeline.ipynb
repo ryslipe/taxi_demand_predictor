{
 "cells": [
  {
   "cell_type": "markdown",
   "metadata": {},
   "source": [
    "## Create Feature Pipeline"
   ]
  },
  {
   "cell_type": "markdown",
   "metadata": {},
   "source": [
    "The first step is to load the configuration file we created called **config.py** so that we can access the HOPSWORKS variables such as the project name, feature group name, feature group version and API key. We do this so that we do not have to keep identifying them over and over again."
   ]
  },
  {
   "cell_type": "code",
   "execution_count": 11,
   "metadata": {},
   "outputs": [],
   "source": [
    "import src.config as config"
   ]
  },
  {
   "cell_type": "markdown",
   "metadata": {},
   "source": [
    "Since we are fetching data in this notebook and doing it every hour, we need to keep track of the current time and the range of dates that we would like to fetch data from. This will fetch the last 28x3 days every hour. We are setting this to be 28x3 because the last available data is from over two months ago. This means we need enough data to cover this gap. "
   ]
  },
  {
   "cell_type": "code",
   "execution_count": 21,
   "metadata": {},
   "outputs": [
    {
     "name": "stdout",
     "output_type": "stream",
     "text": [
      "current_date=Timestamp('2024-09-26 20:00:00')\n",
      "fetch_data_from=Timestamp('2024-07-04 20:00:00')\n"
     ]
    }
   ],
   "source": [
    "from datetime import datetime, timedelta, timezone\n",
    "\n",
    "import pandas as pd\n",
    "\n",
    "current_date = pd.to_datetime(datetime.now(timezone.utc)).floor('H')\n",
    "current_date = current_date.replace(tzinfo=None)\n",
    "print(f'{current_date=}')\n",
    "\n",
    "\n",
    "# fetch data to the current time (rounded to nearest hour) from three months ago (28 days ago*3 months)\n",
    "fetch_data_to = current_date\n",
    "# we need to cover for no data from July until today- 09/26\n",
    "fetch_data_from = current_date - timedelta(days = 28*3)\n",
    "print(f'{fetch_data_from=}')"
   ]
  },
  {
   "cell_type": "code",
   "execution_count": 13,
   "metadata": {},
   "outputs": [
    {
     "data": {
      "text/plain": [
       "Timestamp('2024-07-04 19:00:00')"
      ]
     },
     "execution_count": 13,
     "metadata": {},
     "output_type": "execute_result"
    }
   ],
   "source": [
    "fetch_data_from"
   ]
  },
  {
   "cell_type": "markdown",
   "metadata": {},
   "source": [
    "For this model, we do not have access to the NYC Taxi Data Warehouse (we cannot get the new rides every hour). For this purpose we will simulate a call which will show how it would work. Since we have access to the rides from a year ago we will pretend that this is the most recent demand that we can fetch. This function will load in data from exactly one year ago and get data for 3 months prior with each month being 28 days long. This data is the simulated new data. We pretend that we run this code every hour to get the newest 28x3 days worth of data but since our data comes from a source that does not update every hour, we use this synthetic data."
   ]
  },
  {
   "cell_type": "code",
   "execution_count": 39,
   "metadata": {},
   "outputs": [],
   "source": [
    "from src.data import load_raw_data\n",
    "\n",
    "def fetch_batch_raw_data(from_date: datetime, to_date: datetime) -> pd.DataFrame:\n",
    "    \"\"\"\n",
    "    Simulate production data by sampling historical data from 52 weeks ago (i.e. 1 year)\n",
    "    \"\"\"\n",
    "    # get data from a year ago from today\n",
    "    from_date_ = from_date - timedelta(days=7*52)\n",
    "    # get the data to the date which is 28*3 days before from_date_\n",
    "    to_date_ = to_date - timedelta(days=7*52)\n",
    "    print(f'{from_date_=}, {to_date_=}')\n",
    "\n",
    "    # download 2 files from website using our load_raw_data_function - this is July\n",
    "    rides = load_raw_data(year=from_date_.year, months=from_date_.month)\n",
    "    rides = rides[rides['pickup_datetime'] >= from_date_]\n",
    "\n",
    "    # this is august\n",
    "    rides1 = load_raw_data(year=from_date_.year, months= from_date_.month + 1)\n",
    "    \n",
    "    # this is september\n",
    "    rides_2 = load_raw_data(year=to_date_.year, months=to_date_.month)\n",
    "    rides_2 = rides_2[rides_2['pickup_datetime'] < to_date_]\n",
    "\n",
    "    rides = pd.concat([rides, rides1])\n",
    "    rides = pd.concat([rides, rides_2])\n",
    "\n",
    "    # shift the data to pretend this is recent data - add a year to each row\n",
    "    rides['pickup_datetime'] += timedelta(days=7*52)\n",
    "\n",
    "    rides.sort_values(by=['pickup_location_id', 'pickup_datetime'], inplace=True)\n",
    "\n",
    "    return rides"
   ]
  },
  {
   "cell_type": "code",
   "execution_count": 40,
   "metadata": {},
   "outputs": [
    {
     "name": "stdout",
     "output_type": "stream",
     "text": [
      "from_date_=Timestamp('2023-07-06 20:00:00'), to_date_=Timestamp('2023-09-28 20:00:00')\n",
      "File 2023-07 was already in local storage\n",
      "File 2023-08 was already in local storage\n",
      "File 2023-09 was already in local storage\n"
     ]
    }
   ],
   "source": [
    "# get rides\n",
    "rides = fetch_batch_raw_data(from_date=fetch_data_from, to_date=fetch_data_to)"
   ]
  },
  {
   "cell_type": "code",
   "execution_count": 52,
   "metadata": {},
   "outputs": [
    {
     "data": {
      "text/html": [
       "<div>\n",
       "<style scoped>\n",
       "    .dataframe tbody tr th:only-of-type {\n",
       "        vertical-align: middle;\n",
       "    }\n",
       "\n",
       "    .dataframe tbody tr th {\n",
       "        vertical-align: top;\n",
       "    }\n",
       "\n",
       "    .dataframe thead th {\n",
       "        text-align: right;\n",
       "    }\n",
       "</style>\n",
       "<table border=\"1\" class=\"dataframe\">\n",
       "  <thead>\n",
       "    <tr style=\"text-align: right;\">\n",
       "      <th></th>\n",
       "      <th>pickup_datetime</th>\n",
       "      <th>pickup_location_id</th>\n",
       "      <th>pickup_hour</th>\n",
       "    </tr>\n",
       "  </thead>\n",
       "  <tbody>\n",
       "    <tr>\n",
       "      <th>429986</th>\n",
       "      <td>2024-07-04 21:34:07</td>\n",
       "      <td>1</td>\n",
       "      <td>2024-07-04 21:00:00</td>\n",
       "    </tr>\n",
       "    <tr>\n",
       "      <th>463748</th>\n",
       "      <td>2024-07-05 12:03:02</td>\n",
       "      <td>1</td>\n",
       "      <td>2024-07-05 12:00:00</td>\n",
       "    </tr>\n",
       "    <tr>\n",
       "      <th>472053</th>\n",
       "      <td>2024-07-05 13:12:30</td>\n",
       "      <td>1</td>\n",
       "      <td>2024-07-05 13:00:00</td>\n",
       "    </tr>\n",
       "    <tr>\n",
       "      <th>472244</th>\n",
       "      <td>2024-07-05 13:50:04</td>\n",
       "      <td>1</td>\n",
       "      <td>2024-07-05 13:00:00</td>\n",
       "    </tr>\n",
       "    <tr>\n",
       "      <th>472245</th>\n",
       "      <td>2024-07-05 13:53:39</td>\n",
       "      <td>1</td>\n",
       "      <td>2024-07-05 13:00:00</td>\n",
       "    </tr>\n",
       "    <tr>\n",
       "      <th>...</th>\n",
       "      <td>...</td>\n",
       "      <td>...</td>\n",
       "      <td>...</td>\n",
       "    </tr>\n",
       "    <tr>\n",
       "      <th>2468768</th>\n",
       "      <td>2024-09-26 19:21:22</td>\n",
       "      <td>265</td>\n",
       "      <td>2024-09-26 19:00:00</td>\n",
       "    </tr>\n",
       "    <tr>\n",
       "      <th>2471990</th>\n",
       "      <td>2024-09-26 19:23:30</td>\n",
       "      <td>265</td>\n",
       "      <td>2024-09-26 19:00:00</td>\n",
       "    </tr>\n",
       "    <tr>\n",
       "      <th>2468670</th>\n",
       "      <td>2024-09-26 19:25:31</td>\n",
       "      <td>265</td>\n",
       "      <td>2024-09-26 19:00:00</td>\n",
       "    </tr>\n",
       "    <tr>\n",
       "      <th>2467199</th>\n",
       "      <td>2024-09-26 19:48:01</td>\n",
       "      <td>265</td>\n",
       "      <td>2024-09-26 19:00:00</td>\n",
       "    </tr>\n",
       "    <tr>\n",
       "      <th>2481455</th>\n",
       "      <td>2024-09-26 19:57:45</td>\n",
       "      <td>265</td>\n",
       "      <td>2024-09-26 19:00:00</td>\n",
       "    </tr>\n",
       "  </tbody>\n",
       "</table>\n",
       "<p>7898694 rows × 3 columns</p>\n",
       "</div>"
      ],
      "text/plain": [
       "            pickup_datetime  pickup_location_id         pickup_hour\n",
       "429986  2024-07-04 21:34:07                   1 2024-07-04 21:00:00\n",
       "463748  2024-07-05 12:03:02                   1 2024-07-05 12:00:00\n",
       "472053  2024-07-05 13:12:30                   1 2024-07-05 13:00:00\n",
       "472244  2024-07-05 13:50:04                   1 2024-07-05 13:00:00\n",
       "472245  2024-07-05 13:53:39                   1 2024-07-05 13:00:00\n",
       "...                     ...                 ...                 ...\n",
       "2468768 2024-09-26 19:21:22                 265 2024-09-26 19:00:00\n",
       "2471990 2024-09-26 19:23:30                 265 2024-09-26 19:00:00\n",
       "2468670 2024-09-26 19:25:31                 265 2024-09-26 19:00:00\n",
       "2467199 2024-09-26 19:48:01                 265 2024-09-26 19:00:00\n",
       "2481455 2024-09-26 19:57:45                 265 2024-09-26 19:00:00\n",
       "\n",
       "[7898694 rows x 3 columns]"
      ]
     },
     "execution_count": 52,
     "metadata": {},
     "output_type": "execute_result"
    }
   ],
   "source": [
    "rides"
   ]
  },
  {
   "cell_type": "code",
   "execution_count": 51,
   "metadata": {},
   "outputs": [
    {
     "data": {
      "text/html": [
       "<div>\n",
       "<style scoped>\n",
       "    .dataframe tbody tr th:only-of-type {\n",
       "        vertical-align: middle;\n",
       "    }\n",
       "\n",
       "    .dataframe tbody tr th {\n",
       "        vertical-align: top;\n",
       "    }\n",
       "\n",
       "    .dataframe thead th {\n",
       "        text-align: right;\n",
       "    }\n",
       "</style>\n",
       "<table border=\"1\" class=\"dataframe\">\n",
       "  <thead>\n",
       "    <tr style=\"text-align: right;\">\n",
       "      <th></th>\n",
       "      <th>pickup_datetime</th>\n",
       "      <th>pickup_location_id</th>\n",
       "      <th>pickup_hour</th>\n",
       "    </tr>\n",
       "  </thead>\n",
       "  <tbody>\n",
       "    <tr>\n",
       "      <th>299775</th>\n",
       "      <td>2024-08-02 02:13:48</td>\n",
       "      <td>1</td>\n",
       "      <td>2024-08-02 02:00:00</td>\n",
       "    </tr>\n",
       "    <tr>\n",
       "      <th>347577</th>\n",
       "      <td>2024-08-02 17:23:08</td>\n",
       "      <td>1</td>\n",
       "      <td>2024-08-02 17:00:00</td>\n",
       "    </tr>\n",
       "    <tr>\n",
       "      <th>369006</th>\n",
       "      <td>2024-08-02 20:11:08</td>\n",
       "      <td>1</td>\n",
       "      <td>2024-08-02 20:00:00</td>\n",
       "    </tr>\n",
       "    <tr>\n",
       "      <th>393314</th>\n",
       "      <td>2024-08-03 02:34:51</td>\n",
       "      <td>1</td>\n",
       "      <td>2024-08-03 02:00:00</td>\n",
       "    </tr>\n",
       "    <tr>\n",
       "      <th>399841</th>\n",
       "      <td>2024-08-03 07:43:51</td>\n",
       "      <td>1</td>\n",
       "      <td>2024-08-03 07:00:00</td>\n",
       "    </tr>\n",
       "    <tr>\n",
       "      <th>...</th>\n",
       "      <td>...</td>\n",
       "      <td>...</td>\n",
       "      <td>...</td>\n",
       "    </tr>\n",
       "    <tr>\n",
       "      <th>2468768</th>\n",
       "      <td>2024-09-26 19:21:22</td>\n",
       "      <td>265</td>\n",
       "      <td>2024-09-26 19:00:00</td>\n",
       "    </tr>\n",
       "    <tr>\n",
       "      <th>2471990</th>\n",
       "      <td>2024-09-26 19:23:30</td>\n",
       "      <td>265</td>\n",
       "      <td>2024-09-26 19:00:00</td>\n",
       "    </tr>\n",
       "    <tr>\n",
       "      <th>2468670</th>\n",
       "      <td>2024-09-26 19:25:31</td>\n",
       "      <td>265</td>\n",
       "      <td>2024-09-26 19:00:00</td>\n",
       "    </tr>\n",
       "    <tr>\n",
       "      <th>2467199</th>\n",
       "      <td>2024-09-26 19:48:01</td>\n",
       "      <td>265</td>\n",
       "      <td>2024-09-26 19:00:00</td>\n",
       "    </tr>\n",
       "    <tr>\n",
       "      <th>2481455</th>\n",
       "      <td>2024-09-26 19:57:45</td>\n",
       "      <td>265</td>\n",
       "      <td>2024-09-26 19:00:00</td>\n",
       "    </tr>\n",
       "  </tbody>\n",
       "</table>\n",
       "<p>5119755 rows × 3 columns</p>\n",
       "</div>"
      ],
      "text/plain": [
       "            pickup_datetime  pickup_location_id         pickup_hour\n",
       "299775  2024-08-02 02:13:48                   1 2024-08-02 02:00:00\n",
       "347577  2024-08-02 17:23:08                   1 2024-08-02 17:00:00\n",
       "369006  2024-08-02 20:11:08                   1 2024-08-02 20:00:00\n",
       "393314  2024-08-03 02:34:51                   1 2024-08-03 02:00:00\n",
       "399841  2024-08-03 07:43:51                   1 2024-08-03 07:00:00\n",
       "...                     ...                 ...                 ...\n",
       "2468768 2024-09-26 19:21:22                 265 2024-09-26 19:00:00\n",
       "2471990 2024-09-26 19:23:30                 265 2024-09-26 19:00:00\n",
       "2468670 2024-09-26 19:25:31                 265 2024-09-26 19:00:00\n",
       "2467199 2024-09-26 19:48:01                 265 2024-09-26 19:00:00\n",
       "2481455 2024-09-26 19:57:45                 265 2024-09-26 19:00:00\n",
       "\n",
       "[5119755 rows x 3 columns]"
      ]
     },
     "execution_count": 51,
     "metadata": {},
     "output_type": "execute_result"
    }
   ],
   "source": [
    "rides[rides['pickup_datetime'] > '2024-08-02']"
   ]
  },
  {
   "cell_type": "markdown",
   "metadata": {},
   "source": [
    "Below we can get a sense of what happened. We called the data warehouse to get 28 days worth of data from today. Since we didnt have the data we used last years data and shifted it to be 28 days ago from today. This is why the **rides** dataframe starts on 08-28-2024 (28 days ago), and ends today. All we did is retrieve 28 days worth of data but since we didnt have it we pretended to have it by creating it. Don't overthink this step, its just getting 28 days worth of *new* data. In practice we would have the real data available to us.\n",
    "\n",
    "At the time of writing this code - 09.25.2024 the newest data available is from July."
   ]
  },
  {
   "cell_type": "markdown",
   "metadata": {},
   "source": [
    "##### Transform the Raw Data into Time Series Data"
   ]
  },
  {
   "cell_type": "markdown",
   "metadata": {},
   "source": [
    "We now have the raw data and want to transform it into time series data just as we did before. This will be done with the **transform_raw_data_into_ts_data** function from **src.data**.\n",
    "\n",
    "The older data that we had is already transformed into time series data and loaded into our feature group. This is the new data that we now have to transform."
   ]
  },
  {
   "cell_type": "code",
   "execution_count": 41,
   "metadata": {},
   "outputs": [
    {
     "name": "stdout",
     "output_type": "stream",
     "text": [
      "2024-09-26 15:10:14,648 WARNING: DeprecationWarning: np.find_common_type is deprecated.  Please use `np.result_type` or `np.promote_types`.\n",
      "See https://numpy.org/devdocs/release/1.25.0-notes.html and the docs for more information.  (Deprecated NumPy 1.25)\n",
      "\n",
      "2024-09-26 15:10:14,663 WARNING: DeprecationWarning: np.find_common_type is deprecated.  Please use `np.result_type` or `np.promote_types`.\n",
      "See https://numpy.org/devdocs/release/1.25.0-notes.html and the docs for more information.  (Deprecated NumPy 1.25)\n",
      "\n"
     ]
    },
    {
     "name": "stderr",
     "output_type": "stream",
     "text": [
      "100%|██████████| 265/265 [00:00<00:00, 294.78it/s]\n"
     ]
    }
   ],
   "source": [
    "from src.data import transform_raw_data_into_ts_data\n",
    "\n",
    "ts_data = transform_raw_data_into_ts_data(rides)"
   ]
  },
  {
   "cell_type": "code",
   "execution_count": 56,
   "metadata": {},
   "outputs": [],
   "source": [
    "cp = ts_data[ts_data['pickup_location_id'] == 43]"
   ]
  },
  {
   "cell_type": "code",
   "execution_count": 57,
   "metadata": {},
   "outputs": [
    {
     "data": {
      "text/html": [
       "<div>\n",
       "<style scoped>\n",
       "    .dataframe tbody tr th:only-of-type {\n",
       "        vertical-align: middle;\n",
       "    }\n",
       "\n",
       "    .dataframe tbody tr th {\n",
       "        vertical-align: top;\n",
       "    }\n",
       "\n",
       "    .dataframe thead th {\n",
       "        text-align: right;\n",
       "    }\n",
       "</style>\n",
       "<table border=\"1\" class=\"dataframe\">\n",
       "  <thead>\n",
       "    <tr style=\"text-align: right;\">\n",
       "      <th></th>\n",
       "      <th>pickup_hour</th>\n",
       "      <th>rides</th>\n",
       "      <th>pickup_location_id</th>\n",
       "    </tr>\n",
       "  </thead>\n",
       "  <tbody>\n",
       "    <tr>\n",
       "      <th>85325</th>\n",
       "      <td>2024-08-01 01:00:00</td>\n",
       "      <td>3</td>\n",
       "      <td>43</td>\n",
       "    </tr>\n",
       "    <tr>\n",
       "      <th>85326</th>\n",
       "      <td>2024-08-01 02:00:00</td>\n",
       "      <td>5</td>\n",
       "      <td>43</td>\n",
       "    </tr>\n",
       "    <tr>\n",
       "      <th>85327</th>\n",
       "      <td>2024-08-01 03:00:00</td>\n",
       "      <td>1</td>\n",
       "      <td>43</td>\n",
       "    </tr>\n",
       "    <tr>\n",
       "      <th>85328</th>\n",
       "      <td>2024-08-01 04:00:00</td>\n",
       "      <td>0</td>\n",
       "      <td>43</td>\n",
       "    </tr>\n",
       "    <tr>\n",
       "      <th>85329</th>\n",
       "      <td>2024-08-01 05:00:00</td>\n",
       "      <td>5</td>\n",
       "      <td>43</td>\n",
       "    </tr>\n",
       "    <tr>\n",
       "      <th>...</th>\n",
       "      <td>...</td>\n",
       "      <td>...</td>\n",
       "      <td>...</td>\n",
       "    </tr>\n",
       "    <tr>\n",
       "      <th>86683</th>\n",
       "      <td>2024-09-26 15:00:00</td>\n",
       "      <td>172</td>\n",
       "      <td>43</td>\n",
       "    </tr>\n",
       "    <tr>\n",
       "      <th>86684</th>\n",
       "      <td>2024-09-26 16:00:00</td>\n",
       "      <td>216</td>\n",
       "      <td>43</td>\n",
       "    </tr>\n",
       "    <tr>\n",
       "      <th>86685</th>\n",
       "      <td>2024-09-26 17:00:00</td>\n",
       "      <td>176</td>\n",
       "      <td>43</td>\n",
       "    </tr>\n",
       "    <tr>\n",
       "      <th>86686</th>\n",
       "      <td>2024-09-26 18:00:00</td>\n",
       "      <td>107</td>\n",
       "      <td>43</td>\n",
       "    </tr>\n",
       "    <tr>\n",
       "      <th>86687</th>\n",
       "      <td>2024-09-26 19:00:00</td>\n",
       "      <td>147</td>\n",
       "      <td>43</td>\n",
       "    </tr>\n",
       "  </tbody>\n",
       "</table>\n",
       "<p>1363 rows × 3 columns</p>\n",
       "</div>"
      ],
      "text/plain": [
       "              pickup_hour  rides  pickup_location_id\n",
       "85325 2024-08-01 01:00:00      3                  43\n",
       "85326 2024-08-01 02:00:00      5                  43\n",
       "85327 2024-08-01 03:00:00      1                  43\n",
       "85328 2024-08-01 04:00:00      0                  43\n",
       "85329 2024-08-01 05:00:00      5                  43\n",
       "...                   ...    ...                 ...\n",
       "86683 2024-09-26 15:00:00    172                  43\n",
       "86684 2024-09-26 16:00:00    216                  43\n",
       "86685 2024-09-26 17:00:00    176                  43\n",
       "86686 2024-09-26 18:00:00    107                  43\n",
       "86687 2024-09-26 19:00:00    147                  43\n",
       "\n",
       "[1363 rows x 3 columns]"
      ]
     },
     "execution_count": 57,
     "metadata": {},
     "output_type": "execute_result"
    }
   ],
   "source": [
    "cp[cp['pickup_hour'] > '2024-08-01']"
   ]
  },
  {
   "cell_type": "code",
   "execution_count": 55,
   "metadata": {},
   "outputs": [
    {
     "data": {
      "text/html": [
       "<div>\n",
       "<style scoped>\n",
       "    .dataframe tbody tr th:only-of-type {\n",
       "        vertical-align: middle;\n",
       "    }\n",
       "\n",
       "    .dataframe tbody tr th {\n",
       "        vertical-align: top;\n",
       "    }\n",
       "\n",
       "    .dataframe thead th {\n",
       "        text-align: right;\n",
       "    }\n",
       "</style>\n",
       "<table border=\"1\" class=\"dataframe\">\n",
       "  <thead>\n",
       "    <tr style=\"text-align: right;\">\n",
       "      <th></th>\n",
       "      <th>pickup_hour</th>\n",
       "      <th>rides</th>\n",
       "      <th>pickup_location_id</th>\n",
       "    </tr>\n",
       "  </thead>\n",
       "  <tbody>\n",
       "    <tr>\n",
       "      <th>701</th>\n",
       "      <td>2024-08-03 01:00:00</td>\n",
       "      <td>0</td>\n",
       "      <td>1</td>\n",
       "    </tr>\n",
       "    <tr>\n",
       "      <th>702</th>\n",
       "      <td>2024-08-03 02:00:00</td>\n",
       "      <td>1</td>\n",
       "      <td>1</td>\n",
       "    </tr>\n",
       "    <tr>\n",
       "      <th>703</th>\n",
       "      <td>2024-08-03 03:00:00</td>\n",
       "      <td>0</td>\n",
       "      <td>1</td>\n",
       "    </tr>\n",
       "    <tr>\n",
       "      <th>704</th>\n",
       "      <td>2024-08-03 04:00:00</td>\n",
       "      <td>0</td>\n",
       "      <td>1</td>\n",
       "    </tr>\n",
       "    <tr>\n",
       "      <th>705</th>\n",
       "      <td>2024-08-03 05:00:00</td>\n",
       "      <td>0</td>\n",
       "      <td>1</td>\n",
       "    </tr>\n",
       "    <tr>\n",
       "      <th>...</th>\n",
       "      <td>...</td>\n",
       "      <td>...</td>\n",
       "      <td>...</td>\n",
       "    </tr>\n",
       "    <tr>\n",
       "      <th>534235</th>\n",
       "      <td>2024-09-26 15:00:00</td>\n",
       "      <td>7</td>\n",
       "      <td>265</td>\n",
       "    </tr>\n",
       "    <tr>\n",
       "      <th>534236</th>\n",
       "      <td>2024-09-26 16:00:00</td>\n",
       "      <td>8</td>\n",
       "      <td>265</td>\n",
       "    </tr>\n",
       "    <tr>\n",
       "      <th>534237</th>\n",
       "      <td>2024-09-26 17:00:00</td>\n",
       "      <td>2</td>\n",
       "      <td>265</td>\n",
       "    </tr>\n",
       "    <tr>\n",
       "      <th>534238</th>\n",
       "      <td>2024-09-26 18:00:00</td>\n",
       "      <td>4</td>\n",
       "      <td>265</td>\n",
       "    </tr>\n",
       "    <tr>\n",
       "      <th>534239</th>\n",
       "      <td>2024-09-26 19:00:00</td>\n",
       "      <td>8</td>\n",
       "      <td>265</td>\n",
       "    </tr>\n",
       "  </tbody>\n",
       "</table>\n",
       "<p>348475 rows × 3 columns</p>\n",
       "</div>"
      ],
      "text/plain": [
       "               pickup_hour  rides  pickup_location_id\n",
       "701    2024-08-03 01:00:00      0                   1\n",
       "702    2024-08-03 02:00:00      1                   1\n",
       "703    2024-08-03 03:00:00      0                   1\n",
       "704    2024-08-03 04:00:00      0                   1\n",
       "705    2024-08-03 05:00:00      0                   1\n",
       "...                    ...    ...                 ...\n",
       "534235 2024-09-26 15:00:00      7                 265\n",
       "534236 2024-09-26 16:00:00      8                 265\n",
       "534237 2024-09-26 17:00:00      2                 265\n",
       "534238 2024-09-26 18:00:00      4                 265\n",
       "534239 2024-09-26 19:00:00      8                 265\n",
       "\n",
       "[348475 rows x 3 columns]"
      ]
     },
     "execution_count": 55,
     "metadata": {},
     "output_type": "execute_result"
    }
   ],
   "source": [
    "ts_data[ts_data['pickup_hour'] > '08-03-2024']"
   ]
  },
  {
   "cell_type": "code",
   "execution_count": 42,
   "metadata": {},
   "outputs": [
    {
     "data": {
      "text/plain": [
       "dtype('<M8[ns]')"
      ]
     },
     "execution_count": 42,
     "metadata": {},
     "output_type": "execute_result"
    }
   ],
   "source": [
    "ts_data['pickup_hour'].dtype"
   ]
  },
  {
   "cell_type": "code",
   "execution_count": 43,
   "metadata": {},
   "outputs": [
    {
     "data": {
      "text/html": [
       "<div>\n",
       "<style scoped>\n",
       "    .dataframe tbody tr th:only-of-type {\n",
       "        vertical-align: middle;\n",
       "    }\n",
       "\n",
       "    .dataframe tbody tr th {\n",
       "        vertical-align: top;\n",
       "    }\n",
       "\n",
       "    .dataframe thead th {\n",
       "        text-align: right;\n",
       "    }\n",
       "</style>\n",
       "<table border=\"1\" class=\"dataframe\">\n",
       "  <thead>\n",
       "    <tr style=\"text-align: right;\">\n",
       "      <th></th>\n",
       "      <th>pickup_hour</th>\n",
       "      <th>rides</th>\n",
       "      <th>pickup_location_id</th>\n",
       "    </tr>\n",
       "  </thead>\n",
       "  <tbody>\n",
       "    <tr>\n",
       "      <th>0</th>\n",
       "      <td>2024-07-04 20:00:00</td>\n",
       "      <td>0</td>\n",
       "      <td>1</td>\n",
       "    </tr>\n",
       "    <tr>\n",
       "      <th>1</th>\n",
       "      <td>2024-07-04 21:00:00</td>\n",
       "      <td>1</td>\n",
       "      <td>1</td>\n",
       "    </tr>\n",
       "    <tr>\n",
       "      <th>2</th>\n",
       "      <td>2024-07-04 22:00:00</td>\n",
       "      <td>0</td>\n",
       "      <td>1</td>\n",
       "    </tr>\n",
       "    <tr>\n",
       "      <th>3</th>\n",
       "      <td>2024-07-04 23:00:00</td>\n",
       "      <td>0</td>\n",
       "      <td>1</td>\n",
       "    </tr>\n",
       "    <tr>\n",
       "      <th>4</th>\n",
       "      <td>2024-07-05 00:00:00</td>\n",
       "      <td>0</td>\n",
       "      <td>1</td>\n",
       "    </tr>\n",
       "    <tr>\n",
       "      <th>...</th>\n",
       "      <td>...</td>\n",
       "      <td>...</td>\n",
       "      <td>...</td>\n",
       "    </tr>\n",
       "    <tr>\n",
       "      <th>534235</th>\n",
       "      <td>2024-09-26 15:00:00</td>\n",
       "      <td>7</td>\n",
       "      <td>265</td>\n",
       "    </tr>\n",
       "    <tr>\n",
       "      <th>534236</th>\n",
       "      <td>2024-09-26 16:00:00</td>\n",
       "      <td>8</td>\n",
       "      <td>265</td>\n",
       "    </tr>\n",
       "    <tr>\n",
       "      <th>534237</th>\n",
       "      <td>2024-09-26 17:00:00</td>\n",
       "      <td>2</td>\n",
       "      <td>265</td>\n",
       "    </tr>\n",
       "    <tr>\n",
       "      <th>534238</th>\n",
       "      <td>2024-09-26 18:00:00</td>\n",
       "      <td>4</td>\n",
       "      <td>265</td>\n",
       "    </tr>\n",
       "    <tr>\n",
       "      <th>534239</th>\n",
       "      <td>2024-09-26 19:00:00</td>\n",
       "      <td>8</td>\n",
       "      <td>265</td>\n",
       "    </tr>\n",
       "  </tbody>\n",
       "</table>\n",
       "<p>534240 rows × 3 columns</p>\n",
       "</div>"
      ],
      "text/plain": [
       "               pickup_hour  rides  pickup_location_id\n",
       "0      2024-07-04 20:00:00      0                   1\n",
       "1      2024-07-04 21:00:00      1                   1\n",
       "2      2024-07-04 22:00:00      0                   1\n",
       "3      2024-07-04 23:00:00      0                   1\n",
       "4      2024-07-05 00:00:00      0                   1\n",
       "...                    ...    ...                 ...\n",
       "534235 2024-09-26 15:00:00      7                 265\n",
       "534236 2024-09-26 16:00:00      8                 265\n",
       "534237 2024-09-26 17:00:00      2                 265\n",
       "534238 2024-09-26 18:00:00      4                 265\n",
       "534239 2024-09-26 19:00:00      8                 265\n",
       "\n",
       "[534240 rows x 3 columns]"
      ]
     },
     "execution_count": 43,
     "metadata": {},
     "output_type": "execute_result"
    }
   ],
   "source": [
    "ts_data"
   ]
  },
  {
   "cell_type": "markdown",
   "metadata": {},
   "source": [
    "##### Connect to Feature Store/Feature Group"
   ]
  },
  {
   "cell_type": "markdown",
   "metadata": {},
   "source": [
    "This is where we will connect this new data to our feature group."
   ]
  },
  {
   "cell_type": "code",
   "execution_count": 44,
   "metadata": {},
   "outputs": [
    {
     "name": "stdout",
     "output_type": "stream",
     "text": [
      "Connection closed.\n",
      "Connected. Call `.close()` to terminate connection gracefully.\n"
     ]
    },
    {
     "name": "stdout",
     "output_type": "stream",
     "text": [
      "\n",
      "Logged in to project, explore it here https://c.app.hopsworks.ai:443/p/1049751\n",
      "Connected. Call `.close()` to terminate connection gracefully.\n"
     ]
    }
   ],
   "source": [
    "import hopsworks\n",
    "\n",
    "# connect to project \n",
    "project = hopsworks.login(\n",
    "    project = config.HOPSWORKS_PROJECT_NAME,\n",
    "    api_key_value = config.HOPSWORKS_API_KEY\n",
    ")\n",
    "\n",
    "# get feature store\n",
    "feature_store = project.get_feature_store()\n",
    "\n",
    "# connect to feature group\n",
    "feature_group = feature_store.get_or_create_feature_group(\n",
    "    name=config.FEATURE_GROUP_NAME,\n",
    "    version=config.FEATURE_GROUP_VERSION,\n",
    "    description='Hourly time series data',\n",
    "    primary_key=['pickup_location_id', 'pickup_hour'],\n",
    "    event_time='pickup_hour'\n",
    ")\n"
   ]
  },
  {
   "cell_type": "code",
   "execution_count": 58,
   "metadata": {},
   "outputs": [
    {
     "data": {
      "application/vnd.jupyter.widget-view+json": {
       "model_id": "a2b8ac6ad9664300a1b39417883840b3",
       "version_major": 2,
       "version_minor": 0
      },
      "text/plain": [
       "Uploading Dataframe: 0.00% |          | Rows 0/534240 | Elapsed Time: 00:00 | Remaining Time: ?"
      ]
     },
     "metadata": {},
     "output_type": "display_data"
    },
    {
     "name": "stdout",
     "output_type": "stream",
     "text": [
      "Launching job: time_series_hourly_feature_group_1_offline_fg_materialization\n",
      "Job started successfully, you can follow the progress at \n",
      "https://c.app.hopsworks.ai/p/1049751/jobs/named/time_series_hourly_feature_group_1_offline_fg_materialization/executions\n"
     ]
    },
    {
     "data": {
      "text/plain": [
       "(<hsfs.core.job.Job at 0x1f40e4c8520>, None)"
      ]
     },
     "execution_count": 58,
     "metadata": {},
     "output_type": "execute_result"
    }
   ],
   "source": [
    "# insert this data to the feature group\n",
    "feature_group.insert(ts_data, write_options={'wait_for_job':False})"
   ]
  },
  {
   "cell_type": "markdown",
   "metadata": {},
   "source": [
    "#### Automate Running Every Hour"
   ]
  },
  {
   "cell_type": "markdown",
   "metadata": {},
   "source": [
    "we want this notebook to automatically run every hour. We will do this using GitHub actions. This is done by creating a **.github/workflows** folder which is placed in the parent directory. In this folder we will create a YAML file called **feature_workflows.yaml**. View the file to see the sytax. Help with the syntax can be found at the following links:\n",
    "\n",
    "+ https://docs.github.com/en/actions/use-cases-and-examples/creating-an-example-workflow\n",
    "\n",
    "+ https://spacelift.io/blog/github-actions-tutorial\n",
    "\n",
    "+ https://docs.github.com/en/actions/writing-workflows/workflow-syntax-for-github-actions\n",
    "\n",
    "+ https://docs.github.com/en/actions/writing-workflows/quickstart\n"
   ]
  }
 ],
 "metadata": {
  "kernelspec": {
   "display_name": ".venv",
   "language": "python",
   "name": "python3"
  },
  "language_info": {
   "codemirror_mode": {
    "name": "ipython",
    "version": 3
   },
   "file_extension": ".py",
   "mimetype": "text/x-python",
   "name": "python",
   "nbconvert_exporter": "python",
   "pygments_lexer": "ipython3",
   "version": "3.10.9"
  }
 },
 "nbformat": 4,
 "nbformat_minor": 2
}
