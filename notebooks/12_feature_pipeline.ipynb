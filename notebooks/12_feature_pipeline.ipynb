{
 "cells": [
  {
   "cell_type": "code",
   "execution_count": 40,
   "metadata": {},
   "outputs": [
    {
     "name": "stdout",
     "output_type": "stream",
     "text": [
      "The autoreload extension is already loaded. To reload it, use:\n",
      "  %reload_ext autoreload\n"
     ]
    }
   ],
   "source": [
    "%load_ext autoreload\n",
    "%autoreload 2"
   ]
  },
  {
   "cell_type": "code",
   "execution_count": 41,
   "metadata": {},
   "outputs": [],
   "source": [
    "import src.config as config"
   ]
  },
  {
   "cell_type": "code",
   "execution_count": 42,
   "metadata": {},
   "outputs": [
    {
     "name": "stdout",
     "output_type": "stream",
     "text": [
      "Current UTC date and time floored to the nearest hour: 2024-10-08 20:00:00+00:00\n",
      "We will fetch rides from fetch_data_from=Timestamp('2024-09-10 20:00:00+0000', tz='UTC') until fetch_data_to=Timestamp('2024-10-08 20:00:00+0000', tz='UTC')\n"
     ]
    }
   ],
   "source": [
    "from datetime import datetime, timedelta\n",
    "import pandas as pd\n",
    "import pytz\n",
    "\n",
    "# Get the current date and time in UTC\n",
    "current_date = pd.to_datetime(datetime.now(pytz.utc)).floor('H')\n",
    "\n",
    "print(f\"Current UTC date and time floored to the nearest hour: {current_date}\")\n",
    "\n",
    "# we fetch raw data for the last 28 days, to add redundancy to our data pipeline\n",
    "fetch_data_to = current_date\n",
    "fetch_data_from = current_date - timedelta(days=28)\n",
    "print(f'We will fetch rides from {fetch_data_from=} until {fetch_data_to=}')\n"
   ]
  },
  {
   "cell_type": "code",
   "execution_count": 43,
   "metadata": {},
   "outputs": [],
   "source": [
    "from src.data import load_raw_data\n",
    "from datetime import datetime, timedelta\n",
    "import pandas as pd\n",
    "import pytz\n",
    "\n",
    "def fetch_ride_events_from_data_warehouse(\n",
    "    from_date: datetime,\n",
    "    to_date: datetime\n",
    ") -> pd.DataFrame:\n",
    "    \"\"\"\n",
    "    This function is used to simulate production data by sampling historical data\n",
    "    from 52 weeks ago (i.e. 1 year)\n",
    "    \"\"\"\n",
    "    # Ensure from_date and to_date are timezone-aware\n",
    "    from_date = from_date.replace(tzinfo=pytz.UTC)\n",
    "    to_date = to_date.replace(tzinfo=pytz.UTC)\n",
    "\n",
    "    from_date_ = pd.Timestamp(from_date - timedelta(days=7*52))\n",
    "    to_date_ = pd.Timestamp(to_date - timedelta(days=7*52))\n",
    "    print(f'Fetching ride events from {from_date} to {to_date}')\n",
    "\n",
    "    if (from_date_.year == to_date_.year) and (from_date_.month == to_date_.month):\n",
    "        # download 1 file of data only\n",
    "        rides = load_raw_data(year=from_date_.year, months=from_date_.month)\n",
    "        rides['pickup_datetime'] = pd.to_datetime(rides['pickup_datetime'], utc=True)\n",
    "        rides = rides[rides.pickup_datetime >= from_date_]\n",
    "        rides = rides[rides.pickup_datetime < to_date_]\n",
    "    else:\n",
    "        # download 2 files from website\n",
    "        rides = load_raw_data(year=from_date_.year, months=from_date_.month)\n",
    "        rides['pickup_datetime'] = pd.to_datetime(rides['pickup_datetime'], utc=True)\n",
    "        rides = rides[rides.pickup_datetime >= from_date_]\n",
    "\n",
    "        rides_2 = load_raw_data(year=to_date_.year, months=to_date_.month)\n",
    "        rides_2['pickup_datetime'] = pd.to_datetime(rides_2['pickup_datetime'], utc=True)\n",
    "        rides_2 = rides_2[rides_2.pickup_datetime < to_date_]\n",
    "\n",
    "        rides = pd.concat([rides, rides_2])\n",
    "\n",
    "    # shift the pickup_datetime back 1 year ahead, to simulate production data\n",
    "    # using its 7*52-days-ago value\n",
    "    rides['pickup_datetime'] = rides['pickup_datetime'] + timedelta(days=7*52)\n",
    "\n",
    "    rides.sort_values(by=['pickup_location_id', 'pickup_datetime'], inplace=True)\n",
    "\n",
    "    return rides\n"
   ]
  },
  {
   "cell_type": "code",
   "execution_count": 44,
   "metadata": {},
   "outputs": [
    {
     "name": "stdout",
     "output_type": "stream",
     "text": [
      "Fetching ride events from 2024-09-10 20:00:00+00:00 to 2024-10-08 20:00:00+00:00\n",
      "File 2023-09 was already in local storage\n",
      "File 2023-10 was already in local storage\n"
     ]
    }
   ],
   "source": [
    "rides = fetch_ride_events_from_data_warehouse(from_date=fetch_data_from, to_date=fetch_data_to)"
   ]
  },
  {
   "cell_type": "code",
   "execution_count": 45,
   "metadata": {},
   "outputs": [
    {
     "data": {
      "text/html": [
       "<div>\n",
       "<style scoped>\n",
       "    .dataframe tbody tr th:only-of-type {\n",
       "        vertical-align: middle;\n",
       "    }\n",
       "\n",
       "    .dataframe tbody tr th {\n",
       "        vertical-align: top;\n",
       "    }\n",
       "\n",
       "    .dataframe thead th {\n",
       "        text-align: right;\n",
       "    }\n",
       "</style>\n",
       "<table border=\"1\" class=\"dataframe\">\n",
       "  <thead>\n",
       "    <tr style=\"text-align: right;\">\n",
       "      <th></th>\n",
       "      <th>pickup_datetime</th>\n",
       "      <th>pickup_location_id</th>\n",
       "    </tr>\n",
       "  </thead>\n",
       "  <tbody>\n",
       "    <tr>\n",
       "      <th>1177856</th>\n",
       "      <td>2024-09-10 20:47:14+00:00</td>\n",
       "      <td>1</td>\n",
       "    </tr>\n",
       "    <tr>\n",
       "      <th>1198858</th>\n",
       "      <td>2024-09-11 04:56:25+00:00</td>\n",
       "      <td>1</td>\n",
       "    </tr>\n",
       "    <tr>\n",
       "      <th>1199538</th>\n",
       "      <td>2024-09-11 05:34:18+00:00</td>\n",
       "      <td>1</td>\n",
       "    </tr>\n",
       "    <tr>\n",
       "      <th>1200506</th>\n",
       "      <td>2024-09-11 06:45:13+00:00</td>\n",
       "      <td>1</td>\n",
       "    </tr>\n",
       "    <tr>\n",
       "      <th>1202836</th>\n",
       "      <td>2024-09-11 07:26:56+00:00</td>\n",
       "      <td>1</td>\n",
       "    </tr>\n",
       "    <tr>\n",
       "      <th>...</th>\n",
       "      <td>...</td>\n",
       "      <td>...</td>\n",
       "    </tr>\n",
       "    <tr>\n",
       "      <th>1003004</th>\n",
       "      <td>2024-10-08 18:47:21+00:00</td>\n",
       "      <td>265</td>\n",
       "    </tr>\n",
       "    <tr>\n",
       "      <th>3412259</th>\n",
       "      <td>2024-10-08 19:10:08+00:00</td>\n",
       "      <td>265</td>\n",
       "    </tr>\n",
       "    <tr>\n",
       "      <th>3412178</th>\n",
       "      <td>2024-10-08 19:10:57+00:00</td>\n",
       "      <td>265</td>\n",
       "    </tr>\n",
       "    <tr>\n",
       "      <th>1008783</th>\n",
       "      <td>2024-10-08 19:11:01+00:00</td>\n",
       "      <td>265</td>\n",
       "    </tr>\n",
       "    <tr>\n",
       "      <th>1014297</th>\n",
       "      <td>2024-10-08 19:18:26+00:00</td>\n",
       "      <td>265</td>\n",
       "    </tr>\n",
       "  </tbody>\n",
       "</table>\n",
       "<p>2686888 rows × 2 columns</p>\n",
       "</div>"
      ],
      "text/plain": [
       "                  pickup_datetime  pickup_location_id\n",
       "1177856 2024-09-10 20:47:14+00:00                   1\n",
       "1198858 2024-09-11 04:56:25+00:00                   1\n",
       "1199538 2024-09-11 05:34:18+00:00                   1\n",
       "1200506 2024-09-11 06:45:13+00:00                   1\n",
       "1202836 2024-09-11 07:26:56+00:00                   1\n",
       "...                           ...                 ...\n",
       "1003004 2024-10-08 18:47:21+00:00                 265\n",
       "3412259 2024-10-08 19:10:08+00:00                 265\n",
       "3412178 2024-10-08 19:10:57+00:00                 265\n",
       "1008783 2024-10-08 19:11:01+00:00                 265\n",
       "1014297 2024-10-08 19:18:26+00:00                 265\n",
       "\n",
       "[2686888 rows x 2 columns]"
      ]
     },
     "execution_count": 45,
     "metadata": {},
     "output_type": "execute_result"
    }
   ],
   "source": [
    "rides"
   ]
  },
  {
   "cell_type": "code",
   "execution_count": 46,
   "metadata": {},
   "outputs": [
    {
     "name": "stdout",
     "output_type": "stream",
     "text": [
      "2024-10-08 13:02:06,391 WARNING: DeprecationWarning: np.find_common_type is deprecated.  Please use `np.result_type` or `np.promote_types`.\n",
      "See https://numpy.org/devdocs/release/1.25.0-notes.html and the docs for more information.  (Deprecated NumPy 1.25)\n",
      "\n",
      "2024-10-08 13:02:06,391 WARNING: DeprecationWarning: np.find_common_type is deprecated.  Please use `np.result_type` or `np.promote_types`.\n",
      "See https://numpy.org/devdocs/release/1.25.0-notes.html and the docs for more information.  (Deprecated NumPy 1.25)\n",
      "\n"
     ]
    },
    {
     "name": "stderr",
     "output_type": "stream",
     "text": [
      "100%|██████████| 265/265 [00:00<00:00, 295.74it/s]\n"
     ]
    }
   ],
   "source": [
    "from src.data import transform_raw_data_into_ts_data\n",
    "\n",
    "ts_data = transform_raw_data_into_ts_data(rides)"
   ]
  },
  {
   "cell_type": "code",
   "execution_count": 47,
   "metadata": {},
   "outputs": [
    {
     "data": {
      "text/html": [
       "<div>\n",
       "<style scoped>\n",
       "    .dataframe tbody tr th:only-of-type {\n",
       "        vertical-align: middle;\n",
       "    }\n",
       "\n",
       "    .dataframe tbody tr th {\n",
       "        vertical-align: top;\n",
       "    }\n",
       "\n",
       "    .dataframe thead th {\n",
       "        text-align: right;\n",
       "    }\n",
       "</style>\n",
       "<table border=\"1\" class=\"dataframe\">\n",
       "  <thead>\n",
       "    <tr style=\"text-align: right;\">\n",
       "      <th></th>\n",
       "      <th>pickup_hour</th>\n",
       "      <th>rides</th>\n",
       "      <th>pickup_location_id</th>\n",
       "    </tr>\n",
       "  </thead>\n",
       "  <tbody>\n",
       "    <tr>\n",
       "      <th>0</th>\n",
       "      <td>2024-09-10 20:00:00+00:00</td>\n",
       "      <td>1</td>\n",
       "      <td>1</td>\n",
       "    </tr>\n",
       "    <tr>\n",
       "      <th>1</th>\n",
       "      <td>2024-09-10 21:00:00+00:00</td>\n",
       "      <td>0</td>\n",
       "      <td>1</td>\n",
       "    </tr>\n",
       "    <tr>\n",
       "      <th>2</th>\n",
       "      <td>2024-09-10 22:00:00+00:00</td>\n",
       "      <td>0</td>\n",
       "      <td>1</td>\n",
       "    </tr>\n",
       "    <tr>\n",
       "      <th>3</th>\n",
       "      <td>2024-09-10 23:00:00+00:00</td>\n",
       "      <td>0</td>\n",
       "      <td>1</td>\n",
       "    </tr>\n",
       "    <tr>\n",
       "      <th>4</th>\n",
       "      <td>2024-09-11 00:00:00+00:00</td>\n",
       "      <td>0</td>\n",
       "      <td>1</td>\n",
       "    </tr>\n",
       "    <tr>\n",
       "      <th>...</th>\n",
       "      <td>...</td>\n",
       "      <td>...</td>\n",
       "      <td>...</td>\n",
       "    </tr>\n",
       "    <tr>\n",
       "      <th>178075</th>\n",
       "      <td>2024-10-08 15:00:00+00:00</td>\n",
       "      <td>8</td>\n",
       "      <td>265</td>\n",
       "    </tr>\n",
       "    <tr>\n",
       "      <th>178076</th>\n",
       "      <td>2024-10-08 16:00:00+00:00</td>\n",
       "      <td>6</td>\n",
       "      <td>265</td>\n",
       "    </tr>\n",
       "    <tr>\n",
       "      <th>178077</th>\n",
       "      <td>2024-10-08 17:00:00+00:00</td>\n",
       "      <td>5</td>\n",
       "      <td>265</td>\n",
       "    </tr>\n",
       "    <tr>\n",
       "      <th>178078</th>\n",
       "      <td>2024-10-08 18:00:00+00:00</td>\n",
       "      <td>7</td>\n",
       "      <td>265</td>\n",
       "    </tr>\n",
       "    <tr>\n",
       "      <th>178079</th>\n",
       "      <td>2024-10-08 19:00:00+00:00</td>\n",
       "      <td>4</td>\n",
       "      <td>265</td>\n",
       "    </tr>\n",
       "  </tbody>\n",
       "</table>\n",
       "<p>178080 rows × 3 columns</p>\n",
       "</div>"
      ],
      "text/plain": [
       "                     pickup_hour  rides  pickup_location_id\n",
       "0      2024-09-10 20:00:00+00:00      1                   1\n",
       "1      2024-09-10 21:00:00+00:00      0                   1\n",
       "2      2024-09-10 22:00:00+00:00      0                   1\n",
       "3      2024-09-10 23:00:00+00:00      0                   1\n",
       "4      2024-09-11 00:00:00+00:00      0                   1\n",
       "...                          ...    ...                 ...\n",
       "178075 2024-10-08 15:00:00+00:00      8                 265\n",
       "178076 2024-10-08 16:00:00+00:00      6                 265\n",
       "178077 2024-10-08 17:00:00+00:00      5                 265\n",
       "178078 2024-10-08 18:00:00+00:00      7                 265\n",
       "178079 2024-10-08 19:00:00+00:00      4                 265\n",
       "\n",
       "[178080 rows x 3 columns]"
      ]
     },
     "execution_count": 47,
     "metadata": {},
     "output_type": "execute_result"
    }
   ],
   "source": [
    "ts_data"
   ]
  },
  {
   "cell_type": "code",
   "execution_count": 48,
   "metadata": {},
   "outputs": [
    {
     "name": "stdout",
     "output_type": "stream",
     "text": [
      "<class 'pandas.core.frame.DataFrame'>\n",
      "RangeIndex: 178080 entries, 0 to 178079\n",
      "Data columns (total 3 columns):\n",
      " #   Column              Non-Null Count   Dtype              \n",
      "---  ------              --------------   -----              \n",
      " 0   pickup_hour         178080 non-null  datetime64[ns, UTC]\n",
      " 1   rides               178080 non-null  int64              \n",
      " 2   pickup_location_id  178080 non-null  int64              \n",
      "dtypes: datetime64[ns, UTC](1), int64(2)\n",
      "memory usage: 4.1 MB\n"
     ]
    }
   ],
   "source": [
    "ts_data.info()"
   ]
  },
  {
   "cell_type": "code",
   "execution_count": 49,
   "metadata": {},
   "outputs": [],
   "source": [
    "# add column with Unix epoch milliseconds\n",
    "ts_data['pickup_ts'] = ts_data['pickup_hour'].astype('int64') // 10**6"
   ]
  },
  {
   "cell_type": "code",
   "execution_count": 50,
   "metadata": {},
   "outputs": [
    {
     "data": {
      "text/html": [
       "<div>\n",
       "<style scoped>\n",
       "    .dataframe tbody tr th:only-of-type {\n",
       "        vertical-align: middle;\n",
       "    }\n",
       "\n",
       "    .dataframe tbody tr th {\n",
       "        vertical-align: top;\n",
       "    }\n",
       "\n",
       "    .dataframe thead th {\n",
       "        text-align: right;\n",
       "    }\n",
       "</style>\n",
       "<table border=\"1\" class=\"dataframe\">\n",
       "  <thead>\n",
       "    <tr style=\"text-align: right;\">\n",
       "      <th></th>\n",
       "      <th>pickup_hour</th>\n",
       "      <th>rides</th>\n",
       "      <th>pickup_location_id</th>\n",
       "      <th>pickup_ts</th>\n",
       "    </tr>\n",
       "  </thead>\n",
       "  <tbody>\n",
       "    <tr>\n",
       "      <th>0</th>\n",
       "      <td>2024-09-10 20:00:00+00:00</td>\n",
       "      <td>1</td>\n",
       "      <td>1</td>\n",
       "      <td>1725998400000</td>\n",
       "    </tr>\n",
       "    <tr>\n",
       "      <th>1</th>\n",
       "      <td>2024-09-10 21:00:00+00:00</td>\n",
       "      <td>0</td>\n",
       "      <td>1</td>\n",
       "      <td>1726002000000</td>\n",
       "    </tr>\n",
       "    <tr>\n",
       "      <th>2</th>\n",
       "      <td>2024-09-10 22:00:00+00:00</td>\n",
       "      <td>0</td>\n",
       "      <td>1</td>\n",
       "      <td>1726005600000</td>\n",
       "    </tr>\n",
       "    <tr>\n",
       "      <th>3</th>\n",
       "      <td>2024-09-10 23:00:00+00:00</td>\n",
       "      <td>0</td>\n",
       "      <td>1</td>\n",
       "      <td>1726009200000</td>\n",
       "    </tr>\n",
       "    <tr>\n",
       "      <th>4</th>\n",
       "      <td>2024-09-11 00:00:00+00:00</td>\n",
       "      <td>0</td>\n",
       "      <td>1</td>\n",
       "      <td>1726012800000</td>\n",
       "    </tr>\n",
       "    <tr>\n",
       "      <th>...</th>\n",
       "      <td>...</td>\n",
       "      <td>...</td>\n",
       "      <td>...</td>\n",
       "      <td>...</td>\n",
       "    </tr>\n",
       "    <tr>\n",
       "      <th>178075</th>\n",
       "      <td>2024-10-08 15:00:00+00:00</td>\n",
       "      <td>8</td>\n",
       "      <td>265</td>\n",
       "      <td>1728399600000</td>\n",
       "    </tr>\n",
       "    <tr>\n",
       "      <th>178076</th>\n",
       "      <td>2024-10-08 16:00:00+00:00</td>\n",
       "      <td>6</td>\n",
       "      <td>265</td>\n",
       "      <td>1728403200000</td>\n",
       "    </tr>\n",
       "    <tr>\n",
       "      <th>178077</th>\n",
       "      <td>2024-10-08 17:00:00+00:00</td>\n",
       "      <td>5</td>\n",
       "      <td>265</td>\n",
       "      <td>1728406800000</td>\n",
       "    </tr>\n",
       "    <tr>\n",
       "      <th>178078</th>\n",
       "      <td>2024-10-08 18:00:00+00:00</td>\n",
       "      <td>7</td>\n",
       "      <td>265</td>\n",
       "      <td>1728410400000</td>\n",
       "    </tr>\n",
       "    <tr>\n",
       "      <th>178079</th>\n",
       "      <td>2024-10-08 19:00:00+00:00</td>\n",
       "      <td>4</td>\n",
       "      <td>265</td>\n",
       "      <td>1728414000000</td>\n",
       "    </tr>\n",
       "  </tbody>\n",
       "</table>\n",
       "<p>178080 rows × 4 columns</p>\n",
       "</div>"
      ],
      "text/plain": [
       "                     pickup_hour  rides  pickup_location_id      pickup_ts\n",
       "0      2024-09-10 20:00:00+00:00      1                   1  1725998400000\n",
       "1      2024-09-10 21:00:00+00:00      0                   1  1726002000000\n",
       "2      2024-09-10 22:00:00+00:00      0                   1  1726005600000\n",
       "3      2024-09-10 23:00:00+00:00      0                   1  1726009200000\n",
       "4      2024-09-11 00:00:00+00:00      0                   1  1726012800000\n",
       "...                          ...    ...                 ...            ...\n",
       "178075 2024-10-08 15:00:00+00:00      8                 265  1728399600000\n",
       "178076 2024-10-08 16:00:00+00:00      6                 265  1728403200000\n",
       "178077 2024-10-08 17:00:00+00:00      5                 265  1728406800000\n",
       "178078 2024-10-08 18:00:00+00:00      7                 265  1728410400000\n",
       "178079 2024-10-08 19:00:00+00:00      4                 265  1728414000000\n",
       "\n",
       "[178080 rows x 4 columns]"
      ]
     },
     "execution_count": 50,
     "metadata": {},
     "output_type": "execute_result"
    }
   ],
   "source": [
    "ts_data"
   ]
  },
  {
   "cell_type": "code",
   "execution_count": 51,
   "metadata": {},
   "outputs": [
    {
     "ename": "AttributeError",
     "evalue": "module 'src.config' has no attribute 'HOPSWORKS_PROJECT_NAME'",
     "output_type": "error",
     "traceback": [
      "\u001b[1;31m---------------------------------------------------------------------------\u001b[0m",
      "\u001b[1;31mAttributeError\u001b[0m                            Traceback (most recent call last)",
      "Cell \u001b[1;32mIn[51], line 5\u001b[0m\n\u001b[0;32m      1\u001b[0m \u001b[38;5;28;01mimport\u001b[39;00m \u001b[38;5;21;01mhopsworks\u001b[39;00m\n\u001b[0;32m      3\u001b[0m \u001b[38;5;66;03m# connect to the project\u001b[39;00m\n\u001b[0;32m      4\u001b[0m project \u001b[38;5;241m=\u001b[39m hopsworks\u001b[38;5;241m.\u001b[39mlogin(\n\u001b[1;32m----> 5\u001b[0m     project\u001b[38;5;241m=\u001b[39m\u001b[43mconfig\u001b[49m\u001b[38;5;241;43m.\u001b[39;49m\u001b[43mHOPSWORKS_PROJECT_NAME\u001b[49m,\n\u001b[0;32m      6\u001b[0m     api_key_value\u001b[38;5;241m=\u001b[39mconfig\u001b[38;5;241m.\u001b[39mHOPSWORKS_API_KEY\n\u001b[0;32m      7\u001b[0m )\n\u001b[0;32m      9\u001b[0m \u001b[38;5;66;03m# connect to the feature store\u001b[39;00m\n\u001b[0;32m     10\u001b[0m feature_store \u001b[38;5;241m=\u001b[39m project\u001b[38;5;241m.\u001b[39mget_feature_store()\n",
      "\u001b[1;31mAttributeError\u001b[0m: module 'src.config' has no attribute 'HOPSWORKS_PROJECT_NAME'"
     ]
    }
   ],
   "source": [
    "import hopsworks\n",
    "\n",
    "# connect to the project\n",
    "project = hopsworks.login(\n",
    "    project=config.HOPSWORKS_PROJECT_NAME,\n",
    "    api_key_value=config.HOPSWORKS_API_KEY\n",
    ")\n",
    "\n",
    "# connect to the feature store\n",
    "feature_store = project.get_feature_store()\n",
    "\n",
    "# connect to the feature group\n",
    "feature_group = feature_store.get_or_create_feature_group(\n",
    "    name=config.FEATURE_GROUP_NAME,\n",
    "    version=config.FEATURE_GROUP_VERSION,\n",
    "    description=\"Time-series data at hourly frequency\",\n",
    "    primary_key = ['pickup_location_id', 'pickup_ts'],\n",
    "    event_time='pickup_ts',\n",
    ")"
   ]
  },
  {
   "cell_type": "code",
   "execution_count": null,
   "metadata": {},
   "outputs": [],
   "source": []
  }
 ],
 "metadata": {
  "kernelspec": {
   "display_name": ".venv",
   "language": "python",
   "name": "python3"
  },
  "language_info": {
   "codemirror_mode": {
    "name": "ipython",
    "version": 3
   },
   "file_extension": ".py",
   "mimetype": "text/x-python",
   "name": "python",
   "nbconvert_exporter": "python",
   "pygments_lexer": "ipython3",
   "version": "3.10.9"
  }
 },
 "nbformat": 4,
 "nbformat_minor": 2
}
