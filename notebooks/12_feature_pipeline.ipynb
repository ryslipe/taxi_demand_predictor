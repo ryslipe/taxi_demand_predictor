{
 "cells": [
  {
   "cell_type": "code",
   "execution_count": 27,
   "metadata": {},
   "outputs": [
    {
     "name": "stdout",
     "output_type": "stream",
     "text": [
      "The autoreload extension is already loaded. To reload it, use:\n",
      "  %reload_ext autoreload\n"
     ]
    }
   ],
   "source": [
    "%load_ext autoreload\n",
    "%autoreload 2"
   ]
  },
  {
   "cell_type": "code",
   "execution_count": 28,
   "metadata": {},
   "outputs": [],
   "source": [
    "import src.config as config"
   ]
  },
  {
   "cell_type": "code",
   "execution_count": 30,
   "metadata": {},
   "outputs": [
    {
     "name": "stdout",
     "output_type": "stream",
     "text": [
      "Current UTC date and time floored to the nearest hour: 2024-10-09 22:00:00+00:00\n",
      "We will fetch rides from fetch_data_from=Timestamp('2024-09-11 22:00:00+0000', tz='UTC') until fetch_data_to=Timestamp('2024-10-09 22:00:00+0000', tz='UTC')\n"
     ]
    }
   ],
   "source": [
    "from datetime import datetime, timedelta\n",
    "import pandas as pd\n",
    "import pytz\n",
    "\n",
    "# Get the current date and time in UTC\n",
    "current_date = pd.to_datetime(datetime.now(pytz.utc)).floor('H')\n",
    "\n",
    "print(f\"Current UTC date and time floored to the nearest hour: {current_date}\")\n",
    "\n",
    "# we fetch raw data for the last 28 days, to add redundancy to our data pipeline\n",
    "fetch_data_to = current_date\n",
    "fetch_data_from = current_date - timedelta(days=28)\n",
    "print(f'We will fetch rides from {fetch_data_from=} until {fetch_data_to=}')\n"
   ]
  },
  {
   "cell_type": "code",
   "execution_count": 31,
   "metadata": {},
   "outputs": [],
   "source": [
    "from src.data import load_raw_data\n",
    "from datetime import datetime, timedelta\n",
    "import pandas as pd\n",
    "import pytz\n",
    "\n",
    "def fetch_ride_events_from_data_warehouse(\n",
    "    from_date: datetime,\n",
    "    to_date: datetime\n",
    ") -> pd.DataFrame:\n",
    "    \"\"\"\n",
    "    This function is used to simulate production data by sampling historical data\n",
    "    from 52 weeks ago (i.e. 1 year)\n",
    "    \"\"\"\n",
    "    # Ensure from_date and to_date are timezone-aware\n",
    "    from_date = from_date.replace(tzinfo=pytz.UTC)\n",
    "    to_date = to_date.replace(tzinfo=pytz.UTC)\n",
    "\n",
    "    from_date_ = pd.Timestamp(from_date - timedelta(days=7*52))\n",
    "    to_date_ = pd.Timestamp(to_date - timedelta(days=7*52))\n",
    "    print(f'Fetching ride events from {from_date} to {to_date}')\n",
    "\n",
    "    if (from_date_.year == to_date_.year) and (from_date_.month == to_date_.month):\n",
    "        # download 1 file of data only\n",
    "        rides = load_raw_data(year=from_date_.year, months=from_date_.month)\n",
    "        rides['pickup_datetime'] = pd.to_datetime(rides['pickup_datetime'], utc=True)\n",
    "        rides = rides[rides.pickup_datetime >= from_date_]\n",
    "        rides = rides[rides.pickup_datetime < to_date_]\n",
    "    else:\n",
    "        # download 2 files from website\n",
    "        rides = load_raw_data(year=from_date_.year, months=from_date_.month)\n",
    "        rides['pickup_datetime'] = pd.to_datetime(rides['pickup_datetime'], utc=True)\n",
    "        rides = rides[rides.pickup_datetime >= from_date_]\n",
    "\n",
    "        rides_2 = load_raw_data(year=to_date_.year, months=to_date_.month)\n",
    "        rides_2['pickup_datetime'] = pd.to_datetime(rides_2['pickup_datetime'], utc=True)\n",
    "        rides_2 = rides_2[rides_2.pickup_datetime < to_date_]\n",
    "\n",
    "        rides = pd.concat([rides, rides_2])\n",
    "\n",
    "    # shift the pickup_datetime back 1 year ahead, to simulate production data\n",
    "    # using its 7*52-days-ago value\n",
    "    rides['pickup_datetime'] = rides['pickup_datetime'] + timedelta(days=7*52)\n",
    "\n",
    "    rides.sort_values(by=['pickup_location_id', 'pickup_datetime'], inplace=True)\n",
    "\n",
    "    return rides\n"
   ]
  },
  {
   "cell_type": "code",
   "execution_count": 32,
   "metadata": {},
   "outputs": [
    {
     "name": "stdout",
     "output_type": "stream",
     "text": [
      "Fetching ride events from 2024-09-11 22:00:00+00:00 to 2024-10-09 22:00:00+00:00\n",
      "File 2023-09 was already in local storage\n",
      "File 2023-10 was already in local storage\n"
     ]
    }
   ],
   "source": [
    "rides = fetch_ride_events_from_data_warehouse(from_date=fetch_data_from, to_date=fetch_data_to)"
   ]
  },
  {
   "cell_type": "markdown",
   "metadata": {},
   "source": [
    "This is our new data that we will be sending to the feature group. It is fake data that is just what happened a year ago in our time frame of 28 days."
   ]
  },
  {
   "cell_type": "code",
   "execution_count": 33,
   "metadata": {},
   "outputs": [
    {
     "data": {
      "text/html": [
       "<div>\n",
       "<style scoped>\n",
       "    .dataframe tbody tr th:only-of-type {\n",
       "        vertical-align: middle;\n",
       "    }\n",
       "\n",
       "    .dataframe tbody tr th {\n",
       "        vertical-align: top;\n",
       "    }\n",
       "\n",
       "    .dataframe thead th {\n",
       "        text-align: right;\n",
       "    }\n",
       "</style>\n",
       "<table border=\"1\" class=\"dataframe\">\n",
       "  <thead>\n",
       "    <tr style=\"text-align: right;\">\n",
       "      <th></th>\n",
       "      <th>pickup_datetime</th>\n",
       "      <th>pickup_location_id</th>\n",
       "    </tr>\n",
       "  </thead>\n",
       "  <tbody>\n",
       "    <tr>\n",
       "      <th>1336105</th>\n",
       "      <td>2024-09-12 10:31:48+00:00</td>\n",
       "      <td>1</td>\n",
       "    </tr>\n",
       "    <tr>\n",
       "      <th>1345029</th>\n",
       "      <td>2024-09-12 12:50:05+00:00</td>\n",
       "      <td>1</td>\n",
       "    </tr>\n",
       "    <tr>\n",
       "      <th>1352845</th>\n",
       "      <td>2024-09-12 13:45:08+00:00</td>\n",
       "      <td>1</td>\n",
       "    </tr>\n",
       "    <tr>\n",
       "      <th>1358457</th>\n",
       "      <td>2024-09-12 14:35:41+00:00</td>\n",
       "      <td>1</td>\n",
       "    </tr>\n",
       "    <tr>\n",
       "      <th>1369746</th>\n",
       "      <td>2024-09-12 16:35:28+00:00</td>\n",
       "      <td>1</td>\n",
       "    </tr>\n",
       "    <tr>\n",
       "      <th>...</th>\n",
       "      <td>...</td>\n",
       "      <td>...</td>\n",
       "    </tr>\n",
       "    <tr>\n",
       "      <th>1128536</th>\n",
       "      <td>2024-10-09 20:49:11+00:00</td>\n",
       "      <td>265</td>\n",
       "    </tr>\n",
       "    <tr>\n",
       "      <th>1135841</th>\n",
       "      <td>2024-10-09 21:28:50+00:00</td>\n",
       "      <td>265</td>\n",
       "    </tr>\n",
       "    <tr>\n",
       "      <th>1135533</th>\n",
       "      <td>2024-10-09 21:45:55+00:00</td>\n",
       "      <td>265</td>\n",
       "    </tr>\n",
       "    <tr>\n",
       "      <th>1134460</th>\n",
       "      <td>2024-10-09 21:51:50+00:00</td>\n",
       "      <td>265</td>\n",
       "    </tr>\n",
       "    <tr>\n",
       "      <th>1134461</th>\n",
       "      <td>2024-10-09 21:53:38+00:00</td>\n",
       "      <td>265</td>\n",
       "    </tr>\n",
       "  </tbody>\n",
       "</table>\n",
       "<p>2683906 rows × 2 columns</p>\n",
       "</div>"
      ],
      "text/plain": [
       "                  pickup_datetime  pickup_location_id\n",
       "1336105 2024-09-12 10:31:48+00:00                   1\n",
       "1345029 2024-09-12 12:50:05+00:00                   1\n",
       "1352845 2024-09-12 13:45:08+00:00                   1\n",
       "1358457 2024-09-12 14:35:41+00:00                   1\n",
       "1369746 2024-09-12 16:35:28+00:00                   1\n",
       "...                           ...                 ...\n",
       "1128536 2024-10-09 20:49:11+00:00                 265\n",
       "1135841 2024-10-09 21:28:50+00:00                 265\n",
       "1135533 2024-10-09 21:45:55+00:00                 265\n",
       "1134460 2024-10-09 21:51:50+00:00                 265\n",
       "1134461 2024-10-09 21:53:38+00:00                 265\n",
       "\n",
       "[2683906 rows x 2 columns]"
      ]
     },
     "execution_count": 33,
     "metadata": {},
     "output_type": "execute_result"
    }
   ],
   "source": [
    "rides"
   ]
  },
  {
   "cell_type": "code",
   "execution_count": 34,
   "metadata": {},
   "outputs": [
    {
     "name": "stdout",
     "output_type": "stream",
     "text": [
      "2024-10-09 15:57:40,031 WARNING: DeprecationWarning: np.find_common_type is deprecated.  Please use `np.result_type` or `np.promote_types`.\n",
      "See https://numpy.org/devdocs/release/1.25.0-notes.html and the docs for more information.  (Deprecated NumPy 1.25)\n",
      "\n",
      "2024-10-09 15:57:40,031 WARNING: DeprecationWarning: np.find_common_type is deprecated.  Please use `np.result_type` or `np.promote_types`.\n",
      "See https://numpy.org/devdocs/release/1.25.0-notes.html and the docs for more information.  (Deprecated NumPy 1.25)\n",
      "\n"
     ]
    },
    {
     "name": "stderr",
     "output_type": "stream",
     "text": [
      "100%|██████████| 265/265 [00:00<00:00, 468.36it/s]\n"
     ]
    }
   ],
   "source": [
    "from src.data import transform_raw_data_into_ts_data\n",
    "\n",
    "ts_data = transform_raw_data_into_ts_data(rides)"
   ]
  },
  {
   "cell_type": "code",
   "execution_count": 35,
   "metadata": {},
   "outputs": [
    {
     "data": {
      "text/html": [
       "<div>\n",
       "<style scoped>\n",
       "    .dataframe tbody tr th:only-of-type {\n",
       "        vertical-align: middle;\n",
       "    }\n",
       "\n",
       "    .dataframe tbody tr th {\n",
       "        vertical-align: top;\n",
       "    }\n",
       "\n",
       "    .dataframe thead th {\n",
       "        text-align: right;\n",
       "    }\n",
       "</style>\n",
       "<table border=\"1\" class=\"dataframe\">\n",
       "  <thead>\n",
       "    <tr style=\"text-align: right;\">\n",
       "      <th></th>\n",
       "      <th>pickup_hour</th>\n",
       "      <th>rides</th>\n",
       "      <th>pickup_location_id</th>\n",
       "    </tr>\n",
       "  </thead>\n",
       "  <tbody>\n",
       "    <tr>\n",
       "      <th>0</th>\n",
       "      <td>2024-09-11 22:00:00+00:00</td>\n",
       "      <td>0</td>\n",
       "      <td>1</td>\n",
       "    </tr>\n",
       "    <tr>\n",
       "      <th>1</th>\n",
       "      <td>2024-09-11 23:00:00+00:00</td>\n",
       "      <td>0</td>\n",
       "      <td>1</td>\n",
       "    </tr>\n",
       "    <tr>\n",
       "      <th>2</th>\n",
       "      <td>2024-09-12 00:00:00+00:00</td>\n",
       "      <td>0</td>\n",
       "      <td>1</td>\n",
       "    </tr>\n",
       "    <tr>\n",
       "      <th>3</th>\n",
       "      <td>2024-09-12 01:00:00+00:00</td>\n",
       "      <td>0</td>\n",
       "      <td>1</td>\n",
       "    </tr>\n",
       "    <tr>\n",
       "      <th>4</th>\n",
       "      <td>2024-09-12 02:00:00+00:00</td>\n",
       "      <td>0</td>\n",
       "      <td>1</td>\n",
       "    </tr>\n",
       "    <tr>\n",
       "      <th>...</th>\n",
       "      <td>...</td>\n",
       "      <td>...</td>\n",
       "      <td>...</td>\n",
       "    </tr>\n",
       "    <tr>\n",
       "      <th>178075</th>\n",
       "      <td>2024-10-09 17:00:00+00:00</td>\n",
       "      <td>4</td>\n",
       "      <td>265</td>\n",
       "    </tr>\n",
       "    <tr>\n",
       "      <th>178076</th>\n",
       "      <td>2024-10-09 18:00:00+00:00</td>\n",
       "      <td>7</td>\n",
       "      <td>265</td>\n",
       "    </tr>\n",
       "    <tr>\n",
       "      <th>178077</th>\n",
       "      <td>2024-10-09 19:00:00+00:00</td>\n",
       "      <td>2</td>\n",
       "      <td>265</td>\n",
       "    </tr>\n",
       "    <tr>\n",
       "      <th>178078</th>\n",
       "      <td>2024-10-09 20:00:00+00:00</td>\n",
       "      <td>3</td>\n",
       "      <td>265</td>\n",
       "    </tr>\n",
       "    <tr>\n",
       "      <th>178079</th>\n",
       "      <td>2024-10-09 21:00:00+00:00</td>\n",
       "      <td>4</td>\n",
       "      <td>265</td>\n",
       "    </tr>\n",
       "  </tbody>\n",
       "</table>\n",
       "<p>178080 rows × 3 columns</p>\n",
       "</div>"
      ],
      "text/plain": [
       "                     pickup_hour  rides  pickup_location_id\n",
       "0      2024-09-11 22:00:00+00:00      0                   1\n",
       "1      2024-09-11 23:00:00+00:00      0                   1\n",
       "2      2024-09-12 00:00:00+00:00      0                   1\n",
       "3      2024-09-12 01:00:00+00:00      0                   1\n",
       "4      2024-09-12 02:00:00+00:00      0                   1\n",
       "...                          ...    ...                 ...\n",
       "178075 2024-10-09 17:00:00+00:00      4                 265\n",
       "178076 2024-10-09 18:00:00+00:00      7                 265\n",
       "178077 2024-10-09 19:00:00+00:00      2                 265\n",
       "178078 2024-10-09 20:00:00+00:00      3                 265\n",
       "178079 2024-10-09 21:00:00+00:00      4                 265\n",
       "\n",
       "[178080 rows x 3 columns]"
      ]
     },
     "execution_count": 35,
     "metadata": {},
     "output_type": "execute_result"
    }
   ],
   "source": [
    "ts_data"
   ]
  },
  {
   "cell_type": "code",
   "execution_count": 36,
   "metadata": {},
   "outputs": [
    {
     "name": "stdout",
     "output_type": "stream",
     "text": [
      "<class 'pandas.core.frame.DataFrame'>\n",
      "RangeIndex: 178080 entries, 0 to 178079\n",
      "Data columns (total 3 columns):\n",
      " #   Column              Non-Null Count   Dtype              \n",
      "---  ------              --------------   -----              \n",
      " 0   pickup_hour         178080 non-null  datetime64[ns, UTC]\n",
      " 1   rides               178080 non-null  int64              \n",
      " 2   pickup_location_id  178080 non-null  int64              \n",
      "dtypes: datetime64[ns, UTC](1), int64(2)\n",
      "memory usage: 4.1 MB\n"
     ]
    }
   ],
   "source": [
    "ts_data.info()"
   ]
  },
  {
   "cell_type": "code",
   "execution_count": 37,
   "metadata": {},
   "outputs": [],
   "source": [
    "# add column with Unix epoch milliseconds\n",
    "ts_data['pickup_ts'] = ts_data['pickup_hour'].astype('int64') // 10**6"
   ]
  },
  {
   "cell_type": "code",
   "execution_count": 38,
   "metadata": {},
   "outputs": [
    {
     "data": {
      "text/html": [
       "<div>\n",
       "<style scoped>\n",
       "    .dataframe tbody tr th:only-of-type {\n",
       "        vertical-align: middle;\n",
       "    }\n",
       "\n",
       "    .dataframe tbody tr th {\n",
       "        vertical-align: top;\n",
       "    }\n",
       "\n",
       "    .dataframe thead th {\n",
       "        text-align: right;\n",
       "    }\n",
       "</style>\n",
       "<table border=\"1\" class=\"dataframe\">\n",
       "  <thead>\n",
       "    <tr style=\"text-align: right;\">\n",
       "      <th></th>\n",
       "      <th>pickup_hour</th>\n",
       "      <th>rides</th>\n",
       "      <th>pickup_location_id</th>\n",
       "      <th>pickup_ts</th>\n",
       "    </tr>\n",
       "  </thead>\n",
       "  <tbody>\n",
       "    <tr>\n",
       "      <th>0</th>\n",
       "      <td>2024-09-11 22:00:00+00:00</td>\n",
       "      <td>0</td>\n",
       "      <td>1</td>\n",
       "      <td>1726092000000</td>\n",
       "    </tr>\n",
       "    <tr>\n",
       "      <th>1</th>\n",
       "      <td>2024-09-11 23:00:00+00:00</td>\n",
       "      <td>0</td>\n",
       "      <td>1</td>\n",
       "      <td>1726095600000</td>\n",
       "    </tr>\n",
       "    <tr>\n",
       "      <th>2</th>\n",
       "      <td>2024-09-12 00:00:00+00:00</td>\n",
       "      <td>0</td>\n",
       "      <td>1</td>\n",
       "      <td>1726099200000</td>\n",
       "    </tr>\n",
       "    <tr>\n",
       "      <th>3</th>\n",
       "      <td>2024-09-12 01:00:00+00:00</td>\n",
       "      <td>0</td>\n",
       "      <td>1</td>\n",
       "      <td>1726102800000</td>\n",
       "    </tr>\n",
       "    <tr>\n",
       "      <th>4</th>\n",
       "      <td>2024-09-12 02:00:00+00:00</td>\n",
       "      <td>0</td>\n",
       "      <td>1</td>\n",
       "      <td>1726106400000</td>\n",
       "    </tr>\n",
       "    <tr>\n",
       "      <th>...</th>\n",
       "      <td>...</td>\n",
       "      <td>...</td>\n",
       "      <td>...</td>\n",
       "      <td>...</td>\n",
       "    </tr>\n",
       "    <tr>\n",
       "      <th>178075</th>\n",
       "      <td>2024-10-09 17:00:00+00:00</td>\n",
       "      <td>4</td>\n",
       "      <td>265</td>\n",
       "      <td>1728493200000</td>\n",
       "    </tr>\n",
       "    <tr>\n",
       "      <th>178076</th>\n",
       "      <td>2024-10-09 18:00:00+00:00</td>\n",
       "      <td>7</td>\n",
       "      <td>265</td>\n",
       "      <td>1728496800000</td>\n",
       "    </tr>\n",
       "    <tr>\n",
       "      <th>178077</th>\n",
       "      <td>2024-10-09 19:00:00+00:00</td>\n",
       "      <td>2</td>\n",
       "      <td>265</td>\n",
       "      <td>1728500400000</td>\n",
       "    </tr>\n",
       "    <tr>\n",
       "      <th>178078</th>\n",
       "      <td>2024-10-09 20:00:00+00:00</td>\n",
       "      <td>3</td>\n",
       "      <td>265</td>\n",
       "      <td>1728504000000</td>\n",
       "    </tr>\n",
       "    <tr>\n",
       "      <th>178079</th>\n",
       "      <td>2024-10-09 21:00:00+00:00</td>\n",
       "      <td>4</td>\n",
       "      <td>265</td>\n",
       "      <td>1728507600000</td>\n",
       "    </tr>\n",
       "  </tbody>\n",
       "</table>\n",
       "<p>178080 rows × 4 columns</p>\n",
       "</div>"
      ],
      "text/plain": [
       "                     pickup_hour  rides  pickup_location_id      pickup_ts\n",
       "0      2024-09-11 22:00:00+00:00      0                   1  1726092000000\n",
       "1      2024-09-11 23:00:00+00:00      0                   1  1726095600000\n",
       "2      2024-09-12 00:00:00+00:00      0                   1  1726099200000\n",
       "3      2024-09-12 01:00:00+00:00      0                   1  1726102800000\n",
       "4      2024-09-12 02:00:00+00:00      0                   1  1726106400000\n",
       "...                          ...    ...                 ...            ...\n",
       "178075 2024-10-09 17:00:00+00:00      4                 265  1728493200000\n",
       "178076 2024-10-09 18:00:00+00:00      7                 265  1728496800000\n",
       "178077 2024-10-09 19:00:00+00:00      2                 265  1728500400000\n",
       "178078 2024-10-09 20:00:00+00:00      3                 265  1728504000000\n",
       "178079 2024-10-09 21:00:00+00:00      4                 265  1728507600000\n",
       "\n",
       "[178080 rows x 4 columns]"
      ]
     },
     "execution_count": 38,
     "metadata": {},
     "output_type": "execute_result"
    }
   ],
   "source": [
    "ts_data"
   ]
  },
  {
   "cell_type": "code",
   "execution_count": 39,
   "metadata": {},
   "outputs": [
    {
     "name": "stdout",
     "output_type": "stream",
     "text": [
      "Connection closed.\n",
      "Connected. Call `.close()` to terminate connection gracefully.\n",
      "\n",
      "Logged in to project, explore it here https://c.app.hopsworks.ai:443/p/1049751\n",
      "Connected. Call `.close()` to terminate connection gracefully.\n"
     ]
    }
   ],
   "source": [
    "import hopsworks\n",
    "\n",
    "# connect to the project\n",
    "project = hopsworks.login(\n",
    "    project=config.HOPSWORKS_PROJECT_NAME,\n",
    "    api_key_value=config.HOPSWORKS_API_KEY\n",
    ")\n",
    "\n",
    "# connect to the feature store\n",
    "feature_store = project.get_feature_store()\n",
    "\n",
    "# connect to the feature group\n",
    "feature_group = feature_store.get_or_create_feature_group(\n",
    "    name=config.FEATURE_GROUP_NAME,\n",
    "    version=config.FEATURE_GROUP_VERSION,\n",
    "    description=\"Time-series data at hourly frequency\",\n",
    "    primary_key = ['pickup_location_id', 'pickup_ts'],\n",
    "    event_time='pickup_ts',\n",
    ")"
   ]
  },
  {
   "cell_type": "code",
   "execution_count": 40,
   "metadata": {},
   "outputs": [
    {
     "data": {
      "text/plain": [
       "178080"
      ]
     },
     "execution_count": 40,
     "metadata": {},
     "output_type": "execute_result"
    }
   ],
   "source": [
    "len(ts_data)"
   ]
  },
  {
   "cell_type": "code",
   "execution_count": 41,
   "metadata": {},
   "outputs": [
    {
     "data": {
      "application/vnd.jupyter.widget-view+json": {
       "model_id": "545c86ab37054718a05cbca8f7776677",
       "version_major": 2,
       "version_minor": 0
      },
      "text/plain": [
       "Uploading Dataframe: 0.00% |          | Rows 0/178080 | Elapsed Time: 00:00 | Remaining Time: ?"
      ]
     },
     "metadata": {},
     "output_type": "display_data"
    },
    {
     "name": "stdout",
     "output_type": "stream",
     "text": [
      "Launching job: time_series_hourly_feature_group_1_offline_fg_materialization\n",
      "Job started successfully, you can follow the progress at \n",
      "https://c.app.hopsworks.ai/p/1049751/jobs/named/time_series_hourly_feature_group_1_offline_fg_materialization/executions\n"
     ]
    },
    {
     "data": {
      "text/plain": [
       "(<hsfs.core.job.Job at 0x281f9828130>, None)"
      ]
     },
     "execution_count": 41,
     "metadata": {},
     "output_type": "execute_result"
    }
   ],
   "source": [
    "# insert this data to our feature group\n",
    "feature_group.insert(ts_data, write_options={\"wait_for_job\": True})\n"
   ]
  },
  {
   "cell_type": "code",
   "execution_count": 42,
   "metadata": {},
   "outputs": [
    {
     "name": "stdout",
     "output_type": "stream",
     "text": [
      "Finished: Reading data from Hopsworks, using Hopsworks Feature Query Service (18.57s) \n"
     ]
    }
   ],
   "source": [
    "df = feature_group.read()"
   ]
  },
  {
   "cell_type": "code",
   "execution_count": 43,
   "metadata": {},
   "outputs": [
    {
     "data": {
      "text/plain": [
       "4120220"
      ]
     },
     "execution_count": 43,
     "metadata": {},
     "output_type": "execute_result"
    }
   ],
   "source": [
    "len(df)"
   ]
  },
  {
   "cell_type": "code",
   "execution_count": null,
   "metadata": {},
   "outputs": [],
   "source": []
  }
 ],
 "metadata": {
  "kernelspec": {
   "display_name": ".venv",
   "language": "python",
   "name": "python3"
  },
  "language_info": {
   "codemirror_mode": {
    "name": "ipython",
    "version": 3
   },
   "file_extension": ".py",
   "mimetype": "text/x-python",
   "name": "python",
   "nbconvert_exporter": "python",
   "pygments_lexer": "ipython3",
   "version": "3.10.9"
  }
 },
 "nbformat": 4,
 "nbformat_minor": 2
}
