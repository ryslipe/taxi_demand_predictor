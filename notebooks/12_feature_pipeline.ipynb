{
 "cells": [
  {
   "cell_type": "markdown",
   "metadata": {},
   "source": [
    "## Create Feature Pipeline"
   ]
  },
  {
   "cell_type": "markdown",
   "metadata": {},
   "source": [
    "The first step is to load the configuration file we created called **config.py** so that we can access the HOPSWORKS variables such as the project name, feature group name, feature group version and API key. We do this so that we do not have to keep identifying them over and over again."
   ]
  },
  {
   "cell_type": "code",
   "execution_count": 22,
   "metadata": {},
   "outputs": [],
   "source": [
    "import src.config as config"
   ]
  },
  {
   "cell_type": "markdown",
   "metadata": {},
   "source": [
    "Since we are fetching data in this notebook and doing it every hour, we need to keep track of the current time and the range of dates that we would like to fetch data from. This will fetch the last 28x3 days every hour. We are setting this to be 28x3 because the last available data is from over two months ago. This means we need enough data to cover this gap. "
   ]
  },
  {
   "cell_type": "code",
   "execution_count": 23,
   "metadata": {},
   "outputs": [
    {
     "name": "stdout",
     "output_type": "stream",
     "text": [
      "current_date=Timestamp('2024-09-28 19:00:00')\n",
      "fetch_data_from=Timestamp('2024-07-06 19:00:00')\n"
     ]
    }
   ],
   "source": [
    "from datetime import datetime, timedelta, timezone\n",
    "\n",
    "import pandas as pd\n",
    "\n",
    "current_date = pd.to_datetime(datetime.now(timezone.utc)).floor('H')\n",
    "current_date = current_date.replace(tzinfo=None)\n",
    "print(f'{current_date=}')\n",
    "\n",
    "\n",
    "# fetch data to the current time (rounded to nearest hour) from three months ago (28 days ago*3 months)\n",
    "fetch_data_to = current_date\n",
    "# we need to cover for no data from July until today- 09/26\n",
    "fetch_data_from = current_date - timedelta(days = 28*3)\n",
    "print(f'{fetch_data_from=}')"
   ]
  },
  {
   "cell_type": "code",
   "execution_count": 24,
   "metadata": {},
   "outputs": [
    {
     "data": {
      "text/plain": [
       "Timestamp('2024-07-06 19:00:00')"
      ]
     },
     "execution_count": 24,
     "metadata": {},
     "output_type": "execute_result"
    }
   ],
   "source": [
    "fetch_data_from"
   ]
  },
  {
   "cell_type": "markdown",
   "metadata": {},
   "source": [
    "For this model, we do not have access to the NYC Taxi Data Warehouse (we cannot get the new rides every hour). For this purpose we will simulate a call which will show how it would work. Since we have access to the rides from a year ago we will pretend that this is the most recent demand that we can fetch. This function will load in data from exactly one year ago and get data for 3 months prior with each month being 28 days long. This data is the simulated new data. We pretend that we run this code every hour to get the newest 28x3 days worth of data but since our data comes from a source that does not update every hour, we use this synthetic data."
   ]
  },
  {
   "cell_type": "code",
   "execution_count": 25,
   "metadata": {},
   "outputs": [],
   "source": [
    "from src.data import load_raw_data\n",
    "\n",
    "def fetch_batch_raw_data(from_date: datetime, to_date: datetime) -> pd.DataFrame:\n",
    "    \"\"\"\n",
    "    Simulate production data by sampling historical data from 52 weeks ago (i.e. 1 year)\n",
    "    \"\"\"\n",
    "    # get data from a year ago from today\n",
    "    from_date_ = from_date - timedelta(days=7*52)\n",
    "    # get the data to the date which is 28*3 days before from_date_\n",
    "    to_date_ = to_date - timedelta(days=7*52)\n",
    "    print(f'{from_date_=}, {to_date_=}')\n",
    "\n",
    "    # download 2 files from website using our load_raw_data_function - this is July\n",
    "    rides = load_raw_data(year=from_date_.year, months=from_date_.month)\n",
    "    rides = rides[rides['pickup_datetime'] >= from_date_]\n",
    "\n",
    "    # this is august\n",
    "    rides1 = load_raw_data(year=from_date_.year, months= from_date_.month + 1)\n",
    "    \n",
    "    # this is september\n",
    "    rides_2 = load_raw_data(year=to_date_.year, months=to_date_.month)\n",
    "    rides_2 = rides_2[rides_2['pickup_datetime'] < to_date_]\n",
    "\n",
    "    rides = pd.concat([rides, rides1])\n",
    "    rides = pd.concat([rides, rides_2])\n",
    "\n",
    "    # shift the data to pretend this is recent data - add a year to each row\n",
    "    rides['pickup_datetime'] += timedelta(days=7*52)\n",
    "\n",
    "    rides.sort_values(by=['pickup_location_id', 'pickup_datetime'], inplace=True)\n",
    "\n",
    "    return rides"
   ]
  },
  {
   "cell_type": "code",
   "execution_count": 26,
   "metadata": {},
   "outputs": [
    {
     "name": "stdout",
     "output_type": "stream",
     "text": [
      "from_date_=Timestamp('2023-07-08 19:00:00'), to_date_=Timestamp('2023-09-30 19:00:00')\n",
      "File 2023-07 was already in local storage\n",
      "File 2023-08 was already in local storage\n",
      "File 2023-09 was already in local storage\n"
     ]
    }
   ],
   "source": [
    "# get rides\n",
    "rides = fetch_batch_raw_data(from_date=fetch_data_from, to_date=fetch_data_to)"
   ]
  },
  {
   "cell_type": "code",
   "execution_count": 27,
   "metadata": {},
   "outputs": [
    {
     "data": {
      "text/html": [
       "<div>\n",
       "<style scoped>\n",
       "    .dataframe tbody tr th:only-of-type {\n",
       "        vertical-align: middle;\n",
       "    }\n",
       "\n",
       "    .dataframe tbody tr th {\n",
       "        vertical-align: top;\n",
       "    }\n",
       "\n",
       "    .dataframe thead th {\n",
       "        text-align: right;\n",
       "    }\n",
       "</style>\n",
       "<table border=\"1\" class=\"dataframe\">\n",
       "  <thead>\n",
       "    <tr style=\"text-align: right;\">\n",
       "      <th></th>\n",
       "      <th>pickup_datetime</th>\n",
       "      <th>pickup_location_id</th>\n",
       "    </tr>\n",
       "  </thead>\n",
       "  <tbody>\n",
       "    <tr>\n",
       "      <th>601094</th>\n",
       "      <td>2024-07-06 20:42:15</td>\n",
       "      <td>1</td>\n",
       "    </tr>\n",
       "    <tr>\n",
       "      <th>605756</th>\n",
       "      <td>2024-07-06 21:35:54</td>\n",
       "      <td>1</td>\n",
       "    </tr>\n",
       "    <tr>\n",
       "      <th>608614</th>\n",
       "      <td>2024-07-06 22:00:08</td>\n",
       "      <td>1</td>\n",
       "    </tr>\n",
       "    <tr>\n",
       "      <th>610829</th>\n",
       "      <td>2024-07-06 22:50:16</td>\n",
       "      <td>1</td>\n",
       "    </tr>\n",
       "    <tr>\n",
       "      <th>620252</th>\n",
       "      <td>2024-07-07 00:24:27</td>\n",
       "      <td>1</td>\n",
       "    </tr>\n",
       "    <tr>\n",
       "      <th>...</th>\n",
       "      <td>...</td>\n",
       "      <td>...</td>\n",
       "    </tr>\n",
       "    <tr>\n",
       "      <th>2660919</th>\n",
       "      <td>2024-09-28 17:06:13</td>\n",
       "      <td>265</td>\n",
       "    </tr>\n",
       "    <tr>\n",
       "      <th>2662010</th>\n",
       "      <td>2024-09-28 17:20:02</td>\n",
       "      <td>265</td>\n",
       "    </tr>\n",
       "    <tr>\n",
       "      <th>2664171</th>\n",
       "      <td>2024-09-28 17:25:20</td>\n",
       "      <td>265</td>\n",
       "    </tr>\n",
       "    <tr>\n",
       "      <th>2672577</th>\n",
       "      <td>2024-09-28 18:00:33</td>\n",
       "      <td>265</td>\n",
       "    </tr>\n",
       "    <tr>\n",
       "      <th>2673137</th>\n",
       "      <td>2024-09-28 18:13:02</td>\n",
       "      <td>265</td>\n",
       "    </tr>\n",
       "  </tbody>\n",
       "</table>\n",
       "<p>7938503 rows × 2 columns</p>\n",
       "</div>"
      ],
      "text/plain": [
       "            pickup_datetime  pickup_location_id\n",
       "601094  2024-07-06 20:42:15                   1\n",
       "605756  2024-07-06 21:35:54                   1\n",
       "608614  2024-07-06 22:00:08                   1\n",
       "610829  2024-07-06 22:50:16                   1\n",
       "620252  2024-07-07 00:24:27                   1\n",
       "...                     ...                 ...\n",
       "2660919 2024-09-28 17:06:13                 265\n",
       "2662010 2024-09-28 17:20:02                 265\n",
       "2664171 2024-09-28 17:25:20                 265\n",
       "2672577 2024-09-28 18:00:33                 265\n",
       "2673137 2024-09-28 18:13:02                 265\n",
       "\n",
       "[7938503 rows x 2 columns]"
      ]
     },
     "execution_count": 27,
     "metadata": {},
     "output_type": "execute_result"
    }
   ],
   "source": [
    "rides"
   ]
  },
  {
   "cell_type": "code",
   "execution_count": 28,
   "metadata": {},
   "outputs": [
    {
     "data": {
      "text/html": [
       "<div>\n",
       "<style scoped>\n",
       "    .dataframe tbody tr th:only-of-type {\n",
       "        vertical-align: middle;\n",
       "    }\n",
       "\n",
       "    .dataframe tbody tr th {\n",
       "        vertical-align: top;\n",
       "    }\n",
       "\n",
       "    .dataframe thead th {\n",
       "        text-align: right;\n",
       "    }\n",
       "</style>\n",
       "<table border=\"1\" class=\"dataframe\">\n",
       "  <thead>\n",
       "    <tr style=\"text-align: right;\">\n",
       "      <th></th>\n",
       "      <th>pickup_datetime</th>\n",
       "      <th>pickup_location_id</th>\n",
       "    </tr>\n",
       "  </thead>\n",
       "  <tbody>\n",
       "    <tr>\n",
       "      <th>299775</th>\n",
       "      <td>2024-08-02 02:13:48</td>\n",
       "      <td>1</td>\n",
       "    </tr>\n",
       "    <tr>\n",
       "      <th>347577</th>\n",
       "      <td>2024-08-02 17:23:08</td>\n",
       "      <td>1</td>\n",
       "    </tr>\n",
       "    <tr>\n",
       "      <th>369006</th>\n",
       "      <td>2024-08-02 20:11:08</td>\n",
       "      <td>1</td>\n",
       "    </tr>\n",
       "    <tr>\n",
       "      <th>393314</th>\n",
       "      <td>2024-08-03 02:34:51</td>\n",
       "      <td>1</td>\n",
       "    </tr>\n",
       "    <tr>\n",
       "      <th>399841</th>\n",
       "      <td>2024-08-03 07:43:51</td>\n",
       "      <td>1</td>\n",
       "    </tr>\n",
       "    <tr>\n",
       "      <th>...</th>\n",
       "      <td>...</td>\n",
       "      <td>...</td>\n",
       "    </tr>\n",
       "    <tr>\n",
       "      <th>2660919</th>\n",
       "      <td>2024-09-28 17:06:13</td>\n",
       "      <td>265</td>\n",
       "    </tr>\n",
       "    <tr>\n",
       "      <th>2662010</th>\n",
       "      <td>2024-09-28 17:20:02</td>\n",
       "      <td>265</td>\n",
       "    </tr>\n",
       "    <tr>\n",
       "      <th>2664171</th>\n",
       "      <td>2024-09-28 17:25:20</td>\n",
       "      <td>265</td>\n",
       "    </tr>\n",
       "    <tr>\n",
       "      <th>2672577</th>\n",
       "      <td>2024-09-28 18:00:33</td>\n",
       "      <td>265</td>\n",
       "    </tr>\n",
       "    <tr>\n",
       "      <th>2673137</th>\n",
       "      <td>2024-09-28 18:13:02</td>\n",
       "      <td>265</td>\n",
       "    </tr>\n",
       "  </tbody>\n",
       "</table>\n",
       "<p>5334142 rows × 2 columns</p>\n",
       "</div>"
      ],
      "text/plain": [
       "            pickup_datetime  pickup_location_id\n",
       "299775  2024-08-02 02:13:48                   1\n",
       "347577  2024-08-02 17:23:08                   1\n",
       "369006  2024-08-02 20:11:08                   1\n",
       "393314  2024-08-03 02:34:51                   1\n",
       "399841  2024-08-03 07:43:51                   1\n",
       "...                     ...                 ...\n",
       "2660919 2024-09-28 17:06:13                 265\n",
       "2662010 2024-09-28 17:20:02                 265\n",
       "2664171 2024-09-28 17:25:20                 265\n",
       "2672577 2024-09-28 18:00:33                 265\n",
       "2673137 2024-09-28 18:13:02                 265\n",
       "\n",
       "[5334142 rows x 2 columns]"
      ]
     },
     "execution_count": 28,
     "metadata": {},
     "output_type": "execute_result"
    }
   ],
   "source": [
    "rides[rides['pickup_datetime'] > '2024-08-02']"
   ]
  },
  {
   "cell_type": "markdown",
   "metadata": {},
   "source": [
    "Below we can get a sense of what happened. We called the data warehouse to get 28 days worth of data from today. Since we didnt have the data we used last years data and shifted it to be 28 days ago from today. This is why the **rides** dataframe starts on 08-28-2024 (28 days ago), and ends today. All we did is retrieve 28 days worth of data but since we didnt have it we pretended to have it by creating it. Don't overthink this step, its just getting 28 days worth of *new* data. In practice we would have the real data available to us.\n",
    "\n",
    "At the time of writing this code - 09.25.2024 the newest data available is from July."
   ]
  },
  {
   "cell_type": "markdown",
   "metadata": {},
   "source": [
    "##### Transform the Raw Data into Time Series Data"
   ]
  },
  {
   "cell_type": "markdown",
   "metadata": {},
   "source": [
    "We now have the raw data and want to transform it into time series data just as we did before. This will be done with the **transform_raw_data_into_ts_data** function from **src.data**.\n",
    "\n",
    "The older data that we had is already transformed into time series data and loaded into our feature group. This is the new data that we now have to transform."
   ]
  },
  {
   "cell_type": "code",
   "execution_count": 29,
   "metadata": {},
   "outputs": [
    {
     "name": "stdout",
     "output_type": "stream",
     "text": [
      "2024-09-28 12:49:37,224 WARNING: DeprecationWarning: np.find_common_type is deprecated.  Please use `np.result_type` or `np.promote_types`.\n",
      "See https://numpy.org/devdocs/release/1.25.0-notes.html and the docs for more information.  (Deprecated NumPy 1.25)\n",
      "\n",
      "2024-09-28 12:49:37,240 WARNING: DeprecationWarning: np.find_common_type is deprecated.  Please use `np.result_type` or `np.promote_types`.\n",
      "See https://numpy.org/devdocs/release/1.25.0-notes.html and the docs for more information.  (Deprecated NumPy 1.25)\n",
      "\n"
     ]
    },
    {
     "name": "stderr",
     "output_type": "stream",
     "text": [
      "100%|██████████| 265/265 [00:00<00:00, 314.61it/s]\n"
     ]
    }
   ],
   "source": [
    "from src.data import transform_raw_data_into_ts_data\n",
    "\n",
    "ts_data = transform_raw_data_into_ts_data(rides)"
   ]
  },
  {
   "cell_type": "code",
   "execution_count": 30,
   "metadata": {},
   "outputs": [],
   "source": [
    "# string to datetime\n",
    "ts_data['pickup_hour'] = pd.to_datetime(ts_data['pickup_hour'], utc=True)\n",
    "\n",
    "# add column with Unix epoch milliseconds\n",
    "ts_data['pickup_ts'] = ts_data['pickup_hour'].apply(lambda x: x.timestamp() * 1000)"
   ]
  },
  {
   "cell_type": "code",
   "execution_count": 31,
   "metadata": {},
   "outputs": [],
   "source": [
    "cp = ts_data[ts_data['pickup_location_id'] == 43]"
   ]
  },
  {
   "cell_type": "code",
   "execution_count": 32,
   "metadata": {},
   "outputs": [
    {
     "data": {
      "text/html": [
       "<div>\n",
       "<style scoped>\n",
       "    .dataframe tbody tr th:only-of-type {\n",
       "        vertical-align: middle;\n",
       "    }\n",
       "\n",
       "    .dataframe tbody tr th {\n",
       "        vertical-align: top;\n",
       "    }\n",
       "\n",
       "    .dataframe thead th {\n",
       "        text-align: right;\n",
       "    }\n",
       "</style>\n",
       "<table border=\"1\" class=\"dataframe\">\n",
       "  <thead>\n",
       "    <tr style=\"text-align: right;\">\n",
       "      <th></th>\n",
       "      <th>pickup_hour</th>\n",
       "      <th>rides</th>\n",
       "      <th>pickup_location_id</th>\n",
       "      <th>pickup_ts</th>\n",
       "    </tr>\n",
       "  </thead>\n",
       "  <tbody>\n",
       "    <tr>\n",
       "      <th>85278</th>\n",
       "      <td>2024-08-01 01:00:00+00:00</td>\n",
       "      <td>3</td>\n",
       "      <td>43</td>\n",
       "      <td>1.722474e+12</td>\n",
       "    </tr>\n",
       "    <tr>\n",
       "      <th>85279</th>\n",
       "      <td>2024-08-01 02:00:00+00:00</td>\n",
       "      <td>5</td>\n",
       "      <td>43</td>\n",
       "      <td>1.722478e+12</td>\n",
       "    </tr>\n",
       "    <tr>\n",
       "      <th>85280</th>\n",
       "      <td>2024-08-01 03:00:00+00:00</td>\n",
       "      <td>1</td>\n",
       "      <td>43</td>\n",
       "      <td>1.722481e+12</td>\n",
       "    </tr>\n",
       "    <tr>\n",
       "      <th>85281</th>\n",
       "      <td>2024-08-01 04:00:00+00:00</td>\n",
       "      <td>0</td>\n",
       "      <td>43</td>\n",
       "      <td>1.722485e+12</td>\n",
       "    </tr>\n",
       "    <tr>\n",
       "      <th>85282</th>\n",
       "      <td>2024-08-01 05:00:00+00:00</td>\n",
       "      <td>5</td>\n",
       "      <td>43</td>\n",
       "      <td>1.722488e+12</td>\n",
       "    </tr>\n",
       "    <tr>\n",
       "      <th>...</th>\n",
       "      <td>...</td>\n",
       "      <td>...</td>\n",
       "      <td>...</td>\n",
       "      <td>...</td>\n",
       "    </tr>\n",
       "    <tr>\n",
       "      <th>86683</th>\n",
       "      <td>2024-09-28 14:00:00+00:00</td>\n",
       "      <td>155</td>\n",
       "      <td>43</td>\n",
       "      <td>1.727532e+12</td>\n",
       "    </tr>\n",
       "    <tr>\n",
       "      <th>86684</th>\n",
       "      <td>2024-09-28 15:00:00+00:00</td>\n",
       "      <td>171</td>\n",
       "      <td>43</td>\n",
       "      <td>1.727536e+12</td>\n",
       "    </tr>\n",
       "    <tr>\n",
       "      <th>86685</th>\n",
       "      <td>2024-09-28 16:00:00+00:00</td>\n",
       "      <td>217</td>\n",
       "      <td>43</td>\n",
       "      <td>1.727539e+12</td>\n",
       "    </tr>\n",
       "    <tr>\n",
       "      <th>86686</th>\n",
       "      <td>2024-09-28 17:00:00+00:00</td>\n",
       "      <td>173</td>\n",
       "      <td>43</td>\n",
       "      <td>1.727543e+12</td>\n",
       "    </tr>\n",
       "    <tr>\n",
       "      <th>86687</th>\n",
       "      <td>2024-09-28 18:00:00+00:00</td>\n",
       "      <td>140</td>\n",
       "      <td>43</td>\n",
       "      <td>1.727546e+12</td>\n",
       "    </tr>\n",
       "  </tbody>\n",
       "</table>\n",
       "<p>1410 rows × 4 columns</p>\n",
       "</div>"
      ],
      "text/plain": [
       "                    pickup_hour  rides  pickup_location_id     pickup_ts\n",
       "85278 2024-08-01 01:00:00+00:00      3                  43  1.722474e+12\n",
       "85279 2024-08-01 02:00:00+00:00      5                  43  1.722478e+12\n",
       "85280 2024-08-01 03:00:00+00:00      1                  43  1.722481e+12\n",
       "85281 2024-08-01 04:00:00+00:00      0                  43  1.722485e+12\n",
       "85282 2024-08-01 05:00:00+00:00      5                  43  1.722488e+12\n",
       "...                         ...    ...                 ...           ...\n",
       "86683 2024-09-28 14:00:00+00:00    155                  43  1.727532e+12\n",
       "86684 2024-09-28 15:00:00+00:00    171                  43  1.727536e+12\n",
       "86685 2024-09-28 16:00:00+00:00    217                  43  1.727539e+12\n",
       "86686 2024-09-28 17:00:00+00:00    173                  43  1.727543e+12\n",
       "86687 2024-09-28 18:00:00+00:00    140                  43  1.727546e+12\n",
       "\n",
       "[1410 rows x 4 columns]"
      ]
     },
     "execution_count": 32,
     "metadata": {},
     "output_type": "execute_result"
    }
   ],
   "source": [
    "cp[cp['pickup_hour'] > '2024-08-01']"
   ]
  },
  {
   "cell_type": "code",
   "execution_count": 33,
   "metadata": {},
   "outputs": [
    {
     "data": {
      "text/html": [
       "<div>\n",
       "<style scoped>\n",
       "    .dataframe tbody tr th:only-of-type {\n",
       "        vertical-align: middle;\n",
       "    }\n",
       "\n",
       "    .dataframe tbody tr th {\n",
       "        vertical-align: top;\n",
       "    }\n",
       "\n",
       "    .dataframe thead th {\n",
       "        text-align: right;\n",
       "    }\n",
       "</style>\n",
       "<table border=\"1\" class=\"dataframe\">\n",
       "  <thead>\n",
       "    <tr style=\"text-align: right;\">\n",
       "      <th></th>\n",
       "      <th>pickup_hour</th>\n",
       "      <th>rides</th>\n",
       "      <th>pickup_location_id</th>\n",
       "      <th>pickup_ts</th>\n",
       "    </tr>\n",
       "  </thead>\n",
       "  <tbody>\n",
       "    <tr>\n",
       "      <th>654</th>\n",
       "      <td>2024-08-03 01:00:00+00:00</td>\n",
       "      <td>0</td>\n",
       "      <td>1</td>\n",
       "      <td>1.722647e+12</td>\n",
       "    </tr>\n",
       "    <tr>\n",
       "      <th>655</th>\n",
       "      <td>2024-08-03 02:00:00+00:00</td>\n",
       "      <td>1</td>\n",
       "      <td>1</td>\n",
       "      <td>1.722650e+12</td>\n",
       "    </tr>\n",
       "    <tr>\n",
       "      <th>656</th>\n",
       "      <td>2024-08-03 03:00:00+00:00</td>\n",
       "      <td>0</td>\n",
       "      <td>1</td>\n",
       "      <td>1.722654e+12</td>\n",
       "    </tr>\n",
       "    <tr>\n",
       "      <th>657</th>\n",
       "      <td>2024-08-03 04:00:00+00:00</td>\n",
       "      <td>0</td>\n",
       "      <td>1</td>\n",
       "      <td>1.722658e+12</td>\n",
       "    </tr>\n",
       "    <tr>\n",
       "      <th>658</th>\n",
       "      <td>2024-08-03 05:00:00+00:00</td>\n",
       "      <td>0</td>\n",
       "      <td>1</td>\n",
       "      <td>1.722661e+12</td>\n",
       "    </tr>\n",
       "    <tr>\n",
       "      <th>...</th>\n",
       "      <td>...</td>\n",
       "      <td>...</td>\n",
       "      <td>...</td>\n",
       "      <td>...</td>\n",
       "    </tr>\n",
       "    <tr>\n",
       "      <th>534235</th>\n",
       "      <td>2024-09-28 14:00:00+00:00</td>\n",
       "      <td>4</td>\n",
       "      <td>265</td>\n",
       "      <td>1.727532e+12</td>\n",
       "    </tr>\n",
       "    <tr>\n",
       "      <th>534236</th>\n",
       "      <td>2024-09-28 15:00:00+00:00</td>\n",
       "      <td>2</td>\n",
       "      <td>265</td>\n",
       "      <td>1.727536e+12</td>\n",
       "    </tr>\n",
       "    <tr>\n",
       "      <th>534237</th>\n",
       "      <td>2024-09-28 16:00:00+00:00</td>\n",
       "      <td>3</td>\n",
       "      <td>265</td>\n",
       "      <td>1.727539e+12</td>\n",
       "    </tr>\n",
       "    <tr>\n",
       "      <th>534238</th>\n",
       "      <td>2024-09-28 17:00:00+00:00</td>\n",
       "      <td>3</td>\n",
       "      <td>265</td>\n",
       "      <td>1.727543e+12</td>\n",
       "    </tr>\n",
       "    <tr>\n",
       "      <th>534239</th>\n",
       "      <td>2024-09-28 18:00:00+00:00</td>\n",
       "      <td>2</td>\n",
       "      <td>265</td>\n",
       "      <td>1.727546e+12</td>\n",
       "    </tr>\n",
       "  </tbody>\n",
       "</table>\n",
       "<p>360930 rows × 4 columns</p>\n",
       "</div>"
      ],
      "text/plain": [
       "                     pickup_hour  rides  pickup_location_id     pickup_ts\n",
       "654    2024-08-03 01:00:00+00:00      0                   1  1.722647e+12\n",
       "655    2024-08-03 02:00:00+00:00      1                   1  1.722650e+12\n",
       "656    2024-08-03 03:00:00+00:00      0                   1  1.722654e+12\n",
       "657    2024-08-03 04:00:00+00:00      0                   1  1.722658e+12\n",
       "658    2024-08-03 05:00:00+00:00      0                   1  1.722661e+12\n",
       "...                          ...    ...                 ...           ...\n",
       "534235 2024-09-28 14:00:00+00:00      4                 265  1.727532e+12\n",
       "534236 2024-09-28 15:00:00+00:00      2                 265  1.727536e+12\n",
       "534237 2024-09-28 16:00:00+00:00      3                 265  1.727539e+12\n",
       "534238 2024-09-28 17:00:00+00:00      3                 265  1.727543e+12\n",
       "534239 2024-09-28 18:00:00+00:00      2                 265  1.727546e+12\n",
       "\n",
       "[360930 rows x 4 columns]"
      ]
     },
     "execution_count": 33,
     "metadata": {},
     "output_type": "execute_result"
    }
   ],
   "source": [
    "ts_data[ts_data['pickup_hour'] > '08-03-2024']"
   ]
  },
  {
   "cell_type": "code",
   "execution_count": 34,
   "metadata": {},
   "outputs": [
    {
     "data": {
      "text/plain": [
       "datetime64[ns, UTC]"
      ]
     },
     "execution_count": 34,
     "metadata": {},
     "output_type": "execute_result"
    }
   ],
   "source": [
    "ts_data['pickup_hour'].dtype"
   ]
  },
  {
   "cell_type": "code",
   "execution_count": 35,
   "metadata": {},
   "outputs": [
    {
     "data": {
      "text/html": [
       "<div>\n",
       "<style scoped>\n",
       "    .dataframe tbody tr th:only-of-type {\n",
       "        vertical-align: middle;\n",
       "    }\n",
       "\n",
       "    .dataframe tbody tr th {\n",
       "        vertical-align: top;\n",
       "    }\n",
       "\n",
       "    .dataframe thead th {\n",
       "        text-align: right;\n",
       "    }\n",
       "</style>\n",
       "<table border=\"1\" class=\"dataframe\">\n",
       "  <thead>\n",
       "    <tr style=\"text-align: right;\">\n",
       "      <th></th>\n",
       "      <th>pickup_hour</th>\n",
       "      <th>rides</th>\n",
       "      <th>pickup_location_id</th>\n",
       "      <th>pickup_ts</th>\n",
       "    </tr>\n",
       "  </thead>\n",
       "  <tbody>\n",
       "    <tr>\n",
       "      <th>0</th>\n",
       "      <td>2024-07-06 19:00:00+00:00</td>\n",
       "      <td>0</td>\n",
       "      <td>1</td>\n",
       "      <td>1.720292e+12</td>\n",
       "    </tr>\n",
       "    <tr>\n",
       "      <th>1</th>\n",
       "      <td>2024-07-06 20:00:00+00:00</td>\n",
       "      <td>1</td>\n",
       "      <td>1</td>\n",
       "      <td>1.720296e+12</td>\n",
       "    </tr>\n",
       "    <tr>\n",
       "      <th>2</th>\n",
       "      <td>2024-07-06 21:00:00+00:00</td>\n",
       "      <td>1</td>\n",
       "      <td>1</td>\n",
       "      <td>1.720300e+12</td>\n",
       "    </tr>\n",
       "    <tr>\n",
       "      <th>3</th>\n",
       "      <td>2024-07-06 22:00:00+00:00</td>\n",
       "      <td>2</td>\n",
       "      <td>1</td>\n",
       "      <td>1.720303e+12</td>\n",
       "    </tr>\n",
       "    <tr>\n",
       "      <th>4</th>\n",
       "      <td>2024-07-06 23:00:00+00:00</td>\n",
       "      <td>0</td>\n",
       "      <td>1</td>\n",
       "      <td>1.720307e+12</td>\n",
       "    </tr>\n",
       "    <tr>\n",
       "      <th>...</th>\n",
       "      <td>...</td>\n",
       "      <td>...</td>\n",
       "      <td>...</td>\n",
       "      <td>...</td>\n",
       "    </tr>\n",
       "    <tr>\n",
       "      <th>534235</th>\n",
       "      <td>2024-09-28 14:00:00+00:00</td>\n",
       "      <td>4</td>\n",
       "      <td>265</td>\n",
       "      <td>1.727532e+12</td>\n",
       "    </tr>\n",
       "    <tr>\n",
       "      <th>534236</th>\n",
       "      <td>2024-09-28 15:00:00+00:00</td>\n",
       "      <td>2</td>\n",
       "      <td>265</td>\n",
       "      <td>1.727536e+12</td>\n",
       "    </tr>\n",
       "    <tr>\n",
       "      <th>534237</th>\n",
       "      <td>2024-09-28 16:00:00+00:00</td>\n",
       "      <td>3</td>\n",
       "      <td>265</td>\n",
       "      <td>1.727539e+12</td>\n",
       "    </tr>\n",
       "    <tr>\n",
       "      <th>534238</th>\n",
       "      <td>2024-09-28 17:00:00+00:00</td>\n",
       "      <td>3</td>\n",
       "      <td>265</td>\n",
       "      <td>1.727543e+12</td>\n",
       "    </tr>\n",
       "    <tr>\n",
       "      <th>534239</th>\n",
       "      <td>2024-09-28 18:00:00+00:00</td>\n",
       "      <td>2</td>\n",
       "      <td>265</td>\n",
       "      <td>1.727546e+12</td>\n",
       "    </tr>\n",
       "  </tbody>\n",
       "</table>\n",
       "<p>534240 rows × 4 columns</p>\n",
       "</div>"
      ],
      "text/plain": [
       "                     pickup_hour  rides  pickup_location_id     pickup_ts\n",
       "0      2024-07-06 19:00:00+00:00      0                   1  1.720292e+12\n",
       "1      2024-07-06 20:00:00+00:00      1                   1  1.720296e+12\n",
       "2      2024-07-06 21:00:00+00:00      1                   1  1.720300e+12\n",
       "3      2024-07-06 22:00:00+00:00      2                   1  1.720303e+12\n",
       "4      2024-07-06 23:00:00+00:00      0                   1  1.720307e+12\n",
       "...                          ...    ...                 ...           ...\n",
       "534235 2024-09-28 14:00:00+00:00      4                 265  1.727532e+12\n",
       "534236 2024-09-28 15:00:00+00:00      2                 265  1.727536e+12\n",
       "534237 2024-09-28 16:00:00+00:00      3                 265  1.727539e+12\n",
       "534238 2024-09-28 17:00:00+00:00      3                 265  1.727543e+12\n",
       "534239 2024-09-28 18:00:00+00:00      2                 265  1.727546e+12\n",
       "\n",
       "[534240 rows x 4 columns]"
      ]
     },
     "execution_count": 35,
     "metadata": {},
     "output_type": "execute_result"
    }
   ],
   "source": [
    "ts_data"
   ]
  },
  {
   "cell_type": "markdown",
   "metadata": {},
   "source": [
    "##### Connect to Feature Store/Feature Group"
   ]
  },
  {
   "cell_type": "markdown",
   "metadata": {},
   "source": [
    "This is where we will connect this new data to our feature group."
   ]
  },
  {
   "cell_type": "code",
   "execution_count": 36,
   "metadata": {},
   "outputs": [
    {
     "name": "stdout",
     "output_type": "stream",
     "text": [
      "Connection closed.\n",
      "Connected. Call `.close()` to terminate connection gracefully.\n",
      "\n",
      "Logged in to project, explore it here https://c.app.hopsworks.ai:443/p/1049751\n",
      "Connected. Call `.close()` to terminate connection gracefully.\n"
     ]
    }
   ],
   "source": [
    "import hopsworks\n",
    "\n",
    "# connect to project \n",
    "project = hopsworks.login(\n",
    "    project = config.HOPSWORKS_PROJECT_NAME,\n",
    "    api_key_value = config.HOPSWORKS_API_KEY\n",
    ")\n",
    "\n",
    "# get feature store\n",
    "feature_store = project.get_feature_store()\n",
    "\n",
    "# connect to feature group\n",
    "feature_group = feature_store.get_or_create_feature_group(\n",
    "    name=config.FEATURE_GROUP_NAME,\n",
    "    version=config.FEATURE_GROUP_VERSION,\n",
    "    description='Hourly time series data',\n",
    "    primary_key=['pickup_location_id', 'pickup_ts'],\n",
    "    event_time='pickup_ts'\n",
    ")\n"
   ]
  },
  {
   "cell_type": "code",
   "execution_count": 37,
   "metadata": {},
   "outputs": [
    {
     "name": "stdout",
     "output_type": "stream",
     "text": [
      "<class 'pandas.core.frame.DataFrame'>\n",
      "RangeIndex: 534240 entries, 0 to 534239\n",
      "Data columns (total 4 columns):\n",
      " #   Column              Non-Null Count   Dtype              \n",
      "---  ------              --------------   -----              \n",
      " 0   pickup_hour         534240 non-null  datetime64[ns, UTC]\n",
      " 1   rides               534240 non-null  int64              \n",
      " 2   pickup_location_id  534240 non-null  int64              \n",
      " 3   pickup_ts           534240 non-null  float64            \n",
      "dtypes: datetime64[ns, UTC](1), float64(1), int64(2)\n",
      "memory usage: 16.3 MB\n"
     ]
    }
   ],
   "source": [
    "ts_data.info()"
   ]
  },
  {
   "cell_type": "code",
   "execution_count": 38,
   "metadata": {},
   "outputs": [
    {
     "data": {
      "application/vnd.jupyter.widget-view+json": {
       "model_id": "b50489812e784291abd991587b5ba44d",
       "version_major": 2,
       "version_minor": 0
      },
      "text/plain": [
       "Uploading Dataframe: 0.00% |          | Rows 0/534240 | Elapsed Time: 00:00 | Remaining Time: ?"
      ]
     },
     "metadata": {},
     "output_type": "display_data"
    },
    {
     "name": "stdout",
     "output_type": "stream",
     "text": [
      "Launching job: time_series_hourly_feature_group_2_offline_fg_materialization\n",
      "Job started successfully, you can follow the progress at \n",
      "https://c.app.hopsworks.ai/p/1049751/jobs/named/time_series_hourly_feature_group_2_offline_fg_materialization/executions\n"
     ]
    },
    {
     "data": {
      "text/plain": [
       "(<hsfs.core.job.Job at 0x1c8a5a9ac50>, None)"
      ]
     },
     "execution_count": 38,
     "metadata": {},
     "output_type": "execute_result"
    }
   ],
   "source": [
    "# insert this data to the feature group\n",
    "feature_group.insert(ts_data, write_options={'wait_for_job':False})"
   ]
  },
  {
   "cell_type": "markdown",
   "metadata": {},
   "source": [
    "#### Automate Running Every Hour"
   ]
  },
  {
   "cell_type": "markdown",
   "metadata": {},
   "source": [
    "we want this notebook to automatically run every hour. We will do this using GitHub actions. This is done by creating a **.github/workflows** folder which is placed in the parent directory. In this folder we will create a YAML file called **feature_workflows.yaml**. View the file to see the sytax. Help with the syntax can be found at the following links:\n",
    "\n",
    "+ https://docs.github.com/en/actions/use-cases-and-examples/creating-an-example-workflow\n",
    "\n",
    "+ https://spacelift.io/blog/github-actions-tutorial\n",
    "\n",
    "+ https://docs.github.com/en/actions/writing-workflows/workflow-syntax-for-github-actions\n",
    "\n",
    "+ https://docs.github.com/en/actions/writing-workflows/quickstart\n"
   ]
  }
 ],
 "metadata": {
  "kernelspec": {
   "display_name": ".venv",
   "language": "python",
   "name": "python3"
  },
  "language_info": {
   "codemirror_mode": {
    "name": "ipython",
    "version": 3
   },
   "file_extension": ".py",
   "mimetype": "text/x-python",
   "name": "python",
   "nbconvert_exporter": "python",
   "pygments_lexer": "ipython3",
   "version": "3.10.9"
  }
 },
 "nbformat": 4,
 "nbformat_minor": 2
}
