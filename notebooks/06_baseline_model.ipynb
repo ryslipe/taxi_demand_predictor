{
 "cells": [
  {
   "cell_type": "markdown",
   "metadata": {},
   "source": [
    "## Create a Baseline Model"
   ]
  },
  {
   "cell_type": "code",
   "execution_count": 2,
   "metadata": {},
   "outputs": [
    {
     "data": {
      "text/html": [
       "<div>\n",
       "<style scoped>\n",
       "    .dataframe tbody tr th:only-of-type {\n",
       "        vertical-align: middle;\n",
       "    }\n",
       "\n",
       "    .dataframe tbody tr th {\n",
       "        vertical-align: top;\n",
       "    }\n",
       "\n",
       "    .dataframe thead th {\n",
       "        text-align: right;\n",
       "    }\n",
       "</style>\n",
       "<table border=\"1\" class=\"dataframe\">\n",
       "  <thead>\n",
       "    <tr style=\"text-align: right;\">\n",
       "      <th></th>\n",
       "      <th>rides_previous_672_hour</th>\n",
       "      <th>rides_previous_671_hour</th>\n",
       "      <th>rides_previous_670_hour</th>\n",
       "      <th>rides_previous_669_hour</th>\n",
       "      <th>rides_previous_668_hour</th>\n",
       "      <th>rides_previous_667_hour</th>\n",
       "      <th>rides_previous_666_hour</th>\n",
       "      <th>rides_previous_665_hour</th>\n",
       "      <th>rides_previous_664_hour</th>\n",
       "      <th>rides_previous_663_hour</th>\n",
       "      <th>...</th>\n",
       "      <th>rides_previous_7_hour</th>\n",
       "      <th>rides_previous_6_hour</th>\n",
       "      <th>rides_previous_5_hour</th>\n",
       "      <th>rides_previous_4_hour</th>\n",
       "      <th>rides_previous_3_hour</th>\n",
       "      <th>rides_previous_2_hour</th>\n",
       "      <th>rides_previous_1_hour</th>\n",
       "      <th>pickup_hour</th>\n",
       "      <th>pickup_location_id</th>\n",
       "      <th>target_rides_next_hour</th>\n",
       "    </tr>\n",
       "  </thead>\n",
       "  <tbody>\n",
       "    <tr>\n",
       "      <th>0</th>\n",
       "      <td>0.0</td>\n",
       "      <td>0.0</td>\n",
       "      <td>0.0</td>\n",
       "      <td>0.0</td>\n",
       "      <td>1.0</td>\n",
       "      <td>1.0</td>\n",
       "      <td>0.0</td>\n",
       "      <td>2.0</td>\n",
       "      <td>0.0</td>\n",
       "      <td>0.0</td>\n",
       "      <td>...</td>\n",
       "      <td>2.0</td>\n",
       "      <td>0.0</td>\n",
       "      <td>1.0</td>\n",
       "      <td>0.0</td>\n",
       "      <td>0.0</td>\n",
       "      <td>0.0</td>\n",
       "      <td>0.0</td>\n",
       "      <td>2022-01-29</td>\n",
       "      <td>1</td>\n",
       "      <td>0.0</td>\n",
       "    </tr>\n",
       "    <tr>\n",
       "      <th>1</th>\n",
       "      <td>0.0</td>\n",
       "      <td>0.0</td>\n",
       "      <td>0.0</td>\n",
       "      <td>0.0</td>\n",
       "      <td>0.0</td>\n",
       "      <td>4.0</td>\n",
       "      <td>1.0</td>\n",
       "      <td>2.0</td>\n",
       "      <td>1.0</td>\n",
       "      <td>2.0</td>\n",
       "      <td>...</td>\n",
       "      <td>0.0</td>\n",
       "      <td>0.0</td>\n",
       "      <td>0.0</td>\n",
       "      <td>0.0</td>\n",
       "      <td>1.0</td>\n",
       "      <td>0.0</td>\n",
       "      <td>0.0</td>\n",
       "      <td>2022-01-30</td>\n",
       "      <td>1</td>\n",
       "      <td>0.0</td>\n",
       "    </tr>\n",
       "    <tr>\n",
       "      <th>2</th>\n",
       "      <td>0.0</td>\n",
       "      <td>0.0</td>\n",
       "      <td>0.0</td>\n",
       "      <td>0.0</td>\n",
       "      <td>0.0</td>\n",
       "      <td>0.0</td>\n",
       "      <td>0.0</td>\n",
       "      <td>2.0</td>\n",
       "      <td>0.0</td>\n",
       "      <td>0.0</td>\n",
       "      <td>...</td>\n",
       "      <td>0.0</td>\n",
       "      <td>1.0</td>\n",
       "      <td>2.0</td>\n",
       "      <td>0.0</td>\n",
       "      <td>0.0</td>\n",
       "      <td>0.0</td>\n",
       "      <td>0.0</td>\n",
       "      <td>2022-01-31</td>\n",
       "      <td>1</td>\n",
       "      <td>0.0</td>\n",
       "    </tr>\n",
       "    <tr>\n",
       "      <th>3</th>\n",
       "      <td>0.0</td>\n",
       "      <td>0.0</td>\n",
       "      <td>0.0</td>\n",
       "      <td>0.0</td>\n",
       "      <td>0.0</td>\n",
       "      <td>0.0</td>\n",
       "      <td>0.0</td>\n",
       "      <td>0.0</td>\n",
       "      <td>1.0</td>\n",
       "      <td>1.0</td>\n",
       "      <td>...</td>\n",
       "      <td>2.0</td>\n",
       "      <td>1.0</td>\n",
       "      <td>0.0</td>\n",
       "      <td>1.0</td>\n",
       "      <td>1.0</td>\n",
       "      <td>0.0</td>\n",
       "      <td>0.0</td>\n",
       "      <td>2022-02-01</td>\n",
       "      <td>1</td>\n",
       "      <td>0.0</td>\n",
       "    </tr>\n",
       "    <tr>\n",
       "      <th>4</th>\n",
       "      <td>0.0</td>\n",
       "      <td>0.0</td>\n",
       "      <td>0.0</td>\n",
       "      <td>0.0</td>\n",
       "      <td>0.0</td>\n",
       "      <td>0.0</td>\n",
       "      <td>0.0</td>\n",
       "      <td>0.0</td>\n",
       "      <td>0.0</td>\n",
       "      <td>0.0</td>\n",
       "      <td>...</td>\n",
       "      <td>0.0</td>\n",
       "      <td>0.0</td>\n",
       "      <td>0.0</td>\n",
       "      <td>0.0</td>\n",
       "      <td>0.0</td>\n",
       "      <td>0.0</td>\n",
       "      <td>0.0</td>\n",
       "      <td>2022-02-02</td>\n",
       "      <td>1</td>\n",
       "      <td>0.0</td>\n",
       "    </tr>\n",
       "    <tr>\n",
       "      <th>...</th>\n",
       "      <td>...</td>\n",
       "      <td>...</td>\n",
       "      <td>...</td>\n",
       "      <td>...</td>\n",
       "      <td>...</td>\n",
       "      <td>...</td>\n",
       "      <td>...</td>\n",
       "      <td>...</td>\n",
       "      <td>...</td>\n",
       "      <td>...</td>\n",
       "      <td>...</td>\n",
       "      <td>...</td>\n",
       "      <td>...</td>\n",
       "      <td>...</td>\n",
       "      <td>...</td>\n",
       "      <td>...</td>\n",
       "      <td>...</td>\n",
       "      <td>...</td>\n",
       "      <td>...</td>\n",
       "      <td>...</td>\n",
       "      <td>...</td>\n",
       "    </tr>\n",
       "    <tr>\n",
       "      <th>89300</th>\n",
       "      <td>3.0</td>\n",
       "      <td>0.0</td>\n",
       "      <td>2.0</td>\n",
       "      <td>3.0</td>\n",
       "      <td>2.0</td>\n",
       "      <td>3.0</td>\n",
       "      <td>13.0</td>\n",
       "      <td>8.0</td>\n",
       "      <td>9.0</td>\n",
       "      <td>9.0</td>\n",
       "      <td>...</td>\n",
       "      <td>6.0</td>\n",
       "      <td>5.0</td>\n",
       "      <td>3.0</td>\n",
       "      <td>1.0</td>\n",
       "      <td>6.0</td>\n",
       "      <td>1.0</td>\n",
       "      <td>3.0</td>\n",
       "      <td>2022-12-27</td>\n",
       "      <td>265</td>\n",
       "      <td>3.0</td>\n",
       "    </tr>\n",
       "    <tr>\n",
       "      <th>89301</th>\n",
       "      <td>6.0</td>\n",
       "      <td>4.0</td>\n",
       "      <td>0.0</td>\n",
       "      <td>0.0</td>\n",
       "      <td>2.0</td>\n",
       "      <td>0.0</td>\n",
       "      <td>14.0</td>\n",
       "      <td>7.0</td>\n",
       "      <td>8.0</td>\n",
       "      <td>4.0</td>\n",
       "      <td>...</td>\n",
       "      <td>4.0</td>\n",
       "      <td>2.0</td>\n",
       "      <td>1.0</td>\n",
       "      <td>2.0</td>\n",
       "      <td>2.0</td>\n",
       "      <td>2.0</td>\n",
       "      <td>8.0</td>\n",
       "      <td>2022-12-28</td>\n",
       "      <td>265</td>\n",
       "      <td>1.0</td>\n",
       "    </tr>\n",
       "    <tr>\n",
       "      <th>89302</th>\n",
       "      <td>7.0</td>\n",
       "      <td>2.0</td>\n",
       "      <td>3.0</td>\n",
       "      <td>4.0</td>\n",
       "      <td>7.0</td>\n",
       "      <td>4.0</td>\n",
       "      <td>10.0</td>\n",
       "      <td>9.0</td>\n",
       "      <td>7.0</td>\n",
       "      <td>11.0</td>\n",
       "      <td>...</td>\n",
       "      <td>2.0</td>\n",
       "      <td>3.0</td>\n",
       "      <td>5.0</td>\n",
       "      <td>1.0</td>\n",
       "      <td>1.0</td>\n",
       "      <td>0.0</td>\n",
       "      <td>8.0</td>\n",
       "      <td>2022-12-29</td>\n",
       "      <td>265</td>\n",
       "      <td>3.0</td>\n",
       "    </tr>\n",
       "    <tr>\n",
       "      <th>89303</th>\n",
       "      <td>6.0</td>\n",
       "      <td>5.0</td>\n",
       "      <td>4.0</td>\n",
       "      <td>3.0</td>\n",
       "      <td>0.0</td>\n",
       "      <td>3.0</td>\n",
       "      <td>11.0</td>\n",
       "      <td>12.0</td>\n",
       "      <td>9.0</td>\n",
       "      <td>10.0</td>\n",
       "      <td>...</td>\n",
       "      <td>3.0</td>\n",
       "      <td>3.0</td>\n",
       "      <td>1.0</td>\n",
       "      <td>2.0</td>\n",
       "      <td>0.0</td>\n",
       "      <td>1.0</td>\n",
       "      <td>2.0</td>\n",
       "      <td>2022-12-30</td>\n",
       "      <td>265</td>\n",
       "      <td>7.0</td>\n",
       "    </tr>\n",
       "    <tr>\n",
       "      <th>89304</th>\n",
       "      <td>6.0</td>\n",
       "      <td>6.0</td>\n",
       "      <td>4.0</td>\n",
       "      <td>2.0</td>\n",
       "      <td>5.0</td>\n",
       "      <td>1.0</td>\n",
       "      <td>0.0</td>\n",
       "      <td>3.0</td>\n",
       "      <td>5.0</td>\n",
       "      <td>8.0</td>\n",
       "      <td>...</td>\n",
       "      <td>6.0</td>\n",
       "      <td>4.0</td>\n",
       "      <td>2.0</td>\n",
       "      <td>5.0</td>\n",
       "      <td>1.0</td>\n",
       "      <td>1.0</td>\n",
       "      <td>7.0</td>\n",
       "      <td>2022-12-31</td>\n",
       "      <td>265</td>\n",
       "      <td>3.0</td>\n",
       "    </tr>\n",
       "  </tbody>\n",
       "</table>\n",
       "<p>89305 rows × 675 columns</p>\n",
       "</div>"
      ],
      "text/plain": [
       "       rides_previous_672_hour  rides_previous_671_hour  \\\n",
       "0                          0.0                      0.0   \n",
       "1                          0.0                      0.0   \n",
       "2                          0.0                      0.0   \n",
       "3                          0.0                      0.0   \n",
       "4                          0.0                      0.0   \n",
       "...                        ...                      ...   \n",
       "89300                      3.0                      0.0   \n",
       "89301                      6.0                      4.0   \n",
       "89302                      7.0                      2.0   \n",
       "89303                      6.0                      5.0   \n",
       "89304                      6.0                      6.0   \n",
       "\n",
       "       rides_previous_670_hour  rides_previous_669_hour  \\\n",
       "0                          0.0                      0.0   \n",
       "1                          0.0                      0.0   \n",
       "2                          0.0                      0.0   \n",
       "3                          0.0                      0.0   \n",
       "4                          0.0                      0.0   \n",
       "...                        ...                      ...   \n",
       "89300                      2.0                      3.0   \n",
       "89301                      0.0                      0.0   \n",
       "89302                      3.0                      4.0   \n",
       "89303                      4.0                      3.0   \n",
       "89304                      4.0                      2.0   \n",
       "\n",
       "       rides_previous_668_hour  rides_previous_667_hour  \\\n",
       "0                          1.0                      1.0   \n",
       "1                          0.0                      4.0   \n",
       "2                          0.0                      0.0   \n",
       "3                          0.0                      0.0   \n",
       "4                          0.0                      0.0   \n",
       "...                        ...                      ...   \n",
       "89300                      2.0                      3.0   \n",
       "89301                      2.0                      0.0   \n",
       "89302                      7.0                      4.0   \n",
       "89303                      0.0                      3.0   \n",
       "89304                      5.0                      1.0   \n",
       "\n",
       "       rides_previous_666_hour  rides_previous_665_hour  \\\n",
       "0                          0.0                      2.0   \n",
       "1                          1.0                      2.0   \n",
       "2                          0.0                      2.0   \n",
       "3                          0.0                      0.0   \n",
       "4                          0.0                      0.0   \n",
       "...                        ...                      ...   \n",
       "89300                     13.0                      8.0   \n",
       "89301                     14.0                      7.0   \n",
       "89302                     10.0                      9.0   \n",
       "89303                     11.0                     12.0   \n",
       "89304                      0.0                      3.0   \n",
       "\n",
       "       rides_previous_664_hour  rides_previous_663_hour  ...  \\\n",
       "0                          0.0                      0.0  ...   \n",
       "1                          1.0                      2.0  ...   \n",
       "2                          0.0                      0.0  ...   \n",
       "3                          1.0                      1.0  ...   \n",
       "4                          0.0                      0.0  ...   \n",
       "...                        ...                      ...  ...   \n",
       "89300                      9.0                      9.0  ...   \n",
       "89301                      8.0                      4.0  ...   \n",
       "89302                      7.0                     11.0  ...   \n",
       "89303                      9.0                     10.0  ...   \n",
       "89304                      5.0                      8.0  ...   \n",
       "\n",
       "       rides_previous_7_hour  rides_previous_6_hour  rides_previous_5_hour  \\\n",
       "0                        2.0                    0.0                    1.0   \n",
       "1                        0.0                    0.0                    0.0   \n",
       "2                        0.0                    1.0                    2.0   \n",
       "3                        2.0                    1.0                    0.0   \n",
       "4                        0.0                    0.0                    0.0   \n",
       "...                      ...                    ...                    ...   \n",
       "89300                    6.0                    5.0                    3.0   \n",
       "89301                    4.0                    2.0                    1.0   \n",
       "89302                    2.0                    3.0                    5.0   \n",
       "89303                    3.0                    3.0                    1.0   \n",
       "89304                    6.0                    4.0                    2.0   \n",
       "\n",
       "       rides_previous_4_hour  rides_previous_3_hour  rides_previous_2_hour  \\\n",
       "0                        0.0                    0.0                    0.0   \n",
       "1                        0.0                    1.0                    0.0   \n",
       "2                        0.0                    0.0                    0.0   \n",
       "3                        1.0                    1.0                    0.0   \n",
       "4                        0.0                    0.0                    0.0   \n",
       "...                      ...                    ...                    ...   \n",
       "89300                    1.0                    6.0                    1.0   \n",
       "89301                    2.0                    2.0                    2.0   \n",
       "89302                    1.0                    1.0                    0.0   \n",
       "89303                    2.0                    0.0                    1.0   \n",
       "89304                    5.0                    1.0                    1.0   \n",
       "\n",
       "       rides_previous_1_hour  pickup_hour  pickup_location_id  \\\n",
       "0                        0.0   2022-01-29                   1   \n",
       "1                        0.0   2022-01-30                   1   \n",
       "2                        0.0   2022-01-31                   1   \n",
       "3                        0.0   2022-02-01                   1   \n",
       "4                        0.0   2022-02-02                   1   \n",
       "...                      ...          ...                 ...   \n",
       "89300                    3.0   2022-12-27                 265   \n",
       "89301                    8.0   2022-12-28                 265   \n",
       "89302                    8.0   2022-12-29                 265   \n",
       "89303                    2.0   2022-12-30                 265   \n",
       "89304                    7.0   2022-12-31                 265   \n",
       "\n",
       "       target_rides_next_hour  \n",
       "0                         0.0  \n",
       "1                         0.0  \n",
       "2                         0.0  \n",
       "3                         0.0  \n",
       "4                         0.0  \n",
       "...                       ...  \n",
       "89300                     3.0  \n",
       "89301                     1.0  \n",
       "89302                     3.0  \n",
       "89303                     7.0  \n",
       "89304                     3.0  \n",
       "\n",
       "[89305 rows x 675 columns]"
      ]
     },
     "execution_count": 2,
     "metadata": {},
     "output_type": "execute_result"
    }
   ],
   "source": [
    "import pandas as pd\n",
    "from src.paths import TRANSFORMED_DATA_DIR\n",
    "\n",
    "df = pd.read_parquet(TRANSFORMED_DATA_DIR / 'tabular_data.parquet')\n",
    "df"
   ]
  },
  {
   "cell_type": "markdown",
   "metadata": {},
   "source": [
    "#### Split into Training and Testing"
   ]
  },
  {
   "cell_type": "markdown",
   "metadata": {},
   "source": [
    "Now we will split the data into training and testing. We will not use the popular train_test_split from sklearn because we have created our own that will not split the data randomly but will instead split by a specified **cutoff_date**."
   ]
  },
  {
   "cell_type": "code",
   "execution_count": 3,
   "metadata": {},
   "outputs": [
    {
     "name": "stdout",
     "output_type": "stream",
     "text": [
      "(32595, 674)\n",
      "(32595,)\n",
      "(56710, 674)\n",
      "(56710,)\n"
     ]
    }
   ],
   "source": [
    "from src.data_split import train_test_split\n",
    "from datetime import datetime\n",
    "\n",
    "# cutoff_date must be datetime()\n",
    "X_train, y_train, X_test, y_test = train_test_split(df,\n",
    "                                                    cutoff_date=datetime(2022, 6, 1, 0, 0, 0),\n",
    "                                                    target_column_name= 'target_rides_next_hour'\n",
    "                                                    )\n",
    "\n",
    "print(f'{X_train.shape}')\n",
    "print(f'{y_train.shape}')\n",
    "print(f'{X_test.shape}')\n",
    "print(f'{y_test.shape}')\n"
   ]
  },
  {
   "cell_type": "markdown",
   "metadata": {},
   "source": [
    "#### First Baseline Model - Predict Using Last Hour"
   ]
  },
  {
   "cell_type": "markdown",
   "metadata": {},
   "source": [
    "Since this is our first baseline model we are going to make this model very simple. We are going to predict the taxi demand to be the demand that it was in the previous hour. We do this by making a class. Normally most of my code uses functions but we want this to follow the same structure of our next models which will be classes with fit and predict options.\n",
    "\n",
    "This class will have fit and predict methods within it. The fit method will actually do nothing since our model is so simple that it will not have to be trained. The predict method will just have to return the **rides_previous_1_hour** column for each value in our **X_test** data. "
   ]
  },
  {
   "cell_type": "code",
   "execution_count": 4,
   "metadata": {},
   "outputs": [],
   "source": [
    "import numpy as np\n",
    "\n",
    "class BaselineModelPreviousHour:\n",
    "    '''class for baseline 1 model'''\n",
    "    def fit(self, X_train: pd.DataFrame, y_train: pd.Series):\n",
    "        # this model is very simple and does nothing \n",
    "        pass\n",
    "\n",
    "    def predict(self, X_test: pd.DataFrame) -> np.array:\n",
    "        # just return the rides from the previous hour\n",
    "        return X_test[f'rides_previous_1_hour']\n",
    "\n",
    "\n"
   ]
  },
  {
   "cell_type": "code",
   "execution_count": 5,
   "metadata": {},
   "outputs": [
    {
     "data": {
      "text/plain": [
       "0        0.0\n",
       "1        0.0\n",
       "2        0.0\n",
       "3        0.0\n",
       "4        0.0\n",
       "        ... \n",
       "56705    3.0\n",
       "56706    8.0\n",
       "56707    8.0\n",
       "56708    2.0\n",
       "56709    7.0\n",
       "Name: rides_previous_1_hour, Length: 56710, dtype: float32"
      ]
     },
     "execution_count": 5,
     "metadata": {},
     "output_type": "execute_result"
    }
   ],
   "source": [
    "# instantiate the class \n",
    "model = BaselineModelPreviousHour()\n",
    "# make predictions - just the rides_previous_1_hour column of that row\n",
    "predictions = model.predict(X_test)\n",
    "# view\n",
    "predictions"
   ]
  },
  {
   "cell_type": "markdown",
   "metadata": {},
   "source": [
    "##### Error Metric - MAE"
   ]
  },
  {
   "cell_type": "markdown",
   "metadata": {},
   "source": [
    "Average absolute difference between predicted values and actual values. This means on average our demand is off by 6.05 units, or rides. The mean number of rides is roughly 12 so this is a very bad model. The number 6 may not seem like a lot but when the average number of rides is only 12 it means we are off by a lot. "
   ]
  },
  {
   "cell_type": "code",
   "execution_count": 7,
   "metadata": {},
   "outputs": [
    {
     "data": {
      "text/plain": [
       "np.float32(11.848051)"
      ]
     },
     "execution_count": 7,
     "metadata": {},
     "output_type": "execute_result"
    }
   ],
   "source": [
    "y_test.mean()"
   ]
  },
  {
   "cell_type": "code",
   "execution_count": 6,
   "metadata": {},
   "outputs": [
    {
     "name": "stdout",
     "output_type": "stream",
     "text": [
      "test_mea=6.0558\n"
     ]
    }
   ],
   "source": [
    "from sklearn.metrics import mean_absolute_error\n",
    "\n",
    "test_mea = mean_absolute_error(y_test, predictions)\n",
    "print(f'{test_mea=:.4f}')"
   ]
  },
  {
   "cell_type": "markdown",
   "metadata": {},
   "source": [
    "#### Second Baseline Model - Use Last Week's Demand"
   ]
  },
  {
   "cell_type": "markdown",
   "metadata": {},
   "source": [
    "This model will use the value of last week's demand for this week's demand. This model has an MAE of 3.68 which is much better than the original model. We thought this would be the case when we viewed the central park time series because there was weekly seasonality present in the data. This goes to show that EDA is important."
   ]
  },
  {
   "cell_type": "code",
   "execution_count": 8,
   "metadata": {},
   "outputs": [],
   "source": [
    "class BaselineModelPreviousWeek:\n",
    "    def fit(self, X_train: pd.DataFrame, y_train: pd.Series):\n",
    "        pass\n",
    "\n",
    "    def predict(self, X_test: pd.DataFrame) -> np.array:\n",
    "        '''remember rides_previous_#_hour works backwards from todays demand.'''\n",
    "        return X_test[f'rides_previous_{7*24}_hour']\n",
    "    \n",
    "    "
   ]
  },
  {
   "cell_type": "code",
   "execution_count": 9,
   "metadata": {},
   "outputs": [],
   "source": [
    "# create object from second baseline class\n",
    "model = BaselineModelPreviousWeek()\n",
    "predictions = model.predict(X_test)\n"
   ]
  },
  {
   "cell_type": "code",
   "execution_count": 10,
   "metadata": {},
   "outputs": [
    {
     "name": "stdout",
     "output_type": "stream",
     "text": [
      "test_mae=3.6811\n"
     ]
    }
   ],
   "source": [
    "# check the mae - the = inside the curly brackets tells python to include the variable name in the print statement.\n",
    "test_mae = mean_absolute_error(y_test, predictions)\n",
    "print(f'{test_mae=:.4f}')"
   ]
  },
  {
   "cell_type": "markdown",
   "metadata": {},
   "source": [
    "Another option would be to create a model based on the previous days demand but this model will not be as good as last week because weekends will have more demand than weekdays so going based on the previous week is better. "
   ]
  },
  {
   "cell_type": "code",
   "execution_count": 13,
   "metadata": {},
   "outputs": [],
   "source": [
    "class Baseline24:\n",
    "    def fit(self, X_train: pd.DataFrame, y_train: pd.Series):\n",
    "        pass\n",
    "\n",
    "    def predict(self, X_test: pd.DataFrame) -> np.array:\n",
    "        '''remember rides_previous_#_hour works backwards from todays demand.'''\n",
    "        return X_test[f'rides_previous_{1*24}_hour']"
   ]
  },
  {
   "cell_type": "code",
   "execution_count": 14,
   "metadata": {},
   "outputs": [
    {
     "name": "stdout",
     "output_type": "stream",
     "text": [
      "test_mae=5.3327\n"
     ]
    }
   ],
   "source": [
    "# create object from second baseline class\n",
    "model = Baseline24()\n",
    "predictions = model.predict(X_test)\n",
    "test_mae = mean_absolute_error(y_test, predictions)\n",
    "print(f'{test_mae=:.4f}')"
   ]
  },
  {
   "cell_type": "markdown",
   "metadata": {},
   "source": [
    "#### Third Baseline Model - Last 4 Week's Average"
   ]
  },
  {
   "cell_type": "markdown",
   "metadata": {},
   "source": [
    "For this baseline model, we will build on our weekly seasonality intuition by getting the average over the last 4 weeks. This model performs the best out of our baseline models."
   ]
  },
  {
   "cell_type": "code",
   "execution_count": 27,
   "metadata": {},
   "outputs": [],
   "source": [
    "class BaselineModelPrevious4Weeks():\n",
    "    def fit(self, X_train: pd.DataFrame, y_train:pd.Series):\n",
    "        pass\n",
    "\n",
    "    def predict(self, X_test: pd.DataFrame) -> np.array:\n",
    "        return (X_test[f'rides_previous_{7*24}_hour'] + \\\n",
    "        X_test[f'rides_previous_{14*24}_hour'] + \\\n",
    "        X_test[f'rides_previous_{21*24}_hour'] + \\\n",
    "        X_test[f'rides_previous_{28*24}_hour']) / 4"
   ]
  },
  {
   "cell_type": "code",
   "execution_count": 28,
   "metadata": {},
   "outputs": [
    {
     "name": "stdout",
     "output_type": "stream",
     "text": [
      "test_mae=3.1963\n"
     ]
    }
   ],
   "source": [
    "model = BaselineModelPrevious4Weeks()\n",
    "predictions = model.predict(X_test)\n",
    "test_mae = mean_absolute_error(y_test, predictions)\n",
    "print(f'{test_mae=:.4f}')"
   ]
  }
 ],
 "metadata": {
  "kernelspec": {
   "display_name": ".venv",
   "language": "python",
   "name": "python3"
  },
  "language_info": {
   "codemirror_mode": {
    "name": "ipython",
    "version": 3
   },
   "file_extension": ".py",
   "mimetype": "text/x-python",
   "name": "python",
   "nbconvert_exporter": "python",
   "pygments_lexer": "ipython3",
   "version": "3.10.9"
  }
 },
 "nbformat": 4,
 "nbformat_minor": 2
}
